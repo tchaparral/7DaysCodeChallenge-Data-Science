{
 "cells": [
  {
   "cell_type": "markdown",
   "metadata": {},
   "source": [
    "Importando Bibliotecas"
   ]
  },
  {
   "cell_type": "code",
   "execution_count": 1,
   "metadata": {},
   "outputs": [],
   "source": [
    "import pandas as pd # pandas clássico!\n",
    "import glob # para importar csv de forma massiva"
   ]
  },
  {
   "cell_type": "markdown",
   "metadata": {},
   "source": [
    "Importando Dados - Empréstimos"
   ]
  },
  {
   "cell_type": "code",
   "execution_count": 2,
   "metadata": {},
   "outputs": [
    {
     "name": "stderr",
     "output_type": "stream",
     "text": [
      "<>:3: SyntaxWarning: invalid escape sequence '\\d'\n",
      "<>:3: SyntaxWarning: invalid escape sequence '\\d'\n",
      "C:\\Users\\corre\\AppData\\Local\\Temp\\ipykernel_12524\\2094421833.py:3: SyntaxWarning: invalid escape sequence '\\d'\n",
      "  path = '.\\dataset\\dados_emprestimos\\*.csv' # Caminho dos arquivos csv\n"
     ]
    }
   ],
   "source": [
    "# Importanto dados de empréstimo\n",
    "\n",
    "path = '.\\dataset\\dados_emprestimos\\*.csv' # Caminho dos arquivos csv\n",
    "\n",
    "csv_files = glob.glob(path) # Scan de todos os csvs\n",
    "\n",
    "df_emprestimo = pd.concat((pd.read_csv(file) for file in csv_files), ignore_index=True) # Transformando em Dataframe\n"
   ]
  },
  {
   "cell_type": "code",
   "execution_count": 3,
   "metadata": {},
   "outputs": [
    {
     "data": {
      "text/html": [
       "<div>\n",
       "<style scoped>\n",
       "    .dataframe tbody tr th:only-of-type {\n",
       "        vertical-align: middle;\n",
       "    }\n",
       "\n",
       "    .dataframe tbody tr th {\n",
       "        vertical-align: top;\n",
       "    }\n",
       "\n",
       "    .dataframe thead th {\n",
       "        text-align: right;\n",
       "    }\n",
       "</style>\n",
       "<table border=\"1\" class=\"dataframe\">\n",
       "  <thead>\n",
       "    <tr style=\"text-align: right;\">\n",
       "      <th></th>\n",
       "      <th>id_emprestimo</th>\n",
       "      <th>codigo_barras</th>\n",
       "      <th>data_renovacao</th>\n",
       "      <th>data_emprestimo</th>\n",
       "      <th>data_devolucao</th>\n",
       "      <th>matricula_ou_siape</th>\n",
       "      <th>tipo_vinculo_usuario</th>\n",
       "    </tr>\n",
       "  </thead>\n",
       "  <tbody>\n",
       "    <tr>\n",
       "      <th>0</th>\n",
       "      <td>709684</td>\n",
       "      <td>L095049</td>\n",
       "      <td>NaN</td>\n",
       "      <td>2010/01/04 07:44:10.721000000</td>\n",
       "      <td>2010/01/05 16:26:12.662000000</td>\n",
       "      <td>2.008023e+09</td>\n",
       "      <td>ALUNO DE GRADUAÇÃO</td>\n",
       "    </tr>\n",
       "    <tr>\n",
       "      <th>1</th>\n",
       "      <td>709685</td>\n",
       "      <td>L167050</td>\n",
       "      <td>NaN</td>\n",
       "      <td>2010/01/04 07:44:10.750000000</td>\n",
       "      <td>2010/01/12 07:34:13.934000000</td>\n",
       "      <td>2.008023e+09</td>\n",
       "      <td>ALUNO DE GRADUAÇÃO</td>\n",
       "    </tr>\n",
       "    <tr>\n",
       "      <th>2</th>\n",
       "      <td>709686</td>\n",
       "      <td>2006017618</td>\n",
       "      <td>2010/01/26 08:07:01.738000000</td>\n",
       "      <td>2010/01/04 08:08:44.081000000</td>\n",
       "      <td>2010/02/25 07:36:25.800000000</td>\n",
       "      <td>2.008112e+09</td>\n",
       "      <td>ALUNO DE PÓS-GRADUAÇÃO</td>\n",
       "    </tr>\n",
       "    <tr>\n",
       "      <th>3</th>\n",
       "      <td>709687</td>\n",
       "      <td>L184117</td>\n",
       "      <td>2010/01/18 11:07:46.470000000</td>\n",
       "      <td>2010/01/04 08:24:21.284000000</td>\n",
       "      <td>2010/02/03 08:58:45.692000000</td>\n",
       "      <td>2.007211e+08</td>\n",
       "      <td>ALUNO DE GRADUAÇÃO</td>\n",
       "    </tr>\n",
       "    <tr>\n",
       "      <th>4</th>\n",
       "      <td>709684</td>\n",
       "      <td>L095049</td>\n",
       "      <td>NaN</td>\n",
       "      <td>2010/01/04 07:44:10.721000000</td>\n",
       "      <td>2010/01/05 16:26:12.662000000</td>\n",
       "      <td>2.008023e+09</td>\n",
       "      <td>ALUNO DE GRADUAÇÃO</td>\n",
       "    </tr>\n",
       "    <tr>\n",
       "      <th>5</th>\n",
       "      <td>709685</td>\n",
       "      <td>L167050</td>\n",
       "      <td>NaN</td>\n",
       "      <td>2010/01/04 07:44:10.750000000</td>\n",
       "      <td>2010/01/12 07:34:13.934000000</td>\n",
       "      <td>2.008023e+09</td>\n",
       "      <td>ALUNO DE GRADUAÇÃO</td>\n",
       "    </tr>\n",
       "    <tr>\n",
       "      <th>6</th>\n",
       "      <td>709686</td>\n",
       "      <td>2006017618</td>\n",
       "      <td>2010/01/26 08:07:01.738000000</td>\n",
       "      <td>2010/01/04 08:08:44.081000000</td>\n",
       "      <td>2010/02/25 07:36:25.800000000</td>\n",
       "      <td>2.008112e+09</td>\n",
       "      <td>ALUNO DE PÓS-GRADUAÇÃO</td>\n",
       "    </tr>\n",
       "    <tr>\n",
       "      <th>7</th>\n",
       "      <td>709687</td>\n",
       "      <td>L184117</td>\n",
       "      <td>2010/01/18 11:07:46.470000000</td>\n",
       "      <td>2010/01/04 08:24:21.284000000</td>\n",
       "      <td>2010/02/03 08:58:45.692000000</td>\n",
       "      <td>2.007211e+08</td>\n",
       "      <td>ALUNO DE GRADUAÇÃO</td>\n",
       "    </tr>\n",
       "    <tr>\n",
       "      <th>8</th>\n",
       "      <td>709688</td>\n",
       "      <td>2007027500</td>\n",
       "      <td>2010/01/19 15:59:26.464000000</td>\n",
       "      <td>2010/01/04 08:27:33.569000000</td>\n",
       "      <td>2010/02/03 13:06:30.662000000</td>\n",
       "      <td>2.009046e+09</td>\n",
       "      <td>ALUNO DE GRADUAÇÃO</td>\n",
       "    </tr>\n",
       "    <tr>\n",
       "      <th>9</th>\n",
       "      <td>709689</td>\n",
       "      <td>L157395</td>\n",
       "      <td>2010/01/19 15:59:26.447000000</td>\n",
       "      <td>2010/01/04 08:27:33.596000000</td>\n",
       "      <td>2010/02/03 13:06:43.125000000</td>\n",
       "      <td>2.009046e+09</td>\n",
       "      <td>ALUNO DE GRADUAÇÃO</td>\n",
       "    </tr>\n",
       "  </tbody>\n",
       "</table>\n",
       "</div>"
      ],
      "text/plain": [
       "   id_emprestimo codigo_barras                 data_renovacao  \\\n",
       "0         709684       L095049                            NaN   \n",
       "1         709685       L167050                            NaN   \n",
       "2         709686    2006017618  2010/01/26 08:07:01.738000000   \n",
       "3         709687       L184117  2010/01/18 11:07:46.470000000   \n",
       "4         709684       L095049                            NaN   \n",
       "5         709685       L167050                            NaN   \n",
       "6         709686    2006017618  2010/01/26 08:07:01.738000000   \n",
       "7         709687       L184117  2010/01/18 11:07:46.470000000   \n",
       "8         709688    2007027500  2010/01/19 15:59:26.464000000   \n",
       "9         709689       L157395  2010/01/19 15:59:26.447000000   \n",
       "\n",
       "                 data_emprestimo                 data_devolucao  \\\n",
       "0  2010/01/04 07:44:10.721000000  2010/01/05 16:26:12.662000000   \n",
       "1  2010/01/04 07:44:10.750000000  2010/01/12 07:34:13.934000000   \n",
       "2  2010/01/04 08:08:44.081000000  2010/02/25 07:36:25.800000000   \n",
       "3  2010/01/04 08:24:21.284000000  2010/02/03 08:58:45.692000000   \n",
       "4  2010/01/04 07:44:10.721000000  2010/01/05 16:26:12.662000000   \n",
       "5  2010/01/04 07:44:10.750000000  2010/01/12 07:34:13.934000000   \n",
       "6  2010/01/04 08:08:44.081000000  2010/02/25 07:36:25.800000000   \n",
       "7  2010/01/04 08:24:21.284000000  2010/02/03 08:58:45.692000000   \n",
       "8  2010/01/04 08:27:33.569000000  2010/02/03 13:06:30.662000000   \n",
       "9  2010/01/04 08:27:33.596000000  2010/02/03 13:06:43.125000000   \n",
       "\n",
       "   matricula_ou_siape    tipo_vinculo_usuario  \n",
       "0        2.008023e+09      ALUNO DE GRADUAÇÃO  \n",
       "1        2.008023e+09      ALUNO DE GRADUAÇÃO  \n",
       "2        2.008112e+09  ALUNO DE PÓS-GRADUAÇÃO  \n",
       "3        2.007211e+08      ALUNO DE GRADUAÇÃO  \n",
       "4        2.008023e+09      ALUNO DE GRADUAÇÃO  \n",
       "5        2.008023e+09      ALUNO DE GRADUAÇÃO  \n",
       "6        2.008112e+09  ALUNO DE PÓS-GRADUAÇÃO  \n",
       "7        2.007211e+08      ALUNO DE GRADUAÇÃO  \n",
       "8        2.009046e+09      ALUNO DE GRADUAÇÃO  \n",
       "9        2.009046e+09      ALUNO DE GRADUAÇÃO  "
      ]
     },
     "execution_count": 3,
     "metadata": {},
     "output_type": "execute_result"
    }
   ],
   "source": [
    "df_emprestimo.head(10)"
   ]
  },
  {
   "cell_type": "code",
   "execution_count": 4,
   "metadata": {},
   "outputs": [
    {
     "data": {
      "text/plain": [
       "(2258018, 7)"
      ]
     },
     "execution_count": 4,
     "metadata": {},
     "output_type": "execute_result"
    }
   ],
   "source": [
    "df_emprestimo.shape"
   ]
  },
  {
   "cell_type": "code",
   "execution_count": 5,
   "metadata": {},
   "outputs": [
    {
     "data": {
      "text/plain": [
       "id_emprestimo  codigo_barras  data_renovacao                 data_emprestimo                data_devolucao                 matricula_ou_siape  tipo_vinculo_usuario  \n",
       "709705         2009032168     2010/01/17 18:56:43.909000000  2010/01/04 09:58:46.549000000  2010/01/20 13:14:34.464000000  2.008010e+09        ALUNO DE GRADUAÇÃO        7\n",
       "709704         2006021442     2010/01/17 18:56:43.923000000  2010/01/04 09:58:46.522000000  2010/02/01 13:59:02.528000000  2.008010e+09        ALUNO DE GRADUAÇÃO        7\n",
       "709698         2009047725     2010/01/18 14:44:41.163000000  2010/01/04 09:21:19.099000000  2010/02/02 12:02:38.444000000  2.009047e+09        ALUNO DE GRADUAÇÃO        3\n",
       "709686         2006017618     2010/01/26 08:07:01.738000000  2010/01/04 08:08:44.081000000  2010/02/25 07:36:25.800000000  2.008112e+09        ALUNO DE PÓS-GRADUAÇÃO    2\n",
       "709687         L184117        2010/01/18 11:07:46.470000000  2010/01/04 08:24:21.284000000  2010/02/03 08:58:45.692000000  2.007211e+08        ALUNO DE GRADUAÇÃO        2\n",
       "                                                                                                                                                                        ..\n",
       "10322140       2012043425     2018/01/29 21:31:14.254000000  2017/12/29 14:11:46.562000000  2018/02/27 14:49:44.000000000  2.016201e+09        ALUNO DE PÓS-GRADUAÇÃO    1\n",
       "10322144       2012052321     2018/01/29 21:31:14.235000000  2017/12/29 14:11:46.621000000  2018/02/27 14:49:18.000000000  2.016201e+09        ALUNO DE PÓS-GRADUAÇÃO    1\n",
       "10322148       2013114500     2018/01/29 21:31:14.215000000  2017/12/29 14:11:46.680000000  2018/02/27 14:49:53.000000000  2.016201e+09        ALUNO DE PÓS-GRADUAÇÃO    1\n",
       "10322152       2014057666     2018/01/29 21:31:14.192000000  2017/12/29 14:11:46.742000000  2018/02/27 14:49:33.000000000  2.016201e+09        ALUNO DE PÓS-GRADUAÇÃO    1\n",
       "10322156       2014057679     2018/01/29 21:31:14.169000000  2017/12/29 14:11:46.806000000  2018/02/27 14:49:07.000000000  2.016201e+09        ALUNO DE PÓS-GRADUAÇÃO    1\n",
       "Name: count, Length: 968028, dtype: int64"
      ]
     },
     "execution_count": 5,
     "metadata": {},
     "output_type": "execute_result"
    }
   ],
   "source": [
    "df_emprestimo.value_counts() # verificando duplicados"
   ]
  },
  {
   "cell_type": "code",
   "execution_count": 6,
   "metadata": {},
   "outputs": [
    {
     "data": {
      "text/plain": [
       "id_emprestimo\n",
       "709705     7\n",
       "709704     7\n",
       "709698     3\n",
       "709687     2\n",
       "709684     2\n",
       "          ..\n",
       "2989086    1\n",
       "2989087    1\n",
       "2989088    1\n",
       "2989089    1\n",
       "709712     1\n",
       "Name: count, Length: 2257981, dtype: int64"
      ]
     },
     "execution_count": 6,
     "metadata": {},
     "output_type": "execute_result"
    }
   ],
   "source": [
    "df_emprestimo['id_emprestimo'].value_counts()"
   ]
  },
  {
   "cell_type": "code",
   "execution_count": 7,
   "metadata": {},
   "outputs": [
    {
     "data": {
      "text/html": [
       "<div>\n",
       "<style scoped>\n",
       "    .dataframe tbody tr th:only-of-type {\n",
       "        vertical-align: middle;\n",
       "    }\n",
       "\n",
       "    .dataframe tbody tr th {\n",
       "        vertical-align: top;\n",
       "    }\n",
       "\n",
       "    .dataframe thead th {\n",
       "        text-align: right;\n",
       "    }\n",
       "</style>\n",
       "<table border=\"1\" class=\"dataframe\">\n",
       "  <thead>\n",
       "    <tr style=\"text-align: right;\">\n",
       "      <th></th>\n",
       "      <th>id_emprestimo</th>\n",
       "      <th>codigo_barras</th>\n",
       "      <th>data_renovacao</th>\n",
       "      <th>data_emprestimo</th>\n",
       "      <th>data_devolucao</th>\n",
       "      <th>matricula_ou_siape</th>\n",
       "      <th>tipo_vinculo_usuario</th>\n",
       "      <th>ano_emprestimo</th>\n",
       "    </tr>\n",
       "  </thead>\n",
       "  <tbody>\n",
       "    <tr>\n",
       "      <th>0</th>\n",
       "      <td>709684</td>\n",
       "      <td>L095049</td>\n",
       "      <td>NaN</td>\n",
       "      <td>2010/01/04 07:44:10.721000000</td>\n",
       "      <td>2010/01/05 16:26:12.662000000</td>\n",
       "      <td>2.008023e+09</td>\n",
       "      <td>ALUNO DE GRADUAÇÃO</td>\n",
       "      <td>2010</td>\n",
       "    </tr>\n",
       "    <tr>\n",
       "      <th>1</th>\n",
       "      <td>709685</td>\n",
       "      <td>L167050</td>\n",
       "      <td>NaN</td>\n",
       "      <td>2010/01/04 07:44:10.750000000</td>\n",
       "      <td>2010/01/12 07:34:13.934000000</td>\n",
       "      <td>2.008023e+09</td>\n",
       "      <td>ALUNO DE GRADUAÇÃO</td>\n",
       "      <td>2010</td>\n",
       "    </tr>\n",
       "    <tr>\n",
       "      <th>2</th>\n",
       "      <td>709686</td>\n",
       "      <td>2006017618</td>\n",
       "      <td>2010/01/26 08:07:01.738000000</td>\n",
       "      <td>2010/01/04 08:08:44.081000000</td>\n",
       "      <td>2010/02/25 07:36:25.800000000</td>\n",
       "      <td>2.008112e+09</td>\n",
       "      <td>ALUNO DE PÓS-GRADUAÇÃO</td>\n",
       "      <td>2010</td>\n",
       "    </tr>\n",
       "    <tr>\n",
       "      <th>3</th>\n",
       "      <td>709687</td>\n",
       "      <td>L184117</td>\n",
       "      <td>2010/01/18 11:07:46.470000000</td>\n",
       "      <td>2010/01/04 08:24:21.284000000</td>\n",
       "      <td>2010/02/03 08:58:45.692000000</td>\n",
       "      <td>2.007211e+08</td>\n",
       "      <td>ALUNO DE GRADUAÇÃO</td>\n",
       "      <td>2010</td>\n",
       "    </tr>\n",
       "    <tr>\n",
       "      <th>4</th>\n",
       "      <td>709684</td>\n",
       "      <td>L095049</td>\n",
       "      <td>NaN</td>\n",
       "      <td>2010/01/04 07:44:10.721000000</td>\n",
       "      <td>2010/01/05 16:26:12.662000000</td>\n",
       "      <td>2.008023e+09</td>\n",
       "      <td>ALUNO DE GRADUAÇÃO</td>\n",
       "      <td>2010</td>\n",
       "    </tr>\n",
       "    <tr>\n",
       "      <th>5</th>\n",
       "      <td>709685</td>\n",
       "      <td>L167050</td>\n",
       "      <td>NaN</td>\n",
       "      <td>2010/01/04 07:44:10.750000000</td>\n",
       "      <td>2010/01/12 07:34:13.934000000</td>\n",
       "      <td>2.008023e+09</td>\n",
       "      <td>ALUNO DE GRADUAÇÃO</td>\n",
       "      <td>2010</td>\n",
       "    </tr>\n",
       "    <tr>\n",
       "      <th>6</th>\n",
       "      <td>709686</td>\n",
       "      <td>2006017618</td>\n",
       "      <td>2010/01/26 08:07:01.738000000</td>\n",
       "      <td>2010/01/04 08:08:44.081000000</td>\n",
       "      <td>2010/02/25 07:36:25.800000000</td>\n",
       "      <td>2.008112e+09</td>\n",
       "      <td>ALUNO DE PÓS-GRADUAÇÃO</td>\n",
       "      <td>2010</td>\n",
       "    </tr>\n",
       "    <tr>\n",
       "      <th>7</th>\n",
       "      <td>709687</td>\n",
       "      <td>L184117</td>\n",
       "      <td>2010/01/18 11:07:46.470000000</td>\n",
       "      <td>2010/01/04 08:24:21.284000000</td>\n",
       "      <td>2010/02/03 08:58:45.692000000</td>\n",
       "      <td>2.007211e+08</td>\n",
       "      <td>ALUNO DE GRADUAÇÃO</td>\n",
       "      <td>2010</td>\n",
       "    </tr>\n",
       "    <tr>\n",
       "      <th>8</th>\n",
       "      <td>709688</td>\n",
       "      <td>2007027500</td>\n",
       "      <td>2010/01/19 15:59:26.464000000</td>\n",
       "      <td>2010/01/04 08:27:33.569000000</td>\n",
       "      <td>2010/02/03 13:06:30.662000000</td>\n",
       "      <td>2.009046e+09</td>\n",
       "      <td>ALUNO DE GRADUAÇÃO</td>\n",
       "      <td>2010</td>\n",
       "    </tr>\n",
       "    <tr>\n",
       "      <th>9</th>\n",
       "      <td>709689</td>\n",
       "      <td>L157395</td>\n",
       "      <td>2010/01/19 15:59:26.447000000</td>\n",
       "      <td>2010/01/04 08:27:33.596000000</td>\n",
       "      <td>2010/02/03 13:06:43.125000000</td>\n",
       "      <td>2.009046e+09</td>\n",
       "      <td>ALUNO DE GRADUAÇÃO</td>\n",
       "      <td>2010</td>\n",
       "    </tr>\n",
       "  </tbody>\n",
       "</table>\n",
       "</div>"
      ],
      "text/plain": [
       "   id_emprestimo codigo_barras                 data_renovacao  \\\n",
       "0         709684       L095049                            NaN   \n",
       "1         709685       L167050                            NaN   \n",
       "2         709686    2006017618  2010/01/26 08:07:01.738000000   \n",
       "3         709687       L184117  2010/01/18 11:07:46.470000000   \n",
       "4         709684       L095049                            NaN   \n",
       "5         709685       L167050                            NaN   \n",
       "6         709686    2006017618  2010/01/26 08:07:01.738000000   \n",
       "7         709687       L184117  2010/01/18 11:07:46.470000000   \n",
       "8         709688    2007027500  2010/01/19 15:59:26.464000000   \n",
       "9         709689       L157395  2010/01/19 15:59:26.447000000   \n",
       "\n",
       "                 data_emprestimo                 data_devolucao  \\\n",
       "0  2010/01/04 07:44:10.721000000  2010/01/05 16:26:12.662000000   \n",
       "1  2010/01/04 07:44:10.750000000  2010/01/12 07:34:13.934000000   \n",
       "2  2010/01/04 08:08:44.081000000  2010/02/25 07:36:25.800000000   \n",
       "3  2010/01/04 08:24:21.284000000  2010/02/03 08:58:45.692000000   \n",
       "4  2010/01/04 07:44:10.721000000  2010/01/05 16:26:12.662000000   \n",
       "5  2010/01/04 07:44:10.750000000  2010/01/12 07:34:13.934000000   \n",
       "6  2010/01/04 08:08:44.081000000  2010/02/25 07:36:25.800000000   \n",
       "7  2010/01/04 08:24:21.284000000  2010/02/03 08:58:45.692000000   \n",
       "8  2010/01/04 08:27:33.569000000  2010/02/03 13:06:30.662000000   \n",
       "9  2010/01/04 08:27:33.596000000  2010/02/03 13:06:43.125000000   \n",
       "\n",
       "   matricula_ou_siape    tipo_vinculo_usuario ano_emprestimo  \n",
       "0        2.008023e+09      ALUNO DE GRADUAÇÃO           2010  \n",
       "1        2.008023e+09      ALUNO DE GRADUAÇÃO           2010  \n",
       "2        2.008112e+09  ALUNO DE PÓS-GRADUAÇÃO           2010  \n",
       "3        2.007211e+08      ALUNO DE GRADUAÇÃO           2010  \n",
       "4        2.008023e+09      ALUNO DE GRADUAÇÃO           2010  \n",
       "5        2.008023e+09      ALUNO DE GRADUAÇÃO           2010  \n",
       "6        2.008112e+09  ALUNO DE PÓS-GRADUAÇÃO           2010  \n",
       "7        2.007211e+08      ALUNO DE GRADUAÇÃO           2010  \n",
       "8        2.009046e+09      ALUNO DE GRADUAÇÃO           2010  \n",
       "9        2.009046e+09      ALUNO DE GRADUAÇÃO           2010  "
      ]
     },
     "execution_count": 7,
     "metadata": {},
     "output_type": "execute_result"
    }
   ],
   "source": [
    "df_emprestimo['ano_emprestimo'] = df_emprestimo['data_emprestimo'].str[:4] # adicionando ano de empréstimo\n",
    "df_emprestimo.head(10) # primeiras"
   ]
  },
  {
   "cell_type": "code",
   "execution_count": 8,
   "metadata": {},
   "outputs": [
    {
     "data": {
      "text/html": [
       "<div>\n",
       "<style scoped>\n",
       "    .dataframe tbody tr th:only-of-type {\n",
       "        vertical-align: middle;\n",
       "    }\n",
       "\n",
       "    .dataframe tbody tr th {\n",
       "        vertical-align: top;\n",
       "    }\n",
       "\n",
       "    .dataframe thead th {\n",
       "        text-align: right;\n",
       "    }\n",
       "</style>\n",
       "<table border=\"1\" class=\"dataframe\">\n",
       "  <thead>\n",
       "    <tr style=\"text-align: right;\">\n",
       "      <th></th>\n",
       "      <th>id_emprestimo</th>\n",
       "      <th>codigo_barras</th>\n",
       "      <th>data_renovacao</th>\n",
       "      <th>data_emprestimo</th>\n",
       "      <th>data_devolucao</th>\n",
       "      <th>matricula_ou_siape</th>\n",
       "      <th>tipo_vinculo_usuario</th>\n",
       "      <th>ano_emprestimo</th>\n",
       "    </tr>\n",
       "  </thead>\n",
       "  <tbody>\n",
       "    <tr>\n",
       "      <th>2258013</th>\n",
       "      <td>2989086</td>\n",
       "      <td>2008047044</td>\n",
       "      <td>NaN</td>\n",
       "      <td>2020/05/05 19:51:06.059000000</td>\n",
       "      <td>2021/05/13 14:53:31.000000000</td>\n",
       "      <td>3.067431e+06</td>\n",
       "      <td>SERVIDOR TÉCNICO-ADMINISTRATIVO</td>\n",
       "      <td>2020</td>\n",
       "    </tr>\n",
       "    <tr>\n",
       "      <th>2258014</th>\n",
       "      <td>2989087</td>\n",
       "      <td>2008047047</td>\n",
       "      <td>NaN</td>\n",
       "      <td>2020/05/05 19:51:06.135000000</td>\n",
       "      <td>2021/05/13 14:53:38.000000000</td>\n",
       "      <td>3.067431e+06</td>\n",
       "      <td>SERVIDOR TÉCNICO-ADMINISTRATIVO</td>\n",
       "      <td>2020</td>\n",
       "    </tr>\n",
       "    <tr>\n",
       "      <th>2258015</th>\n",
       "      <td>2989088</td>\n",
       "      <td>2010052905</td>\n",
       "      <td>NaN</td>\n",
       "      <td>2020/05/05 19:51:06.164000000</td>\n",
       "      <td>2021/05/13 15:01:46.000000000</td>\n",
       "      <td>3.067431e+06</td>\n",
       "      <td>SERVIDOR TÉCNICO-ADMINISTRATIVO</td>\n",
       "      <td>2020</td>\n",
       "    </tr>\n",
       "    <tr>\n",
       "      <th>2258016</th>\n",
       "      <td>2989089</td>\n",
       "      <td>2010048023</td>\n",
       "      <td>NaN</td>\n",
       "      <td>2020/06/09 11:54:02.669000000</td>\n",
       "      <td>2021/07/21 15:33:55.000000000</td>\n",
       "      <td>2.020101e+10</td>\n",
       "      <td>ALUNO DE PÓS-GRADUAÇÃO</td>\n",
       "      <td>2020</td>\n",
       "    </tr>\n",
       "    <tr>\n",
       "      <th>2258017</th>\n",
       "      <td>2989090</td>\n",
       "      <td>2013106838</td>\n",
       "      <td>NaN</td>\n",
       "      <td>2020/06/09 11:54:02.852000000</td>\n",
       "      <td>2021/07/21 15:33:45.000000000</td>\n",
       "      <td>2.020101e+10</td>\n",
       "      <td>ALUNO DE PÓS-GRADUAÇÃO</td>\n",
       "      <td>2020</td>\n",
       "    </tr>\n",
       "  </tbody>\n",
       "</table>\n",
       "</div>"
      ],
      "text/plain": [
       "         id_emprestimo codigo_barras data_renovacao  \\\n",
       "2258013        2989086    2008047044            NaN   \n",
       "2258014        2989087    2008047047            NaN   \n",
       "2258015        2989088    2010052905            NaN   \n",
       "2258016        2989089    2010048023            NaN   \n",
       "2258017        2989090    2013106838            NaN   \n",
       "\n",
       "                       data_emprestimo                 data_devolucao  \\\n",
       "2258013  2020/05/05 19:51:06.059000000  2021/05/13 14:53:31.000000000   \n",
       "2258014  2020/05/05 19:51:06.135000000  2021/05/13 14:53:38.000000000   \n",
       "2258015  2020/05/05 19:51:06.164000000  2021/05/13 15:01:46.000000000   \n",
       "2258016  2020/06/09 11:54:02.669000000  2021/07/21 15:33:55.000000000   \n",
       "2258017  2020/06/09 11:54:02.852000000  2021/07/21 15:33:45.000000000   \n",
       "\n",
       "         matricula_ou_siape             tipo_vinculo_usuario ano_emprestimo  \n",
       "2258013        3.067431e+06  SERVIDOR TÉCNICO-ADMINISTRATIVO           2020  \n",
       "2258014        3.067431e+06  SERVIDOR TÉCNICO-ADMINISTRATIVO           2020  \n",
       "2258015        3.067431e+06  SERVIDOR TÉCNICO-ADMINISTRATIVO           2020  \n",
       "2258016        2.020101e+10           ALUNO DE PÓS-GRADUAÇÃO           2020  \n",
       "2258017        2.020101e+10           ALUNO DE PÓS-GRADUAÇÃO           2020  "
      ]
     },
     "execution_count": 8,
     "metadata": {},
     "output_type": "execute_result"
    }
   ],
   "source": [
    "df_emprestimo.tail() # ultimas"
   ]
  },
  {
   "cell_type": "markdown",
   "metadata": {},
   "source": [
    "Importando dados - Acervo"
   ]
  },
  {
   "cell_type": "code",
   "execution_count": 9,
   "metadata": {},
   "outputs": [
    {
     "name": "stderr",
     "output_type": "stream",
     "text": [
      "<>:1: SyntaxWarning: invalid escape sequence '\\d'\n",
      "<>:1: SyntaxWarning: invalid escape sequence '\\d'\n",
      "C:\\Users\\corre\\AppData\\Local\\Temp\\ipykernel_12524\\3428660207.py:1: SyntaxWarning: invalid escape sequence '\\d'\n",
      "  path_acervo = '.\\dataset\\dados_exemplares.parquet'\n"
     ]
    }
   ],
   "source": [
    "path_acervo = '.\\dataset\\dados_exemplares.parquet'\n",
    "\n",
    "df_acervo = pd.read_parquet(path_acervo)"
   ]
  },
  {
   "cell_type": "code",
   "execution_count": 10,
   "metadata": {},
   "outputs": [
    {
     "data": {
      "text/html": [
       "<div>\n",
       "<style scoped>\n",
       "    .dataframe tbody tr th:only-of-type {\n",
       "        vertical-align: middle;\n",
       "    }\n",
       "\n",
       "    .dataframe tbody tr th {\n",
       "        vertical-align: top;\n",
       "    }\n",
       "\n",
       "    .dataframe thead th {\n",
       "        text-align: right;\n",
       "    }\n",
       "</style>\n",
       "<table border=\"1\" class=\"dataframe\">\n",
       "  <thead>\n",
       "    <tr style=\"text-align: right;\">\n",
       "      <th></th>\n",
       "      <th>id_exemplar</th>\n",
       "      <th>codigo_barras</th>\n",
       "      <th>colecao</th>\n",
       "      <th>biblioteca</th>\n",
       "      <th>status_material</th>\n",
       "      <th>localizacao</th>\n",
       "      <th>registro_sistema</th>\n",
       "    </tr>\n",
       "    <tr>\n",
       "      <th>index</th>\n",
       "      <th></th>\n",
       "      <th></th>\n",
       "      <th></th>\n",
       "      <th></th>\n",
       "      <th></th>\n",
       "      <th></th>\n",
       "      <th></th>\n",
       "    </tr>\n",
       "  </thead>\n",
       "  <tbody>\n",
       "    <tr>\n",
       "      <th>0</th>\n",
       "      <td>5</td>\n",
       "      <td>L000003</td>\n",
       "      <td>Acervo Circulante</td>\n",
       "      <td>Biblioteca Central Zila Mamede</td>\n",
       "      <td>REGULAR</td>\n",
       "      <td>694</td>\n",
       "      <td>1</td>\n",
       "    </tr>\n",
       "    <tr>\n",
       "      <th>1</th>\n",
       "      <td>4</td>\n",
       "      <td>L000002</td>\n",
       "      <td>Acervo Circulante</td>\n",
       "      <td>Biblioteca Central Zila Mamede</td>\n",
       "      <td>REGULAR</td>\n",
       "      <td>688</td>\n",
       "      <td>1</td>\n",
       "    </tr>\n",
       "    <tr>\n",
       "      <th>2</th>\n",
       "      <td>3</td>\n",
       "      <td>L000001</td>\n",
       "      <td>Acervo Circulante</td>\n",
       "      <td>Biblioteca Central Zila Mamede</td>\n",
       "      <td>ESPECIAL</td>\n",
       "      <td>638</td>\n",
       "      <td>1</td>\n",
       "    </tr>\n",
       "    <tr>\n",
       "      <th>3</th>\n",
       "      <td>7</td>\n",
       "      <td>L000114</td>\n",
       "      <td>Acervo Circulante</td>\n",
       "      <td>Biblioteca Central Zila Mamede</td>\n",
       "      <td>REGULAR</td>\n",
       "      <td>616</td>\n",
       "      <td>5</td>\n",
       "    </tr>\n",
       "    <tr>\n",
       "      <th>5</th>\n",
       "      <td>10</td>\n",
       "      <td>L000041</td>\n",
       "      <td>Acervo Circulante</td>\n",
       "      <td>Biblioteca Central Zila Mamede</td>\n",
       "      <td>ESPECIAL</td>\n",
       "      <td>657</td>\n",
       "      <td>15</td>\n",
       "    </tr>\n",
       "  </tbody>\n",
       "</table>\n",
       "</div>"
      ],
      "text/plain": [
       "       id_exemplar codigo_barras            colecao  \\\n",
       "index                                                 \n",
       "0                5       L000003  Acervo Circulante   \n",
       "1                4       L000002  Acervo Circulante   \n",
       "2                3       L000001  Acervo Circulante   \n",
       "3                7       L000114  Acervo Circulante   \n",
       "5               10       L000041  Acervo Circulante   \n",
       "\n",
       "                           biblioteca status_material  localizacao  \\\n",
       "index                                                                \n",
       "0      Biblioteca Central Zila Mamede         REGULAR          694   \n",
       "1      Biblioteca Central Zila Mamede         REGULAR          688   \n",
       "2      Biblioteca Central Zila Mamede        ESPECIAL          638   \n",
       "3      Biblioteca Central Zila Mamede         REGULAR          616   \n",
       "5      Biblioteca Central Zila Mamede        ESPECIAL          657   \n",
       "\n",
       "       registro_sistema  \n",
       "index                    \n",
       "0                     1  \n",
       "1                     1  \n",
       "2                     1  \n",
       "3                     5  \n",
       "5                    15  "
      ]
     },
     "execution_count": 10,
     "metadata": {},
     "output_type": "execute_result"
    }
   ],
   "source": [
    "df_acervo.head() # primeiras"
   ]
  },
  {
   "cell_type": "code",
   "execution_count": 11,
   "metadata": {},
   "outputs": [
    {
     "data": {
      "text/plain": [
       "(546237, 7)"
      ]
     },
     "execution_count": 11,
     "metadata": {},
     "output_type": "execute_result"
    }
   ],
   "source": [
    "df_acervo.shape"
   ]
  },
  {
   "cell_type": "code",
   "execution_count": 12,
   "metadata": {},
   "outputs": [
    {
     "data": {
      "text/plain": [
       "id_exemplar  codigo_barras                colecao            biblioteca                      status_material  localizacao  registro_sistema\n",
       "1353476      2019012276                   Acervo Circulante  Biblioteca Central Zila Mamede  ESPECIAL         962          268236              1\n",
       "3            L000001                      Acervo Circulante  Biblioteca Central Zila Mamede  ESPECIAL         638          1                   1\n",
       "4            L000002                      Acervo Circulante  Biblioteca Central Zila Mamede  REGULAR          688          1                   1\n",
       "5            L000003                      Acervo Circulante  Biblioteca Central Zila Mamede  REGULAR          694          1                   1\n",
       "7            L000114                      Acervo Circulante  Biblioteca Central Zila Mamede  REGULAR          616          5                   1\n",
       "                                                                                                                                              ..\n",
       "34           L000134_09/09/2020 11:02:36  Acervo Circulante  Biblioteca Central Zila Mamede  ESPECIAL         601          50                  1\n",
       "31           EE00198_05/08/2020 17:40:51  Acervo Circulante  Biblioteca Central Zila Mamede  REGULAR          604          44                  1\n",
       "28           FD00103                      Acervo Circulante  Biblioteca Central Zila Mamede  ESPECIAL         659          38                  1\n",
       "27           L000133_11/05/2018 08:57:56  Acervo Circulante  Biblioteca Central Zila Mamede  REGULAR          691          37                  1\n",
       "26           L000132                      Acervo Circulante  Biblioteca Central Zila Mamede  REGULAR          662          37                  1\n",
       "Name: count, Length: 546237, dtype: int64"
      ]
     },
     "execution_count": 12,
     "metadata": {},
     "output_type": "execute_result"
    }
   ],
   "source": [
    "df_acervo.value_counts() # ou seja, nenhuma repetição"
   ]
  },
  {
   "cell_type": "markdown",
   "metadata": {},
   "source": [
    "Juntando Dataframes"
   ]
  },
  {
   "cell_type": "code",
   "execution_count": 13,
   "metadata": {},
   "outputs": [
    {
     "data": {
      "text/html": [
       "<div>\n",
       "<style scoped>\n",
       "    .dataframe tbody tr th:only-of-type {\n",
       "        vertical-align: middle;\n",
       "    }\n",
       "\n",
       "    .dataframe tbody tr th {\n",
       "        vertical-align: top;\n",
       "    }\n",
       "\n",
       "    .dataframe thead th {\n",
       "        text-align: right;\n",
       "    }\n",
       "</style>\n",
       "<table border=\"1\" class=\"dataframe\">\n",
       "  <thead>\n",
       "    <tr style=\"text-align: right;\">\n",
       "      <th></th>\n",
       "      <th>id_emprestimo</th>\n",
       "      <th>codigo_barras</th>\n",
       "      <th>data_renovacao</th>\n",
       "      <th>data_emprestimo</th>\n",
       "      <th>data_devolucao</th>\n",
       "      <th>matricula_ou_siape</th>\n",
       "      <th>tipo_vinculo_usuario</th>\n",
       "      <th>ano_emprestimo</th>\n",
       "      <th>id_exemplar</th>\n",
       "      <th>colecao</th>\n",
       "      <th>biblioteca</th>\n",
       "      <th>status_material</th>\n",
       "      <th>localizacao</th>\n",
       "      <th>registro_sistema</th>\n",
       "    </tr>\n",
       "  </thead>\n",
       "  <tbody>\n",
       "    <tr>\n",
       "      <th>0</th>\n",
       "      <td>709684</td>\n",
       "      <td>L095049</td>\n",
       "      <td>NaN</td>\n",
       "      <td>2010/01/04 07:44:10.721000000</td>\n",
       "      <td>2010/01/05 16:26:12.662000000</td>\n",
       "      <td>2.008023e+09</td>\n",
       "      <td>ALUNO DE GRADUAÇÃO</td>\n",
       "      <td>2010</td>\n",
       "      <td>13259</td>\n",
       "      <td>Acervo Circulante</td>\n",
       "      <td>Biblioteca Central Zila Mamede</td>\n",
       "      <td>REGULAR</td>\n",
       "      <td>630</td>\n",
       "      <td>4225</td>\n",
       "    </tr>\n",
       "    <tr>\n",
       "      <th>1</th>\n",
       "      <td>709685</td>\n",
       "      <td>L167050</td>\n",
       "      <td>NaN</td>\n",
       "      <td>2010/01/04 07:44:10.750000000</td>\n",
       "      <td>2010/01/12 07:34:13.934000000</td>\n",
       "      <td>2.008023e+09</td>\n",
       "      <td>ALUNO DE GRADUAÇÃO</td>\n",
       "      <td>2010</td>\n",
       "      <td>70865</td>\n",
       "      <td>Acervo Circulante</td>\n",
       "      <td>Biblioteca Central Zila Mamede</td>\n",
       "      <td>REGULAR</td>\n",
       "      <td>647</td>\n",
       "      <td>25009</td>\n",
       "    </tr>\n",
       "    <tr>\n",
       "      <th>2</th>\n",
       "      <td>709686</td>\n",
       "      <td>2006017618</td>\n",
       "      <td>2010/01/26 08:07:01.738000000</td>\n",
       "      <td>2010/01/04 08:08:44.081000000</td>\n",
       "      <td>2010/02/25 07:36:25.800000000</td>\n",
       "      <td>2.008112e+09</td>\n",
       "      <td>ALUNO DE PÓS-GRADUAÇÃO</td>\n",
       "      <td>2010</td>\n",
       "      <td>195347</td>\n",
       "      <td>Acervo Circulante</td>\n",
       "      <td>Biblioteca Setorial Prof. Rodolfo Helinski - E...</td>\n",
       "      <td>REGULAR</td>\n",
       "      <td>640</td>\n",
       "      <td>75019</td>\n",
       "    </tr>\n",
       "    <tr>\n",
       "      <th>3</th>\n",
       "      <td>709687</td>\n",
       "      <td>L184117</td>\n",
       "      <td>2010/01/18 11:07:46.470000000</td>\n",
       "      <td>2010/01/04 08:24:21.284000000</td>\n",
       "      <td>2010/02/03 08:58:45.692000000</td>\n",
       "      <td>2.007211e+08</td>\n",
       "      <td>ALUNO DE GRADUAÇÃO</td>\n",
       "      <td>2010</td>\n",
       "      <td>131639</td>\n",
       "      <td>Acervo Circulante</td>\n",
       "      <td>Biblioteca Central Zila Mamede</td>\n",
       "      <td>REGULAR</td>\n",
       "      <td>609</td>\n",
       "      <td>44494</td>\n",
       "    </tr>\n",
       "    <tr>\n",
       "      <th>4</th>\n",
       "      <td>709684</td>\n",
       "      <td>L095049</td>\n",
       "      <td>NaN</td>\n",
       "      <td>2010/01/04 07:44:10.721000000</td>\n",
       "      <td>2010/01/05 16:26:12.662000000</td>\n",
       "      <td>2.008023e+09</td>\n",
       "      <td>ALUNO DE GRADUAÇÃO</td>\n",
       "      <td>2010</td>\n",
       "      <td>13259</td>\n",
       "      <td>Acervo Circulante</td>\n",
       "      <td>Biblioteca Central Zila Mamede</td>\n",
       "      <td>REGULAR</td>\n",
       "      <td>630</td>\n",
       "      <td>4225</td>\n",
       "    </tr>\n",
       "    <tr>\n",
       "      <th>...</th>\n",
       "      <td>...</td>\n",
       "      <td>...</td>\n",
       "      <td>...</td>\n",
       "      <td>...</td>\n",
       "      <td>...</td>\n",
       "      <td>...</td>\n",
       "      <td>...</td>\n",
       "      <td>...</td>\n",
       "      <td>...</td>\n",
       "      <td>...</td>\n",
       "      <td>...</td>\n",
       "      <td>...</td>\n",
       "      <td>...</td>\n",
       "      <td>...</td>\n",
       "    </tr>\n",
       "    <tr>\n",
       "      <th>2072553</th>\n",
       "      <td>2989086</td>\n",
       "      <td>2008047044</td>\n",
       "      <td>NaN</td>\n",
       "      <td>2020/05/05 19:51:06.059000000</td>\n",
       "      <td>2021/05/13 14:53:31.000000000</td>\n",
       "      <td>3.067431e+06</td>\n",
       "      <td>SERVIDOR TÉCNICO-ADMINISTRATIVO</td>\n",
       "      <td>2020</td>\n",
       "      <td>256297</td>\n",
       "      <td>Acervo Circulante</td>\n",
       "      <td>Biblioteca Setorial da Faculdade de Ciências d...</td>\n",
       "      <td>REGULAR</td>\n",
       "      <td>684</td>\n",
       "      <td>110098</td>\n",
       "    </tr>\n",
       "    <tr>\n",
       "      <th>2072554</th>\n",
       "      <td>2989087</td>\n",
       "      <td>2008047047</td>\n",
       "      <td>NaN</td>\n",
       "      <td>2020/05/05 19:51:06.135000000</td>\n",
       "      <td>2021/05/13 14:53:38.000000000</td>\n",
       "      <td>3.067431e+06</td>\n",
       "      <td>SERVIDOR TÉCNICO-ADMINISTRATIVO</td>\n",
       "      <td>2020</td>\n",
       "      <td>256406</td>\n",
       "      <td>Acervo Circulante</td>\n",
       "      <td>Biblioteca Setorial da Faculdade de Ciências d...</td>\n",
       "      <td>REGULAR</td>\n",
       "      <td>628</td>\n",
       "      <td>110171</td>\n",
       "    </tr>\n",
       "    <tr>\n",
       "      <th>2072555</th>\n",
       "      <td>2989088</td>\n",
       "      <td>2010052905</td>\n",
       "      <td>NaN</td>\n",
       "      <td>2020/05/05 19:51:06.164000000</td>\n",
       "      <td>2021/05/13 15:01:46.000000000</td>\n",
       "      <td>3.067431e+06</td>\n",
       "      <td>SERVIDOR TÉCNICO-ADMINISTRATIVO</td>\n",
       "      <td>2020</td>\n",
       "      <td>807821</td>\n",
       "      <td>Acervo Circulante</td>\n",
       "      <td>Biblioteca Setorial da Faculdade de Ciências d...</td>\n",
       "      <td>REGULAR</td>\n",
       "      <td>653</td>\n",
       "      <td>134173</td>\n",
       "    </tr>\n",
       "    <tr>\n",
       "      <th>2072556</th>\n",
       "      <td>2989089</td>\n",
       "      <td>2010048023</td>\n",
       "      <td>NaN</td>\n",
       "      <td>2020/06/09 11:54:02.669000000</td>\n",
       "      <td>2021/07/21 15:33:55.000000000</td>\n",
       "      <td>2.020101e+10</td>\n",
       "      <td>ALUNO DE PÓS-GRADUAÇÃO</td>\n",
       "      <td>2020</td>\n",
       "      <td>804885</td>\n",
       "      <td>Acervo Circulante</td>\n",
       "      <td>Biblioteca Central Zila Mamede</td>\n",
       "      <td>REGULAR</td>\n",
       "      <td>675</td>\n",
       "      <td>67712</td>\n",
       "    </tr>\n",
       "    <tr>\n",
       "      <th>2072557</th>\n",
       "      <td>2989090</td>\n",
       "      <td>2013106838</td>\n",
       "      <td>NaN</td>\n",
       "      <td>2020/06/09 11:54:02.852000000</td>\n",
       "      <td>2021/07/21 15:33:45.000000000</td>\n",
       "      <td>2.020101e+10</td>\n",
       "      <td>ALUNO DE PÓS-GRADUAÇÃO</td>\n",
       "      <td>2020</td>\n",
       "      <td>1099777</td>\n",
       "      <td>Acervo Circulante</td>\n",
       "      <td>Biblioteca Central Zila Mamede</td>\n",
       "      <td>REGULAR</td>\n",
       "      <td>14</td>\n",
       "      <td>205153</td>\n",
       "    </tr>\n",
       "  </tbody>\n",
       "</table>\n",
       "<p>2072558 rows × 14 columns</p>\n",
       "</div>"
      ],
      "text/plain": [
       "         id_emprestimo codigo_barras                 data_renovacao  \\\n",
       "0               709684       L095049                            NaN   \n",
       "1               709685       L167050                            NaN   \n",
       "2               709686    2006017618  2010/01/26 08:07:01.738000000   \n",
       "3               709687       L184117  2010/01/18 11:07:46.470000000   \n",
       "4               709684       L095049                            NaN   \n",
       "...                ...           ...                            ...   \n",
       "2072553        2989086    2008047044                            NaN   \n",
       "2072554        2989087    2008047047                            NaN   \n",
       "2072555        2989088    2010052905                            NaN   \n",
       "2072556        2989089    2010048023                            NaN   \n",
       "2072557        2989090    2013106838                            NaN   \n",
       "\n",
       "                       data_emprestimo                 data_devolucao  \\\n",
       "0        2010/01/04 07:44:10.721000000  2010/01/05 16:26:12.662000000   \n",
       "1        2010/01/04 07:44:10.750000000  2010/01/12 07:34:13.934000000   \n",
       "2        2010/01/04 08:08:44.081000000  2010/02/25 07:36:25.800000000   \n",
       "3        2010/01/04 08:24:21.284000000  2010/02/03 08:58:45.692000000   \n",
       "4        2010/01/04 07:44:10.721000000  2010/01/05 16:26:12.662000000   \n",
       "...                                ...                            ...   \n",
       "2072553  2020/05/05 19:51:06.059000000  2021/05/13 14:53:31.000000000   \n",
       "2072554  2020/05/05 19:51:06.135000000  2021/05/13 14:53:38.000000000   \n",
       "2072555  2020/05/05 19:51:06.164000000  2021/05/13 15:01:46.000000000   \n",
       "2072556  2020/06/09 11:54:02.669000000  2021/07/21 15:33:55.000000000   \n",
       "2072557  2020/06/09 11:54:02.852000000  2021/07/21 15:33:45.000000000   \n",
       "\n",
       "         matricula_ou_siape             tipo_vinculo_usuario ano_emprestimo  \\\n",
       "0              2.008023e+09               ALUNO DE GRADUAÇÃO           2010   \n",
       "1              2.008023e+09               ALUNO DE GRADUAÇÃO           2010   \n",
       "2              2.008112e+09           ALUNO DE PÓS-GRADUAÇÃO           2010   \n",
       "3              2.007211e+08               ALUNO DE GRADUAÇÃO           2010   \n",
       "4              2.008023e+09               ALUNO DE GRADUAÇÃO           2010   \n",
       "...                     ...                              ...            ...   \n",
       "2072553        3.067431e+06  SERVIDOR TÉCNICO-ADMINISTRATIVO           2020   \n",
       "2072554        3.067431e+06  SERVIDOR TÉCNICO-ADMINISTRATIVO           2020   \n",
       "2072555        3.067431e+06  SERVIDOR TÉCNICO-ADMINISTRATIVO           2020   \n",
       "2072556        2.020101e+10           ALUNO DE PÓS-GRADUAÇÃO           2020   \n",
       "2072557        2.020101e+10           ALUNO DE PÓS-GRADUAÇÃO           2020   \n",
       "\n",
       "         id_exemplar            colecao  \\\n",
       "0              13259  Acervo Circulante   \n",
       "1              70865  Acervo Circulante   \n",
       "2             195347  Acervo Circulante   \n",
       "3             131639  Acervo Circulante   \n",
       "4              13259  Acervo Circulante   \n",
       "...              ...                ...   \n",
       "2072553       256297  Acervo Circulante   \n",
       "2072554       256406  Acervo Circulante   \n",
       "2072555       807821  Acervo Circulante   \n",
       "2072556       804885  Acervo Circulante   \n",
       "2072557      1099777  Acervo Circulante   \n",
       "\n",
       "                                                biblioteca status_material  \\\n",
       "0                           Biblioteca Central Zila Mamede         REGULAR   \n",
       "1                           Biblioteca Central Zila Mamede         REGULAR   \n",
       "2        Biblioteca Setorial Prof. Rodolfo Helinski - E...         REGULAR   \n",
       "3                           Biblioteca Central Zila Mamede         REGULAR   \n",
       "4                           Biblioteca Central Zila Mamede         REGULAR   \n",
       "...                                                    ...             ...   \n",
       "2072553  Biblioteca Setorial da Faculdade de Ciências d...         REGULAR   \n",
       "2072554  Biblioteca Setorial da Faculdade de Ciências d...         REGULAR   \n",
       "2072555  Biblioteca Setorial da Faculdade de Ciências d...         REGULAR   \n",
       "2072556                     Biblioteca Central Zila Mamede         REGULAR   \n",
       "2072557                     Biblioteca Central Zila Mamede         REGULAR   \n",
       "\n",
       "         localizacao  registro_sistema  \n",
       "0                630              4225  \n",
       "1                647             25009  \n",
       "2                640             75019  \n",
       "3                609             44494  \n",
       "4                630              4225  \n",
       "...              ...               ...  \n",
       "2072553          684            110098  \n",
       "2072554          628            110171  \n",
       "2072555          653            134173  \n",
       "2072556          675             67712  \n",
       "2072557           14            205153  \n",
       "\n",
       "[2072558 rows x 14 columns]"
      ]
     },
     "execution_count": 13,
     "metadata": {},
     "output_type": "execute_result"
    }
   ],
   "source": [
    "df_completo = df_emprestimo.merge(df_acervo) # integrando os dois dataframes\n",
    "df_completo"
   ]
  },
  {
   "cell_type": "markdown",
   "metadata": {},
   "source": [
    "Acrescentando CDU\n",
    "\n",
    "000 a 099: Generalidades. Ciência e conhecimento. <br>\n",
    "100 a 199: Filosofia e psicologia.<br>\n",
    "200 a 299: Religião.<br>\n",
    "300 a 399: Ciências sociais.<br>\n",
    "400 a 499: Classe vaga. Provisoriamente não ocupada.<br>\n",
    "500 a 599: Matemática e ciências naturais.<br>\n",
    "600 a 699: Ciências aplicadas.<br>\n",
    "700 a 799: Belas artes.<br>\n",
    "800 a 899: Linguagem. Língua. Linguística.<br>\n",
    "900 a 999: Geografia. Biografia. História.\"<br>"
   ]
  },
  {
   "cell_type": "code",
   "execution_count": 14,
   "metadata": {},
   "outputs": [],
   "source": [
    "# criando dicionário de CDUs\n",
    "classificacao = {\n",
    "    (0,99) : 'Generalidades. Ciência e conhecimento.',\n",
    "    (100, 199): 'Filosofia e psicologia.',\n",
    "    (200, 299): 'Religião.',\n",
    "    (300, 399): 'Ciências sociais.',\n",
    "    (400, 499): 'Classe vaga. Provisoriamente não ocupada.',\n",
    "    (500, 599): 'Matemática e ciências naturais.',\n",
    "    (600, 699): 'Ciências aplicadas.',\n",
    "    (700, 799): 'Belas artes.',\n",
    "    (800, 899): 'Linguagem. Língua. Linguística.',\n",
    "    (900, 999): 'Geografia. Biografia. História.'\n",
    "}"
   ]
  },
  {
   "cell_type": "code",
   "execution_count": 15,
   "metadata": {},
   "outputs": [],
   "source": [
    "# função para classificar e posteriormente aplicar no DF\n",
    "\n",
    "def classificar(numero):\n",
    "    for intervalo, categoria in classificacao.items():\n",
    "        if intervalo[0] <= numero <= intervalo[1]:\n",
    "            return categoria\n",
    "        \n",
    "\n"
   ]
  },
  {
   "cell_type": "code",
   "execution_count": 16,
   "metadata": {},
   "outputs": [
    {
     "data": {
      "text/html": [
       "<div>\n",
       "<style scoped>\n",
       "    .dataframe tbody tr th:only-of-type {\n",
       "        vertical-align: middle;\n",
       "    }\n",
       "\n",
       "    .dataframe tbody tr th {\n",
       "        vertical-align: top;\n",
       "    }\n",
       "\n",
       "    .dataframe thead th {\n",
       "        text-align: right;\n",
       "    }\n",
       "</style>\n",
       "<table border=\"1\" class=\"dataframe\">\n",
       "  <thead>\n",
       "    <tr style=\"text-align: right;\">\n",
       "      <th></th>\n",
       "      <th>id_emprestimo</th>\n",
       "      <th>codigo_barras</th>\n",
       "      <th>data_renovacao</th>\n",
       "      <th>data_emprestimo</th>\n",
       "      <th>data_devolucao</th>\n",
       "      <th>matricula_ou_siape</th>\n",
       "      <th>tipo_vinculo_usuario</th>\n",
       "      <th>ano_emprestimo</th>\n",
       "      <th>id_exemplar</th>\n",
       "      <th>colecao</th>\n",
       "      <th>biblioteca</th>\n",
       "      <th>status_material</th>\n",
       "      <th>localizacao</th>\n",
       "      <th>registro_sistema</th>\n",
       "      <th>cdu</th>\n",
       "    </tr>\n",
       "  </thead>\n",
       "  <tbody>\n",
       "    <tr>\n",
       "      <th>0</th>\n",
       "      <td>709684</td>\n",
       "      <td>L095049</td>\n",
       "      <td>NaN</td>\n",
       "      <td>2010/01/04 07:44:10.721000000</td>\n",
       "      <td>2010/01/05 16:26:12.662000000</td>\n",
       "      <td>2.008023e+09</td>\n",
       "      <td>ALUNO DE GRADUAÇÃO</td>\n",
       "      <td>2010</td>\n",
       "      <td>13259</td>\n",
       "      <td>Acervo Circulante</td>\n",
       "      <td>Biblioteca Central Zila Mamede</td>\n",
       "      <td>REGULAR</td>\n",
       "      <td>630</td>\n",
       "      <td>4225</td>\n",
       "      <td>Ciências aplicadas.</td>\n",
       "    </tr>\n",
       "    <tr>\n",
       "      <th>1</th>\n",
       "      <td>709685</td>\n",
       "      <td>L167050</td>\n",
       "      <td>NaN</td>\n",
       "      <td>2010/01/04 07:44:10.750000000</td>\n",
       "      <td>2010/01/12 07:34:13.934000000</td>\n",
       "      <td>2.008023e+09</td>\n",
       "      <td>ALUNO DE GRADUAÇÃO</td>\n",
       "      <td>2010</td>\n",
       "      <td>70865</td>\n",
       "      <td>Acervo Circulante</td>\n",
       "      <td>Biblioteca Central Zila Mamede</td>\n",
       "      <td>REGULAR</td>\n",
       "      <td>647</td>\n",
       "      <td>25009</td>\n",
       "      <td>Ciências aplicadas.</td>\n",
       "    </tr>\n",
       "    <tr>\n",
       "      <th>2</th>\n",
       "      <td>709686</td>\n",
       "      <td>2006017618</td>\n",
       "      <td>2010/01/26 08:07:01.738000000</td>\n",
       "      <td>2010/01/04 08:08:44.081000000</td>\n",
       "      <td>2010/02/25 07:36:25.800000000</td>\n",
       "      <td>2.008112e+09</td>\n",
       "      <td>ALUNO DE PÓS-GRADUAÇÃO</td>\n",
       "      <td>2010</td>\n",
       "      <td>195347</td>\n",
       "      <td>Acervo Circulante</td>\n",
       "      <td>Biblioteca Setorial Prof. Rodolfo Helinski - E...</td>\n",
       "      <td>REGULAR</td>\n",
       "      <td>640</td>\n",
       "      <td>75019</td>\n",
       "      <td>Ciências aplicadas.</td>\n",
       "    </tr>\n",
       "    <tr>\n",
       "      <th>3</th>\n",
       "      <td>709687</td>\n",
       "      <td>L184117</td>\n",
       "      <td>2010/01/18 11:07:46.470000000</td>\n",
       "      <td>2010/01/04 08:24:21.284000000</td>\n",
       "      <td>2010/02/03 08:58:45.692000000</td>\n",
       "      <td>2.007211e+08</td>\n",
       "      <td>ALUNO DE GRADUAÇÃO</td>\n",
       "      <td>2010</td>\n",
       "      <td>131639</td>\n",
       "      <td>Acervo Circulante</td>\n",
       "      <td>Biblioteca Central Zila Mamede</td>\n",
       "      <td>REGULAR</td>\n",
       "      <td>609</td>\n",
       "      <td>44494</td>\n",
       "      <td>Ciências aplicadas.</td>\n",
       "    </tr>\n",
       "    <tr>\n",
       "      <th>4</th>\n",
       "      <td>709684</td>\n",
       "      <td>L095049</td>\n",
       "      <td>NaN</td>\n",
       "      <td>2010/01/04 07:44:10.721000000</td>\n",
       "      <td>2010/01/05 16:26:12.662000000</td>\n",
       "      <td>2.008023e+09</td>\n",
       "      <td>ALUNO DE GRADUAÇÃO</td>\n",
       "      <td>2010</td>\n",
       "      <td>13259</td>\n",
       "      <td>Acervo Circulante</td>\n",
       "      <td>Biblioteca Central Zila Mamede</td>\n",
       "      <td>REGULAR</td>\n",
       "      <td>630</td>\n",
       "      <td>4225</td>\n",
       "      <td>Ciências aplicadas.</td>\n",
       "    </tr>\n",
       "    <tr>\n",
       "      <th>...</th>\n",
       "      <td>...</td>\n",
       "      <td>...</td>\n",
       "      <td>...</td>\n",
       "      <td>...</td>\n",
       "      <td>...</td>\n",
       "      <td>...</td>\n",
       "      <td>...</td>\n",
       "      <td>...</td>\n",
       "      <td>...</td>\n",
       "      <td>...</td>\n",
       "      <td>...</td>\n",
       "      <td>...</td>\n",
       "      <td>...</td>\n",
       "      <td>...</td>\n",
       "      <td>...</td>\n",
       "    </tr>\n",
       "    <tr>\n",
       "      <th>2072553</th>\n",
       "      <td>2989086</td>\n",
       "      <td>2008047044</td>\n",
       "      <td>NaN</td>\n",
       "      <td>2020/05/05 19:51:06.059000000</td>\n",
       "      <td>2021/05/13 14:53:31.000000000</td>\n",
       "      <td>3.067431e+06</td>\n",
       "      <td>SERVIDOR TÉCNICO-ADMINISTRATIVO</td>\n",
       "      <td>2020</td>\n",
       "      <td>256297</td>\n",
       "      <td>Acervo Circulante</td>\n",
       "      <td>Biblioteca Setorial da Faculdade de Ciências d...</td>\n",
       "      <td>REGULAR</td>\n",
       "      <td>684</td>\n",
       "      <td>110098</td>\n",
       "      <td>Ciências aplicadas.</td>\n",
       "    </tr>\n",
       "    <tr>\n",
       "      <th>2072554</th>\n",
       "      <td>2989087</td>\n",
       "      <td>2008047047</td>\n",
       "      <td>NaN</td>\n",
       "      <td>2020/05/05 19:51:06.135000000</td>\n",
       "      <td>2021/05/13 14:53:38.000000000</td>\n",
       "      <td>3.067431e+06</td>\n",
       "      <td>SERVIDOR TÉCNICO-ADMINISTRATIVO</td>\n",
       "      <td>2020</td>\n",
       "      <td>256406</td>\n",
       "      <td>Acervo Circulante</td>\n",
       "      <td>Biblioteca Setorial da Faculdade de Ciências d...</td>\n",
       "      <td>REGULAR</td>\n",
       "      <td>628</td>\n",
       "      <td>110171</td>\n",
       "      <td>Ciências aplicadas.</td>\n",
       "    </tr>\n",
       "    <tr>\n",
       "      <th>2072555</th>\n",
       "      <td>2989088</td>\n",
       "      <td>2010052905</td>\n",
       "      <td>NaN</td>\n",
       "      <td>2020/05/05 19:51:06.164000000</td>\n",
       "      <td>2021/05/13 15:01:46.000000000</td>\n",
       "      <td>3.067431e+06</td>\n",
       "      <td>SERVIDOR TÉCNICO-ADMINISTRATIVO</td>\n",
       "      <td>2020</td>\n",
       "      <td>807821</td>\n",
       "      <td>Acervo Circulante</td>\n",
       "      <td>Biblioteca Setorial da Faculdade de Ciências d...</td>\n",
       "      <td>REGULAR</td>\n",
       "      <td>653</td>\n",
       "      <td>134173</td>\n",
       "      <td>Ciências aplicadas.</td>\n",
       "    </tr>\n",
       "    <tr>\n",
       "      <th>2072556</th>\n",
       "      <td>2989089</td>\n",
       "      <td>2010048023</td>\n",
       "      <td>NaN</td>\n",
       "      <td>2020/06/09 11:54:02.669000000</td>\n",
       "      <td>2021/07/21 15:33:55.000000000</td>\n",
       "      <td>2.020101e+10</td>\n",
       "      <td>ALUNO DE PÓS-GRADUAÇÃO</td>\n",
       "      <td>2020</td>\n",
       "      <td>804885</td>\n",
       "      <td>Acervo Circulante</td>\n",
       "      <td>Biblioteca Central Zila Mamede</td>\n",
       "      <td>REGULAR</td>\n",
       "      <td>675</td>\n",
       "      <td>67712</td>\n",
       "      <td>Ciências aplicadas.</td>\n",
       "    </tr>\n",
       "    <tr>\n",
       "      <th>2072557</th>\n",
       "      <td>2989090</td>\n",
       "      <td>2013106838</td>\n",
       "      <td>NaN</td>\n",
       "      <td>2020/06/09 11:54:02.852000000</td>\n",
       "      <td>2021/07/21 15:33:45.000000000</td>\n",
       "      <td>2.020101e+10</td>\n",
       "      <td>ALUNO DE PÓS-GRADUAÇÃO</td>\n",
       "      <td>2020</td>\n",
       "      <td>1099777</td>\n",
       "      <td>Acervo Circulante</td>\n",
       "      <td>Biblioteca Central Zila Mamede</td>\n",
       "      <td>REGULAR</td>\n",
       "      <td>14</td>\n",
       "      <td>205153</td>\n",
       "      <td>Generalidades. Ciência e conhecimento.</td>\n",
       "    </tr>\n",
       "  </tbody>\n",
       "</table>\n",
       "<p>2072558 rows × 15 columns</p>\n",
       "</div>"
      ],
      "text/plain": [
       "         id_emprestimo codigo_barras                 data_renovacao  \\\n",
       "0               709684       L095049                            NaN   \n",
       "1               709685       L167050                            NaN   \n",
       "2               709686    2006017618  2010/01/26 08:07:01.738000000   \n",
       "3               709687       L184117  2010/01/18 11:07:46.470000000   \n",
       "4               709684       L095049                            NaN   \n",
       "...                ...           ...                            ...   \n",
       "2072553        2989086    2008047044                            NaN   \n",
       "2072554        2989087    2008047047                            NaN   \n",
       "2072555        2989088    2010052905                            NaN   \n",
       "2072556        2989089    2010048023                            NaN   \n",
       "2072557        2989090    2013106838                            NaN   \n",
       "\n",
       "                       data_emprestimo                 data_devolucao  \\\n",
       "0        2010/01/04 07:44:10.721000000  2010/01/05 16:26:12.662000000   \n",
       "1        2010/01/04 07:44:10.750000000  2010/01/12 07:34:13.934000000   \n",
       "2        2010/01/04 08:08:44.081000000  2010/02/25 07:36:25.800000000   \n",
       "3        2010/01/04 08:24:21.284000000  2010/02/03 08:58:45.692000000   \n",
       "4        2010/01/04 07:44:10.721000000  2010/01/05 16:26:12.662000000   \n",
       "...                                ...                            ...   \n",
       "2072553  2020/05/05 19:51:06.059000000  2021/05/13 14:53:31.000000000   \n",
       "2072554  2020/05/05 19:51:06.135000000  2021/05/13 14:53:38.000000000   \n",
       "2072555  2020/05/05 19:51:06.164000000  2021/05/13 15:01:46.000000000   \n",
       "2072556  2020/06/09 11:54:02.669000000  2021/07/21 15:33:55.000000000   \n",
       "2072557  2020/06/09 11:54:02.852000000  2021/07/21 15:33:45.000000000   \n",
       "\n",
       "         matricula_ou_siape             tipo_vinculo_usuario ano_emprestimo  \\\n",
       "0              2.008023e+09               ALUNO DE GRADUAÇÃO           2010   \n",
       "1              2.008023e+09               ALUNO DE GRADUAÇÃO           2010   \n",
       "2              2.008112e+09           ALUNO DE PÓS-GRADUAÇÃO           2010   \n",
       "3              2.007211e+08               ALUNO DE GRADUAÇÃO           2010   \n",
       "4              2.008023e+09               ALUNO DE GRADUAÇÃO           2010   \n",
       "...                     ...                              ...            ...   \n",
       "2072553        3.067431e+06  SERVIDOR TÉCNICO-ADMINISTRATIVO           2020   \n",
       "2072554        3.067431e+06  SERVIDOR TÉCNICO-ADMINISTRATIVO           2020   \n",
       "2072555        3.067431e+06  SERVIDOR TÉCNICO-ADMINISTRATIVO           2020   \n",
       "2072556        2.020101e+10           ALUNO DE PÓS-GRADUAÇÃO           2020   \n",
       "2072557        2.020101e+10           ALUNO DE PÓS-GRADUAÇÃO           2020   \n",
       "\n",
       "         id_exemplar            colecao  \\\n",
       "0              13259  Acervo Circulante   \n",
       "1              70865  Acervo Circulante   \n",
       "2             195347  Acervo Circulante   \n",
       "3             131639  Acervo Circulante   \n",
       "4              13259  Acervo Circulante   \n",
       "...              ...                ...   \n",
       "2072553       256297  Acervo Circulante   \n",
       "2072554       256406  Acervo Circulante   \n",
       "2072555       807821  Acervo Circulante   \n",
       "2072556       804885  Acervo Circulante   \n",
       "2072557      1099777  Acervo Circulante   \n",
       "\n",
       "                                                biblioteca status_material  \\\n",
       "0                           Biblioteca Central Zila Mamede         REGULAR   \n",
       "1                           Biblioteca Central Zila Mamede         REGULAR   \n",
       "2        Biblioteca Setorial Prof. Rodolfo Helinski - E...         REGULAR   \n",
       "3                           Biblioteca Central Zila Mamede         REGULAR   \n",
       "4                           Biblioteca Central Zila Mamede         REGULAR   \n",
       "...                                                    ...             ...   \n",
       "2072553  Biblioteca Setorial da Faculdade de Ciências d...         REGULAR   \n",
       "2072554  Biblioteca Setorial da Faculdade de Ciências d...         REGULAR   \n",
       "2072555  Biblioteca Setorial da Faculdade de Ciências d...         REGULAR   \n",
       "2072556                     Biblioteca Central Zila Mamede         REGULAR   \n",
       "2072557                     Biblioteca Central Zila Mamede         REGULAR   \n",
       "\n",
       "         localizacao  registro_sistema                                     cdu  \n",
       "0                630              4225                     Ciências aplicadas.  \n",
       "1                647             25009                     Ciências aplicadas.  \n",
       "2                640             75019                     Ciências aplicadas.  \n",
       "3                609             44494                     Ciências aplicadas.  \n",
       "4                630              4225                     Ciências aplicadas.  \n",
       "...              ...               ...                                     ...  \n",
       "2072553          684            110098                     Ciências aplicadas.  \n",
       "2072554          628            110171                     Ciências aplicadas.  \n",
       "2072555          653            134173                     Ciências aplicadas.  \n",
       "2072556          675             67712                     Ciências aplicadas.  \n",
       "2072557           14            205153  Generalidades. Ciência e conhecimento.  \n",
       "\n",
       "[2072558 rows x 15 columns]"
      ]
     },
     "execution_count": 16,
     "metadata": {},
     "output_type": "execute_result"
    }
   ],
   "source": [
    "# aplicando a função no df e criando coluna\n",
    "\n",
    "df_completo['cdu'] = df_completo['localizacao'].apply(classificar)\n",
    "df_completo"
   ]
  },
  {
   "cell_type": "markdown",
   "metadata": {},
   "source": [
    "Dropando Registro Sistema"
   ]
  },
  {
   "cell_type": "code",
   "execution_count": 17,
   "metadata": {},
   "outputs": [
    {
     "data": {
      "text/html": [
       "<div>\n",
       "<style scoped>\n",
       "    .dataframe tbody tr th:only-of-type {\n",
       "        vertical-align: middle;\n",
       "    }\n",
       "\n",
       "    .dataframe tbody tr th {\n",
       "        vertical-align: top;\n",
       "    }\n",
       "\n",
       "    .dataframe thead th {\n",
       "        text-align: right;\n",
       "    }\n",
       "</style>\n",
       "<table border=\"1\" class=\"dataframe\">\n",
       "  <thead>\n",
       "    <tr style=\"text-align: right;\">\n",
       "      <th></th>\n",
       "      <th>id_emprestimo</th>\n",
       "      <th>codigo_barras</th>\n",
       "      <th>data_renovacao</th>\n",
       "      <th>data_emprestimo</th>\n",
       "      <th>data_devolucao</th>\n",
       "      <th>matricula_ou_siape</th>\n",
       "      <th>tipo_vinculo_usuario</th>\n",
       "      <th>ano_emprestimo</th>\n",
       "      <th>id_exemplar</th>\n",
       "      <th>colecao</th>\n",
       "      <th>biblioteca</th>\n",
       "      <th>status_material</th>\n",
       "      <th>localizacao</th>\n",
       "      <th>cdu</th>\n",
       "    </tr>\n",
       "  </thead>\n",
       "  <tbody>\n",
       "    <tr>\n",
       "      <th>0</th>\n",
       "      <td>709684</td>\n",
       "      <td>L095049</td>\n",
       "      <td>NaN</td>\n",
       "      <td>2010/01/04 07:44:10.721000000</td>\n",
       "      <td>2010/01/05 16:26:12.662000000</td>\n",
       "      <td>2.008023e+09</td>\n",
       "      <td>ALUNO DE GRADUAÇÃO</td>\n",
       "      <td>2010</td>\n",
       "      <td>13259</td>\n",
       "      <td>Acervo Circulante</td>\n",
       "      <td>Biblioteca Central Zila Mamede</td>\n",
       "      <td>REGULAR</td>\n",
       "      <td>630</td>\n",
       "      <td>Ciências aplicadas.</td>\n",
       "    </tr>\n",
       "    <tr>\n",
       "      <th>1</th>\n",
       "      <td>709685</td>\n",
       "      <td>L167050</td>\n",
       "      <td>NaN</td>\n",
       "      <td>2010/01/04 07:44:10.750000000</td>\n",
       "      <td>2010/01/12 07:34:13.934000000</td>\n",
       "      <td>2.008023e+09</td>\n",
       "      <td>ALUNO DE GRADUAÇÃO</td>\n",
       "      <td>2010</td>\n",
       "      <td>70865</td>\n",
       "      <td>Acervo Circulante</td>\n",
       "      <td>Biblioteca Central Zila Mamede</td>\n",
       "      <td>REGULAR</td>\n",
       "      <td>647</td>\n",
       "      <td>Ciências aplicadas.</td>\n",
       "    </tr>\n",
       "    <tr>\n",
       "      <th>2</th>\n",
       "      <td>709686</td>\n",
       "      <td>2006017618</td>\n",
       "      <td>2010/01/26 08:07:01.738000000</td>\n",
       "      <td>2010/01/04 08:08:44.081000000</td>\n",
       "      <td>2010/02/25 07:36:25.800000000</td>\n",
       "      <td>2.008112e+09</td>\n",
       "      <td>ALUNO DE PÓS-GRADUAÇÃO</td>\n",
       "      <td>2010</td>\n",
       "      <td>195347</td>\n",
       "      <td>Acervo Circulante</td>\n",
       "      <td>Biblioteca Setorial Prof. Rodolfo Helinski - E...</td>\n",
       "      <td>REGULAR</td>\n",
       "      <td>640</td>\n",
       "      <td>Ciências aplicadas.</td>\n",
       "    </tr>\n",
       "    <tr>\n",
       "      <th>3</th>\n",
       "      <td>709687</td>\n",
       "      <td>L184117</td>\n",
       "      <td>2010/01/18 11:07:46.470000000</td>\n",
       "      <td>2010/01/04 08:24:21.284000000</td>\n",
       "      <td>2010/02/03 08:58:45.692000000</td>\n",
       "      <td>2.007211e+08</td>\n",
       "      <td>ALUNO DE GRADUAÇÃO</td>\n",
       "      <td>2010</td>\n",
       "      <td>131639</td>\n",
       "      <td>Acervo Circulante</td>\n",
       "      <td>Biblioteca Central Zila Mamede</td>\n",
       "      <td>REGULAR</td>\n",
       "      <td>609</td>\n",
       "      <td>Ciências aplicadas.</td>\n",
       "    </tr>\n",
       "    <tr>\n",
       "      <th>4</th>\n",
       "      <td>709684</td>\n",
       "      <td>L095049</td>\n",
       "      <td>NaN</td>\n",
       "      <td>2010/01/04 07:44:10.721000000</td>\n",
       "      <td>2010/01/05 16:26:12.662000000</td>\n",
       "      <td>2.008023e+09</td>\n",
       "      <td>ALUNO DE GRADUAÇÃO</td>\n",
       "      <td>2010</td>\n",
       "      <td>13259</td>\n",
       "      <td>Acervo Circulante</td>\n",
       "      <td>Biblioteca Central Zila Mamede</td>\n",
       "      <td>REGULAR</td>\n",
       "      <td>630</td>\n",
       "      <td>Ciências aplicadas.</td>\n",
       "    </tr>\n",
       "    <tr>\n",
       "      <th>...</th>\n",
       "      <td>...</td>\n",
       "      <td>...</td>\n",
       "      <td>...</td>\n",
       "      <td>...</td>\n",
       "      <td>...</td>\n",
       "      <td>...</td>\n",
       "      <td>...</td>\n",
       "      <td>...</td>\n",
       "      <td>...</td>\n",
       "      <td>...</td>\n",
       "      <td>...</td>\n",
       "      <td>...</td>\n",
       "      <td>...</td>\n",
       "      <td>...</td>\n",
       "    </tr>\n",
       "    <tr>\n",
       "      <th>2072553</th>\n",
       "      <td>2989086</td>\n",
       "      <td>2008047044</td>\n",
       "      <td>NaN</td>\n",
       "      <td>2020/05/05 19:51:06.059000000</td>\n",
       "      <td>2021/05/13 14:53:31.000000000</td>\n",
       "      <td>3.067431e+06</td>\n",
       "      <td>SERVIDOR TÉCNICO-ADMINISTRATIVO</td>\n",
       "      <td>2020</td>\n",
       "      <td>256297</td>\n",
       "      <td>Acervo Circulante</td>\n",
       "      <td>Biblioteca Setorial da Faculdade de Ciências d...</td>\n",
       "      <td>REGULAR</td>\n",
       "      <td>684</td>\n",
       "      <td>Ciências aplicadas.</td>\n",
       "    </tr>\n",
       "    <tr>\n",
       "      <th>2072554</th>\n",
       "      <td>2989087</td>\n",
       "      <td>2008047047</td>\n",
       "      <td>NaN</td>\n",
       "      <td>2020/05/05 19:51:06.135000000</td>\n",
       "      <td>2021/05/13 14:53:38.000000000</td>\n",
       "      <td>3.067431e+06</td>\n",
       "      <td>SERVIDOR TÉCNICO-ADMINISTRATIVO</td>\n",
       "      <td>2020</td>\n",
       "      <td>256406</td>\n",
       "      <td>Acervo Circulante</td>\n",
       "      <td>Biblioteca Setorial da Faculdade de Ciências d...</td>\n",
       "      <td>REGULAR</td>\n",
       "      <td>628</td>\n",
       "      <td>Ciências aplicadas.</td>\n",
       "    </tr>\n",
       "    <tr>\n",
       "      <th>2072555</th>\n",
       "      <td>2989088</td>\n",
       "      <td>2010052905</td>\n",
       "      <td>NaN</td>\n",
       "      <td>2020/05/05 19:51:06.164000000</td>\n",
       "      <td>2021/05/13 15:01:46.000000000</td>\n",
       "      <td>3.067431e+06</td>\n",
       "      <td>SERVIDOR TÉCNICO-ADMINISTRATIVO</td>\n",
       "      <td>2020</td>\n",
       "      <td>807821</td>\n",
       "      <td>Acervo Circulante</td>\n",
       "      <td>Biblioteca Setorial da Faculdade de Ciências d...</td>\n",
       "      <td>REGULAR</td>\n",
       "      <td>653</td>\n",
       "      <td>Ciências aplicadas.</td>\n",
       "    </tr>\n",
       "    <tr>\n",
       "      <th>2072556</th>\n",
       "      <td>2989089</td>\n",
       "      <td>2010048023</td>\n",
       "      <td>NaN</td>\n",
       "      <td>2020/06/09 11:54:02.669000000</td>\n",
       "      <td>2021/07/21 15:33:55.000000000</td>\n",
       "      <td>2.020101e+10</td>\n",
       "      <td>ALUNO DE PÓS-GRADUAÇÃO</td>\n",
       "      <td>2020</td>\n",
       "      <td>804885</td>\n",
       "      <td>Acervo Circulante</td>\n",
       "      <td>Biblioteca Central Zila Mamede</td>\n",
       "      <td>REGULAR</td>\n",
       "      <td>675</td>\n",
       "      <td>Ciências aplicadas.</td>\n",
       "    </tr>\n",
       "    <tr>\n",
       "      <th>2072557</th>\n",
       "      <td>2989090</td>\n",
       "      <td>2013106838</td>\n",
       "      <td>NaN</td>\n",
       "      <td>2020/06/09 11:54:02.852000000</td>\n",
       "      <td>2021/07/21 15:33:45.000000000</td>\n",
       "      <td>2.020101e+10</td>\n",
       "      <td>ALUNO DE PÓS-GRADUAÇÃO</td>\n",
       "      <td>2020</td>\n",
       "      <td>1099777</td>\n",
       "      <td>Acervo Circulante</td>\n",
       "      <td>Biblioteca Central Zila Mamede</td>\n",
       "      <td>REGULAR</td>\n",
       "      <td>14</td>\n",
       "      <td>Generalidades. Ciência e conhecimento.</td>\n",
       "    </tr>\n",
       "  </tbody>\n",
       "</table>\n",
       "<p>2072558 rows × 14 columns</p>\n",
       "</div>"
      ],
      "text/plain": [
       "         id_emprestimo codigo_barras                 data_renovacao  \\\n",
       "0               709684       L095049                            NaN   \n",
       "1               709685       L167050                            NaN   \n",
       "2               709686    2006017618  2010/01/26 08:07:01.738000000   \n",
       "3               709687       L184117  2010/01/18 11:07:46.470000000   \n",
       "4               709684       L095049                            NaN   \n",
       "...                ...           ...                            ...   \n",
       "2072553        2989086    2008047044                            NaN   \n",
       "2072554        2989087    2008047047                            NaN   \n",
       "2072555        2989088    2010052905                            NaN   \n",
       "2072556        2989089    2010048023                            NaN   \n",
       "2072557        2989090    2013106838                            NaN   \n",
       "\n",
       "                       data_emprestimo                 data_devolucao  \\\n",
       "0        2010/01/04 07:44:10.721000000  2010/01/05 16:26:12.662000000   \n",
       "1        2010/01/04 07:44:10.750000000  2010/01/12 07:34:13.934000000   \n",
       "2        2010/01/04 08:08:44.081000000  2010/02/25 07:36:25.800000000   \n",
       "3        2010/01/04 08:24:21.284000000  2010/02/03 08:58:45.692000000   \n",
       "4        2010/01/04 07:44:10.721000000  2010/01/05 16:26:12.662000000   \n",
       "...                                ...                            ...   \n",
       "2072553  2020/05/05 19:51:06.059000000  2021/05/13 14:53:31.000000000   \n",
       "2072554  2020/05/05 19:51:06.135000000  2021/05/13 14:53:38.000000000   \n",
       "2072555  2020/05/05 19:51:06.164000000  2021/05/13 15:01:46.000000000   \n",
       "2072556  2020/06/09 11:54:02.669000000  2021/07/21 15:33:55.000000000   \n",
       "2072557  2020/06/09 11:54:02.852000000  2021/07/21 15:33:45.000000000   \n",
       "\n",
       "         matricula_ou_siape             tipo_vinculo_usuario ano_emprestimo  \\\n",
       "0              2.008023e+09               ALUNO DE GRADUAÇÃO           2010   \n",
       "1              2.008023e+09               ALUNO DE GRADUAÇÃO           2010   \n",
       "2              2.008112e+09           ALUNO DE PÓS-GRADUAÇÃO           2010   \n",
       "3              2.007211e+08               ALUNO DE GRADUAÇÃO           2010   \n",
       "4              2.008023e+09               ALUNO DE GRADUAÇÃO           2010   \n",
       "...                     ...                              ...            ...   \n",
       "2072553        3.067431e+06  SERVIDOR TÉCNICO-ADMINISTRATIVO           2020   \n",
       "2072554        3.067431e+06  SERVIDOR TÉCNICO-ADMINISTRATIVO           2020   \n",
       "2072555        3.067431e+06  SERVIDOR TÉCNICO-ADMINISTRATIVO           2020   \n",
       "2072556        2.020101e+10           ALUNO DE PÓS-GRADUAÇÃO           2020   \n",
       "2072557        2.020101e+10           ALUNO DE PÓS-GRADUAÇÃO           2020   \n",
       "\n",
       "         id_exemplar            colecao  \\\n",
       "0              13259  Acervo Circulante   \n",
       "1              70865  Acervo Circulante   \n",
       "2             195347  Acervo Circulante   \n",
       "3             131639  Acervo Circulante   \n",
       "4              13259  Acervo Circulante   \n",
       "...              ...                ...   \n",
       "2072553       256297  Acervo Circulante   \n",
       "2072554       256406  Acervo Circulante   \n",
       "2072555       807821  Acervo Circulante   \n",
       "2072556       804885  Acervo Circulante   \n",
       "2072557      1099777  Acervo Circulante   \n",
       "\n",
       "                                                biblioteca status_material  \\\n",
       "0                           Biblioteca Central Zila Mamede         REGULAR   \n",
       "1                           Biblioteca Central Zila Mamede         REGULAR   \n",
       "2        Biblioteca Setorial Prof. Rodolfo Helinski - E...         REGULAR   \n",
       "3                           Biblioteca Central Zila Mamede         REGULAR   \n",
       "4                           Biblioteca Central Zila Mamede         REGULAR   \n",
       "...                                                    ...             ...   \n",
       "2072553  Biblioteca Setorial da Faculdade de Ciências d...         REGULAR   \n",
       "2072554  Biblioteca Setorial da Faculdade de Ciências d...         REGULAR   \n",
       "2072555  Biblioteca Setorial da Faculdade de Ciências d...         REGULAR   \n",
       "2072556                     Biblioteca Central Zila Mamede         REGULAR   \n",
       "2072557                     Biblioteca Central Zila Mamede         REGULAR   \n",
       "\n",
       "         localizacao                                     cdu  \n",
       "0                630                     Ciências aplicadas.  \n",
       "1                647                     Ciências aplicadas.  \n",
       "2                640                     Ciências aplicadas.  \n",
       "3                609                     Ciências aplicadas.  \n",
       "4                630                     Ciências aplicadas.  \n",
       "...              ...                                     ...  \n",
       "2072553          684                     Ciências aplicadas.  \n",
       "2072554          628                     Ciências aplicadas.  \n",
       "2072555          653                     Ciências aplicadas.  \n",
       "2072556          675                     Ciências aplicadas.  \n",
       "2072557           14  Generalidades. Ciência e conhecimento.  \n",
       "\n",
       "[2072558 rows x 14 columns]"
      ]
     },
     "execution_count": 17,
     "metadata": {},
     "output_type": "execute_result"
    }
   ],
   "source": [
    "# Tirando coluna indesejada\n",
    "\n",
    "df_completo = df_completo.drop(columns='registro_sistema')\n",
    "df_completo"
   ]
  },
  {
   "cell_type": "markdown",
   "metadata": {},
   "source": [
    "Transformando matrícula em string"
   ]
  },
  {
   "cell_type": "code",
   "execution_count": 18,
   "metadata": {},
   "outputs": [
    {
     "data": {
      "text/html": [
       "<div>\n",
       "<style scoped>\n",
       "    .dataframe tbody tr th:only-of-type {\n",
       "        vertical-align: middle;\n",
       "    }\n",
       "\n",
       "    .dataframe tbody tr th {\n",
       "        vertical-align: top;\n",
       "    }\n",
       "\n",
       "    .dataframe thead th {\n",
       "        text-align: right;\n",
       "    }\n",
       "</style>\n",
       "<table border=\"1\" class=\"dataframe\">\n",
       "  <thead>\n",
       "    <tr style=\"text-align: right;\">\n",
       "      <th></th>\n",
       "      <th>id_emprestimo</th>\n",
       "      <th>codigo_barras</th>\n",
       "      <th>data_renovacao</th>\n",
       "      <th>data_emprestimo</th>\n",
       "      <th>data_devolucao</th>\n",
       "      <th>matricula_ou_siape</th>\n",
       "      <th>tipo_vinculo_usuario</th>\n",
       "      <th>ano_emprestimo</th>\n",
       "      <th>id_exemplar</th>\n",
       "      <th>colecao</th>\n",
       "      <th>biblioteca</th>\n",
       "      <th>status_material</th>\n",
       "      <th>localizacao</th>\n",
       "      <th>cdu</th>\n",
       "    </tr>\n",
       "  </thead>\n",
       "  <tbody>\n",
       "    <tr>\n",
       "      <th>0</th>\n",
       "      <td>709684</td>\n",
       "      <td>L095049</td>\n",
       "      <td>NaN</td>\n",
       "      <td>2010/01/04 07:44:10.721000000</td>\n",
       "      <td>2010/01/05 16:26:12.662000000</td>\n",
       "      <td>2008023265.0</td>\n",
       "      <td>ALUNO DE GRADUAÇÃO</td>\n",
       "      <td>2010</td>\n",
       "      <td>13259</td>\n",
       "      <td>Acervo Circulante</td>\n",
       "      <td>Biblioteca Central Zila Mamede</td>\n",
       "      <td>REGULAR</td>\n",
       "      <td>630</td>\n",
       "      <td>Ciências aplicadas.</td>\n",
       "    </tr>\n",
       "    <tr>\n",
       "      <th>1</th>\n",
       "      <td>709685</td>\n",
       "      <td>L167050</td>\n",
       "      <td>NaN</td>\n",
       "      <td>2010/01/04 07:44:10.750000000</td>\n",
       "      <td>2010/01/12 07:34:13.934000000</td>\n",
       "      <td>2008023265.0</td>\n",
       "      <td>ALUNO DE GRADUAÇÃO</td>\n",
       "      <td>2010</td>\n",
       "      <td>70865</td>\n",
       "      <td>Acervo Circulante</td>\n",
       "      <td>Biblioteca Central Zila Mamede</td>\n",
       "      <td>REGULAR</td>\n",
       "      <td>647</td>\n",
       "      <td>Ciências aplicadas.</td>\n",
       "    </tr>\n",
       "    <tr>\n",
       "      <th>2</th>\n",
       "      <td>709686</td>\n",
       "      <td>2006017618</td>\n",
       "      <td>2010/01/26 08:07:01.738000000</td>\n",
       "      <td>2010/01/04 08:08:44.081000000</td>\n",
       "      <td>2010/02/25 07:36:25.800000000</td>\n",
       "      <td>2008112114.0</td>\n",
       "      <td>ALUNO DE PÓS-GRADUAÇÃO</td>\n",
       "      <td>2010</td>\n",
       "      <td>195347</td>\n",
       "      <td>Acervo Circulante</td>\n",
       "      <td>Biblioteca Setorial Prof. Rodolfo Helinski - E...</td>\n",
       "      <td>REGULAR</td>\n",
       "      <td>640</td>\n",
       "      <td>Ciências aplicadas.</td>\n",
       "    </tr>\n",
       "    <tr>\n",
       "      <th>3</th>\n",
       "      <td>709687</td>\n",
       "      <td>L184117</td>\n",
       "      <td>2010/01/18 11:07:46.470000000</td>\n",
       "      <td>2010/01/04 08:24:21.284000000</td>\n",
       "      <td>2010/02/03 08:58:45.692000000</td>\n",
       "      <td>200721119.0</td>\n",
       "      <td>ALUNO DE GRADUAÇÃO</td>\n",
       "      <td>2010</td>\n",
       "      <td>131639</td>\n",
       "      <td>Acervo Circulante</td>\n",
       "      <td>Biblioteca Central Zila Mamede</td>\n",
       "      <td>REGULAR</td>\n",
       "      <td>609</td>\n",
       "      <td>Ciências aplicadas.</td>\n",
       "    </tr>\n",
       "    <tr>\n",
       "      <th>4</th>\n",
       "      <td>709684</td>\n",
       "      <td>L095049</td>\n",
       "      <td>NaN</td>\n",
       "      <td>2010/01/04 07:44:10.721000000</td>\n",
       "      <td>2010/01/05 16:26:12.662000000</td>\n",
       "      <td>2008023265.0</td>\n",
       "      <td>ALUNO DE GRADUAÇÃO</td>\n",
       "      <td>2010</td>\n",
       "      <td>13259</td>\n",
       "      <td>Acervo Circulante</td>\n",
       "      <td>Biblioteca Central Zila Mamede</td>\n",
       "      <td>REGULAR</td>\n",
       "      <td>630</td>\n",
       "      <td>Ciências aplicadas.</td>\n",
       "    </tr>\n",
       "    <tr>\n",
       "      <th>...</th>\n",
       "      <td>...</td>\n",
       "      <td>...</td>\n",
       "      <td>...</td>\n",
       "      <td>...</td>\n",
       "      <td>...</td>\n",
       "      <td>...</td>\n",
       "      <td>...</td>\n",
       "      <td>...</td>\n",
       "      <td>...</td>\n",
       "      <td>...</td>\n",
       "      <td>...</td>\n",
       "      <td>...</td>\n",
       "      <td>...</td>\n",
       "      <td>...</td>\n",
       "    </tr>\n",
       "    <tr>\n",
       "      <th>2072553</th>\n",
       "      <td>2989086</td>\n",
       "      <td>2008047044</td>\n",
       "      <td>NaN</td>\n",
       "      <td>2020/05/05 19:51:06.059000000</td>\n",
       "      <td>2021/05/13 14:53:31.000000000</td>\n",
       "      <td>3067431.0</td>\n",
       "      <td>SERVIDOR TÉCNICO-ADMINISTRATIVO</td>\n",
       "      <td>2020</td>\n",
       "      <td>256297</td>\n",
       "      <td>Acervo Circulante</td>\n",
       "      <td>Biblioteca Setorial da Faculdade de Ciências d...</td>\n",
       "      <td>REGULAR</td>\n",
       "      <td>684</td>\n",
       "      <td>Ciências aplicadas.</td>\n",
       "    </tr>\n",
       "    <tr>\n",
       "      <th>2072554</th>\n",
       "      <td>2989087</td>\n",
       "      <td>2008047047</td>\n",
       "      <td>NaN</td>\n",
       "      <td>2020/05/05 19:51:06.135000000</td>\n",
       "      <td>2021/05/13 14:53:38.000000000</td>\n",
       "      <td>3067431.0</td>\n",
       "      <td>SERVIDOR TÉCNICO-ADMINISTRATIVO</td>\n",
       "      <td>2020</td>\n",
       "      <td>256406</td>\n",
       "      <td>Acervo Circulante</td>\n",
       "      <td>Biblioteca Setorial da Faculdade de Ciências d...</td>\n",
       "      <td>REGULAR</td>\n",
       "      <td>628</td>\n",
       "      <td>Ciências aplicadas.</td>\n",
       "    </tr>\n",
       "    <tr>\n",
       "      <th>2072555</th>\n",
       "      <td>2989088</td>\n",
       "      <td>2010052905</td>\n",
       "      <td>NaN</td>\n",
       "      <td>2020/05/05 19:51:06.164000000</td>\n",
       "      <td>2021/05/13 15:01:46.000000000</td>\n",
       "      <td>3067431.0</td>\n",
       "      <td>SERVIDOR TÉCNICO-ADMINISTRATIVO</td>\n",
       "      <td>2020</td>\n",
       "      <td>807821</td>\n",
       "      <td>Acervo Circulante</td>\n",
       "      <td>Biblioteca Setorial da Faculdade de Ciências d...</td>\n",
       "      <td>REGULAR</td>\n",
       "      <td>653</td>\n",
       "      <td>Ciências aplicadas.</td>\n",
       "    </tr>\n",
       "    <tr>\n",
       "      <th>2072556</th>\n",
       "      <td>2989089</td>\n",
       "      <td>2010048023</td>\n",
       "      <td>NaN</td>\n",
       "      <td>2020/06/09 11:54:02.669000000</td>\n",
       "      <td>2021/07/21 15:33:55.000000000</td>\n",
       "      <td>20201014993.0</td>\n",
       "      <td>ALUNO DE PÓS-GRADUAÇÃO</td>\n",
       "      <td>2020</td>\n",
       "      <td>804885</td>\n",
       "      <td>Acervo Circulante</td>\n",
       "      <td>Biblioteca Central Zila Mamede</td>\n",
       "      <td>REGULAR</td>\n",
       "      <td>675</td>\n",
       "      <td>Ciências aplicadas.</td>\n",
       "    </tr>\n",
       "    <tr>\n",
       "      <th>2072557</th>\n",
       "      <td>2989090</td>\n",
       "      <td>2013106838</td>\n",
       "      <td>NaN</td>\n",
       "      <td>2020/06/09 11:54:02.852000000</td>\n",
       "      <td>2021/07/21 15:33:45.000000000</td>\n",
       "      <td>20201014993.0</td>\n",
       "      <td>ALUNO DE PÓS-GRADUAÇÃO</td>\n",
       "      <td>2020</td>\n",
       "      <td>1099777</td>\n",
       "      <td>Acervo Circulante</td>\n",
       "      <td>Biblioteca Central Zila Mamede</td>\n",
       "      <td>REGULAR</td>\n",
       "      <td>14</td>\n",
       "      <td>Generalidades. Ciência e conhecimento.</td>\n",
       "    </tr>\n",
       "  </tbody>\n",
       "</table>\n",
       "<p>2072558 rows × 14 columns</p>\n",
       "</div>"
      ],
      "text/plain": [
       "         id_emprestimo codigo_barras                 data_renovacao  \\\n",
       "0               709684       L095049                            NaN   \n",
       "1               709685       L167050                            NaN   \n",
       "2               709686    2006017618  2010/01/26 08:07:01.738000000   \n",
       "3               709687       L184117  2010/01/18 11:07:46.470000000   \n",
       "4               709684       L095049                            NaN   \n",
       "...                ...           ...                            ...   \n",
       "2072553        2989086    2008047044                            NaN   \n",
       "2072554        2989087    2008047047                            NaN   \n",
       "2072555        2989088    2010052905                            NaN   \n",
       "2072556        2989089    2010048023                            NaN   \n",
       "2072557        2989090    2013106838                            NaN   \n",
       "\n",
       "                       data_emprestimo                 data_devolucao  \\\n",
       "0        2010/01/04 07:44:10.721000000  2010/01/05 16:26:12.662000000   \n",
       "1        2010/01/04 07:44:10.750000000  2010/01/12 07:34:13.934000000   \n",
       "2        2010/01/04 08:08:44.081000000  2010/02/25 07:36:25.800000000   \n",
       "3        2010/01/04 08:24:21.284000000  2010/02/03 08:58:45.692000000   \n",
       "4        2010/01/04 07:44:10.721000000  2010/01/05 16:26:12.662000000   \n",
       "...                                ...                            ...   \n",
       "2072553  2020/05/05 19:51:06.059000000  2021/05/13 14:53:31.000000000   \n",
       "2072554  2020/05/05 19:51:06.135000000  2021/05/13 14:53:38.000000000   \n",
       "2072555  2020/05/05 19:51:06.164000000  2021/05/13 15:01:46.000000000   \n",
       "2072556  2020/06/09 11:54:02.669000000  2021/07/21 15:33:55.000000000   \n",
       "2072557  2020/06/09 11:54:02.852000000  2021/07/21 15:33:45.000000000   \n",
       "\n",
       "        matricula_ou_siape             tipo_vinculo_usuario ano_emprestimo  \\\n",
       "0             2008023265.0               ALUNO DE GRADUAÇÃO           2010   \n",
       "1             2008023265.0               ALUNO DE GRADUAÇÃO           2010   \n",
       "2             2008112114.0           ALUNO DE PÓS-GRADUAÇÃO           2010   \n",
       "3              200721119.0               ALUNO DE GRADUAÇÃO           2010   \n",
       "4             2008023265.0               ALUNO DE GRADUAÇÃO           2010   \n",
       "...                    ...                              ...            ...   \n",
       "2072553          3067431.0  SERVIDOR TÉCNICO-ADMINISTRATIVO           2020   \n",
       "2072554          3067431.0  SERVIDOR TÉCNICO-ADMINISTRATIVO           2020   \n",
       "2072555          3067431.0  SERVIDOR TÉCNICO-ADMINISTRATIVO           2020   \n",
       "2072556      20201014993.0           ALUNO DE PÓS-GRADUAÇÃO           2020   \n",
       "2072557      20201014993.0           ALUNO DE PÓS-GRADUAÇÃO           2020   \n",
       "\n",
       "         id_exemplar            colecao  \\\n",
       "0              13259  Acervo Circulante   \n",
       "1              70865  Acervo Circulante   \n",
       "2             195347  Acervo Circulante   \n",
       "3             131639  Acervo Circulante   \n",
       "4              13259  Acervo Circulante   \n",
       "...              ...                ...   \n",
       "2072553       256297  Acervo Circulante   \n",
       "2072554       256406  Acervo Circulante   \n",
       "2072555       807821  Acervo Circulante   \n",
       "2072556       804885  Acervo Circulante   \n",
       "2072557      1099777  Acervo Circulante   \n",
       "\n",
       "                                                biblioteca status_material  \\\n",
       "0                           Biblioteca Central Zila Mamede         REGULAR   \n",
       "1                           Biblioteca Central Zila Mamede         REGULAR   \n",
       "2        Biblioteca Setorial Prof. Rodolfo Helinski - E...         REGULAR   \n",
       "3                           Biblioteca Central Zila Mamede         REGULAR   \n",
       "4                           Biblioteca Central Zila Mamede         REGULAR   \n",
       "...                                                    ...             ...   \n",
       "2072553  Biblioteca Setorial da Faculdade de Ciências d...         REGULAR   \n",
       "2072554  Biblioteca Setorial da Faculdade de Ciências d...         REGULAR   \n",
       "2072555  Biblioteca Setorial da Faculdade de Ciências d...         REGULAR   \n",
       "2072556                     Biblioteca Central Zila Mamede         REGULAR   \n",
       "2072557                     Biblioteca Central Zila Mamede         REGULAR   \n",
       "\n",
       "         localizacao                                     cdu  \n",
       "0                630                     Ciências aplicadas.  \n",
       "1                647                     Ciências aplicadas.  \n",
       "2                640                     Ciências aplicadas.  \n",
       "3                609                     Ciências aplicadas.  \n",
       "4                630                     Ciências aplicadas.  \n",
       "...              ...                                     ...  \n",
       "2072553          684                     Ciências aplicadas.  \n",
       "2072554          628                     Ciências aplicadas.  \n",
       "2072555          653                     Ciências aplicadas.  \n",
       "2072556          675                     Ciências aplicadas.  \n",
       "2072557           14  Generalidades. Ciência e conhecimento.  \n",
       "\n",
       "[2072558 rows x 14 columns]"
      ]
     },
     "execution_count": 18,
     "metadata": {},
     "output_type": "execute_result"
    }
   ],
   "source": [
    "df_completo['matricula_ou_siape'] = df_completo['matricula_ou_siape'].astype(str)\n",
    "df_completo"
   ]
  },
  {
   "cell_type": "code",
   "execution_count": 19,
   "metadata": {},
   "outputs": [
    {
     "data": {
      "text/plain": [
       "id_emprestimo\n",
       "709704     7\n",
       "709705     7\n",
       "1987946    3\n",
       "2049407    3\n",
       "1752337    3\n",
       "          ..\n",
       "709699     1\n",
       "709700     1\n",
       "709702     1\n",
       "709703     1\n",
       "2989090    1\n",
       "Name: count, Length: 2068724, dtype: int64"
      ]
     },
     "execution_count": 19,
     "metadata": {},
     "output_type": "execute_result"
    }
   ],
   "source": [
    "df_completo['id_emprestimo'].value_counts() # analisando quantos exemplares foram emprestados"
   ]
  },
  {
   "cell_type": "code",
   "execution_count": 20,
   "metadata": {},
   "outputs": [
    {
     "data": {
      "text/html": [
       "<div>\n",
       "<style scoped>\n",
       "    .dataframe tbody tr th:only-of-type {\n",
       "        vertical-align: middle;\n",
       "    }\n",
       "\n",
       "    .dataframe tbody tr th {\n",
       "        vertical-align: top;\n",
       "    }\n",
       "\n",
       "    .dataframe thead th {\n",
       "        text-align: right;\n",
       "    }\n",
       "</style>\n",
       "<table border=\"1\" class=\"dataframe\">\n",
       "  <thead>\n",
       "    <tr style=\"text-align: right;\">\n",
       "      <th></th>\n",
       "      <th>id_emprestimo</th>\n",
       "      <th>codigo_barras</th>\n",
       "      <th>data_renovacao</th>\n",
       "      <th>data_emprestimo</th>\n",
       "      <th>data_devolucao</th>\n",
       "      <th>matricula_ou_siape</th>\n",
       "      <th>tipo_vinculo_usuario</th>\n",
       "      <th>ano_emprestimo</th>\n",
       "      <th>id_exemplar</th>\n",
       "      <th>colecao</th>\n",
       "      <th>biblioteca</th>\n",
       "      <th>status_material</th>\n",
       "      <th>localizacao</th>\n",
       "      <th>cdu</th>\n",
       "    </tr>\n",
       "  </thead>\n",
       "  <tbody>\n",
       "    <tr>\n",
       "      <th>1141739</th>\n",
       "      <td>2010326</td>\n",
       "      <td>2010082015</td>\n",
       "      <td>NaN</td>\n",
       "      <td>2015/06/02 17:56:18.917000000</td>\n",
       "      <td>2015/06/19 15:42:51.000000000</td>\n",
       "      <td>2010023153.0</td>\n",
       "      <td>ALUNO DE GRADUAÇÃO</td>\n",
       "      <td>2015</td>\n",
       "      <td>1055921</td>\n",
       "      <td>Acervo Circulante</td>\n",
       "      <td>Biblioteca Central Zila Mamede</td>\n",
       "      <td>REGULAR</td>\n",
       "      <td>671</td>\n",
       "      <td>Ciências aplicadas.</td>\n",
       "    </tr>\n",
       "    <tr>\n",
       "      <th>1141740</th>\n",
       "      <td>2010326</td>\n",
       "      <td>2010082015</td>\n",
       "      <td>NaN</td>\n",
       "      <td>2015/06/02 17:56:18.917000000</td>\n",
       "      <td>2015/06/19 15:42:51.000000000</td>\n",
       "      <td>2010023153.0</td>\n",
       "      <td>ALUNO DE GRADUAÇÃO</td>\n",
       "      <td>2015</td>\n",
       "      <td>1055569</td>\n",
       "      <td>Acervo Circulante</td>\n",
       "      <td>Biblioteca Central Zila Mamede</td>\n",
       "      <td>REGULAR</td>\n",
       "      <td>699</td>\n",
       "      <td>Ciências aplicadas.</td>\n",
       "    </tr>\n",
       "    <tr>\n",
       "      <th>1141741</th>\n",
       "      <td>2010326</td>\n",
       "      <td>2010082015</td>\n",
       "      <td>NaN</td>\n",
       "      <td>2015/06/02 17:56:18.917000000</td>\n",
       "      <td>2015/06/19 15:42:51.000000000</td>\n",
       "      <td>2010023153.0</td>\n",
       "      <td>ALUNO DE GRADUAÇÃO</td>\n",
       "      <td>2015</td>\n",
       "      <td>1056359</td>\n",
       "      <td>Acervo Circulante</td>\n",
       "      <td>Biblioteca Central Zila Mamede</td>\n",
       "      <td>REGULAR</td>\n",
       "      <td>363</td>\n",
       "      <td>Ciências sociais.</td>\n",
       "    </tr>\n",
       "  </tbody>\n",
       "</table>\n",
       "</div>"
      ],
      "text/plain": [
       "         id_emprestimo codigo_barras data_renovacao  \\\n",
       "1141739        2010326    2010082015            NaN   \n",
       "1141740        2010326    2010082015            NaN   \n",
       "1141741        2010326    2010082015            NaN   \n",
       "\n",
       "                       data_emprestimo                 data_devolucao  \\\n",
       "1141739  2015/06/02 17:56:18.917000000  2015/06/19 15:42:51.000000000   \n",
       "1141740  2015/06/02 17:56:18.917000000  2015/06/19 15:42:51.000000000   \n",
       "1141741  2015/06/02 17:56:18.917000000  2015/06/19 15:42:51.000000000   \n",
       "\n",
       "        matricula_ou_siape tipo_vinculo_usuario ano_emprestimo  id_exemplar  \\\n",
       "1141739       2010023153.0   ALUNO DE GRADUAÇÃO           2015      1055921   \n",
       "1141740       2010023153.0   ALUNO DE GRADUAÇÃO           2015      1055569   \n",
       "1141741       2010023153.0   ALUNO DE GRADUAÇÃO           2015      1056359   \n",
       "\n",
       "                   colecao                      biblioteca status_material  \\\n",
       "1141739  Acervo Circulante  Biblioteca Central Zila Mamede         REGULAR   \n",
       "1141740  Acervo Circulante  Biblioteca Central Zila Mamede         REGULAR   \n",
       "1141741  Acervo Circulante  Biblioteca Central Zila Mamede         REGULAR   \n",
       "\n",
       "         localizacao                  cdu  \n",
       "1141739          671  Ciências aplicadas.  \n",
       "1141740          699  Ciências aplicadas.  \n",
       "1141741          363    Ciências sociais.  "
      ]
     },
     "execution_count": 20,
     "metadata": {},
     "output_type": "execute_result"
    }
   ],
   "source": [
    "df_completo.loc[df_completo['id_emprestimo'] == 2010326]"
   ]
  },
  {
   "cell_type": "markdown",
   "metadata": {},
   "source": [
    "Ou seja, 1 id de emprestimo pode conter mais de um livro."
   ]
  },
  {
   "cell_type": "code",
   "execution_count": 21,
   "metadata": {},
   "outputs": [
    {
     "data": {
      "text/plain": [
       "2068724"
      ]
     },
     "execution_count": 21,
     "metadata": {},
     "output_type": "execute_result"
    }
   ],
   "source": [
    "# numero total de emprestimos, mesmo com mais de 1 livro\n",
    "\n",
    "emprestimos = len(df_completo['id_emprestimo'].drop_duplicates())\n",
    "emprestimos "
   ]
  },
  {
   "cell_type": "code",
   "execution_count": 22,
   "metadata": {},
   "outputs": [
    {
     "data": {
      "text/plain": [
       "2072558"
      ]
     },
     "execution_count": 22,
     "metadata": {},
     "output_type": "execute_result"
    }
   ],
   "source": [
    "# numero de exemplares emprestados\n",
    "\n",
    "exemplares_emprestados = len(df_completo)\n",
    "exemplares_emprestados"
   ]
  },
  {
   "cell_type": "markdown",
   "metadata": {},
   "source": [
    "Ou seja, o filtro deverá ser pelo id_exemplar, contemplando todos os livros, não empréstimos"
   ]
  },
  {
   "cell_type": "code",
   "execution_count": 23,
   "metadata": {},
   "outputs": [],
   "source": [
    "import matplotlib.pyplot as plt\n",
    "import numpy as np\n",
    "import seaborn as sns"
   ]
  },
  {
   "cell_type": "markdown",
   "metadata": {},
   "source": [
    "Vamos usar o to.datetime para filtrar por mes futuramente"
   ]
  },
  {
   "cell_type": "code",
   "execution_count": 24,
   "metadata": {},
   "outputs": [
    {
     "data": {
      "text/html": [
       "<div>\n",
       "<style scoped>\n",
       "    .dataframe tbody tr th:only-of-type {\n",
       "        vertical-align: middle;\n",
       "    }\n",
       "\n",
       "    .dataframe tbody tr th {\n",
       "        vertical-align: top;\n",
       "    }\n",
       "\n",
       "    .dataframe thead th {\n",
       "        text-align: right;\n",
       "    }\n",
       "</style>\n",
       "<table border=\"1\" class=\"dataframe\">\n",
       "  <thead>\n",
       "    <tr style=\"text-align: right;\">\n",
       "      <th></th>\n",
       "      <th>data</th>\n",
       "      <th>quantidade</th>\n",
       "    </tr>\n",
       "  </thead>\n",
       "  <tbody>\n",
       "    <tr>\n",
       "      <th>0</th>\n",
       "      <td>2010-01-04 09:58:46.549</td>\n",
       "      <td>7</td>\n",
       "    </tr>\n",
       "    <tr>\n",
       "      <th>1</th>\n",
       "      <td>2010-01-04 09:58:46.522</td>\n",
       "      <td>7</td>\n",
       "    </tr>\n",
       "    <tr>\n",
       "      <th>2</th>\n",
       "      <td>2014-07-14 15:35:51.822</td>\n",
       "      <td>3</td>\n",
       "    </tr>\n",
       "    <tr>\n",
       "      <th>3</th>\n",
       "      <td>2015-06-02 17:56:18.917</td>\n",
       "      <td>3</td>\n",
       "    </tr>\n",
       "    <tr>\n",
       "      <th>4</th>\n",
       "      <td>2015-06-10 18:51:56.994</td>\n",
       "      <td>3</td>\n",
       "    </tr>\n",
       "    <tr>\n",
       "      <th>...</th>\n",
       "      <td>...</td>\n",
       "      <td>...</td>\n",
       "    </tr>\n",
       "    <tr>\n",
       "      <th>2068686</th>\n",
       "      <td>2010-01-19 13:39:20.746</td>\n",
       "      <td>1</td>\n",
       "    </tr>\n",
       "    <tr>\n",
       "      <th>2068687</th>\n",
       "      <td>2010-01-04 09:21:19.126</td>\n",
       "      <td>1</td>\n",
       "    </tr>\n",
       "    <tr>\n",
       "      <th>2068688</th>\n",
       "      <td>2010-01-04 09:42:28.589</td>\n",
       "      <td>1</td>\n",
       "    </tr>\n",
       "    <tr>\n",
       "      <th>2068689</th>\n",
       "      <td>2010-01-04 09:48:05.637</td>\n",
       "      <td>1</td>\n",
       "    </tr>\n",
       "    <tr>\n",
       "      <th>2068690</th>\n",
       "      <td>2010-01-04 09:56:42.325</td>\n",
       "      <td>1</td>\n",
       "    </tr>\n",
       "  </tbody>\n",
       "</table>\n",
       "<p>2068691 rows × 2 columns</p>\n",
       "</div>"
      ],
      "text/plain": [
       "                           data  quantidade\n",
       "0       2010-01-04 09:58:46.549           7\n",
       "1       2010-01-04 09:58:46.522           7\n",
       "2       2014-07-14 15:35:51.822           3\n",
       "3       2015-06-02 17:56:18.917           3\n",
       "4       2015-06-10 18:51:56.994           3\n",
       "...                         ...         ...\n",
       "2068686 2010-01-19 13:39:20.746           1\n",
       "2068687 2010-01-04 09:21:19.126           1\n",
       "2068688 2010-01-04 09:42:28.589           1\n",
       "2068689 2010-01-04 09:48:05.637           1\n",
       "2068690 2010-01-04 09:56:42.325           1\n",
       "\n",
       "[2068691 rows x 2 columns]"
      ]
     },
     "execution_count": 24,
     "metadata": {},
     "output_type": "execute_result"
    }
   ],
   "source": [
    "emprestimo_data = pd.DataFrame(df_completo['data_emprestimo'].value_counts()).reset_index()\n",
    "emprestimo_data.columns = ['data', 'quantidade']\n",
    "emprestimo_data['data'] = pd.to_datetime(emprestimo_data['data'])\n",
    "emprestimo_data"
   ]
  },
  {
   "cell_type": "code",
   "execution_count": 25,
   "metadata": {},
   "outputs": [
    {
     "data": {
      "text/html": [
       "<div>\n",
       "<style scoped>\n",
       "    .dataframe tbody tr th:only-of-type {\n",
       "        vertical-align: middle;\n",
       "    }\n",
       "\n",
       "    .dataframe tbody tr th {\n",
       "        vertical-align: top;\n",
       "    }\n",
       "\n",
       "    .dataframe thead th {\n",
       "        text-align: right;\n",
       "    }\n",
       "</style>\n",
       "<table border=\"1\" class=\"dataframe\">\n",
       "  <thead>\n",
       "    <tr style=\"text-align: right;\">\n",
       "      <th></th>\n",
       "      <th>quantidade</th>\n",
       "    </tr>\n",
       "    <tr>\n",
       "      <th>data</th>\n",
       "      <th></th>\n",
       "    </tr>\n",
       "  </thead>\n",
       "  <tbody>\n",
       "    <tr>\n",
       "      <th>2010</th>\n",
       "      <td>161412</td>\n",
       "    </tr>\n",
       "    <tr>\n",
       "      <th>2011</th>\n",
       "      <td>196390</td>\n",
       "    </tr>\n",
       "    <tr>\n",
       "      <th>2012</th>\n",
       "      <td>221365</td>\n",
       "    </tr>\n",
       "    <tr>\n",
       "      <th>2013</th>\n",
       "      <td>234749</td>\n",
       "    </tr>\n",
       "    <tr>\n",
       "      <th>2014</th>\n",
       "      <td>219189</td>\n",
       "    </tr>\n",
       "  </tbody>\n",
       "</table>\n",
       "</div>"
      ],
      "text/plain": [
       "      quantidade\n",
       "data            \n",
       "2010      161412\n",
       "2011      196390\n",
       "2012      221365\n",
       "2013      234749\n",
       "2014      219189"
      ]
     },
     "execution_count": 25,
     "metadata": {},
     "output_type": "execute_result"
    }
   ],
   "source": [
    "# emprestimos por ano agora\n",
    "emprestimo_ano = emprestimo_data.groupby(emprestimo_data['data'].dt.year).sum(numeric_only=True)\n",
    "emprestimo_ano.head()"
   ]
  },
  {
   "cell_type": "code",
   "execution_count": 26,
   "metadata": {},
   "outputs": [
    {
     "data": {
      "text/plain": [
       "Text(0.5, 1.0, 'Exemplares emprestados por ano')"
      ]
     },
     "execution_count": 26,
     "metadata": {},
     "output_type": "execute_result"
    },
    {
     "data": {
      "image/png": "[encoded data removed]",
      "text/plain": [
       "<Figure size 1500x800 with 1 Axes>"
      ]
     },
     "metadata": {},
     "output_type": "display_data"
    }
   ],
   "source": [
    "# gerando o gráfico por ano\n",
    "\n",
    "sns.set_theme(context='notebook', style='darkgrid', palette='deep', \n",
    "              font='sans-serif', font_scale=1, color_codes=True, rc={\"figure.figsize\":(15,8)})\n",
    "grafico = sns.lineplot(emprestimo_ano)\n",
    "grafico.tick_params(axis='x', rotation = 35)\n",
    "grafico.set_title('Exemplares emprestados por ano', size = 20)\n"
   ]
  },
  {
   "cell_type": "markdown",
   "metadata": {},
   "source": [
    "Vê-se grande declínio de emprestimos após o ano de 2019"
   ]
  },
  {
   "cell_type": "code",
   "execution_count": 27,
   "metadata": {},
   "outputs": [
    {
     "data": {
      "text/html": [
       "<div>\n",
       "<style scoped>\n",
       "    .dataframe tbody tr th:only-of-type {\n",
       "        vertical-align: middle;\n",
       "    }\n",
       "\n",
       "    .dataframe tbody tr th {\n",
       "        vertical-align: top;\n",
       "    }\n",
       "\n",
       "    .dataframe thead th {\n",
       "        text-align: right;\n",
       "    }\n",
       "</style>\n",
       "<table border=\"1\" class=\"dataframe\">\n",
       "  <thead>\n",
       "    <tr style=\"text-align: right;\">\n",
       "      <th></th>\n",
       "      <th>quantidade</th>\n",
       "    </tr>\n",
       "    <tr>\n",
       "      <th>data</th>\n",
       "      <th></th>\n",
       "    </tr>\n",
       "  </thead>\n",
       "  <tbody>\n",
       "    <tr>\n",
       "      <th>1</th>\n",
       "      <td>67542</td>\n",
       "    </tr>\n",
       "    <tr>\n",
       "      <th>2</th>\n",
       "      <td>210200</td>\n",
       "    </tr>\n",
       "    <tr>\n",
       "      <th>3</th>\n",
       "      <td>252185</td>\n",
       "    </tr>\n",
       "    <tr>\n",
       "      <th>4</th>\n",
       "      <td>208725</td>\n",
       "    </tr>\n",
       "    <tr>\n",
       "      <th>5</th>\n",
       "      <td>202530</td>\n",
       "    </tr>\n",
       "  </tbody>\n",
       "</table>\n",
       "</div>"
      ],
      "text/plain": [
       "      quantidade\n",
       "data            \n",
       "1          67542\n",
       "2         210200\n",
       "3         252185\n",
       "4         208725\n",
       "5         202530"
      ]
     },
     "execution_count": 27,
     "metadata": {},
     "output_type": "execute_result"
    }
   ],
   "source": [
    "# mesmo exercício por mês do ano\n",
    "emprestimo_mes = emprestimo_data.groupby(emprestimo_data['data'].dt.month).sum(numeric_only=True)\n",
    "emprestimo_mes.head()"
   ]
  },
  {
   "cell_type": "code",
   "execution_count": 28,
   "metadata": {},
   "outputs": [
    {
     "data": {
      "text/plain": [
       "Text(0, 0.5, 'Emprestimos')"
      ]
     },
     "execution_count": 28,
     "metadata": {},
     "output_type": "execute_result"
    },
    {
     "data": {
      "image/png": "[encoded data removed]",
      "text/plain": [
       "<Figure size 1500x800 with 1 Axes>"
      ]
     },
     "metadata": {},
     "output_type": "display_data"
    }
   ],
   "source": [
    "# gerando o gráfico por mes\n",
    "\n",
    "sns.set_theme(context='notebook', style='darkgrid', palette='deep', \n",
    "              font='sans-serif', font_scale=1, color_codes=True, rc={\"figure.figsize\":(15,8)})\n",
    "grafico = sns.lineplot(emprestimo_mes)\n",
    "grafico.set_title('Exemplares emprestados por mes', size = 20)\n",
    "plt.xticks(range(1, 13, 1))\n",
    "plt.xlabel('Mes')\n",
    "plt.ylabel('Emprestimos')\n"
   ]
  },
  {
   "cell_type": "markdown",
   "metadata": {},
   "source": [
    "Meses com maior são Março e Agosto<br>\n",
    "\n",
    "Período pré prova?<br>\n",
    "\n",
    "Melhores meses para férias: Junho e Julho"
   ]
  },
  {
   "cell_type": "code",
   "execution_count": 29,
   "metadata": {},
   "outputs": [
    {
     "data": {
      "text/html": [
       "<div>\n",
       "<style scoped>\n",
       "    .dataframe tbody tr th:only-of-type {\n",
       "        vertical-align: middle;\n",
       "    }\n",
       "\n",
       "    .dataframe tbody tr th {\n",
       "        vertical-align: top;\n",
       "    }\n",
       "\n",
       "    .dataframe thead th {\n",
       "        text-align: right;\n",
       "    }\n",
       "</style>\n",
       "<table border=\"1\" class=\"dataframe\">\n",
       "  <thead>\n",
       "    <tr style=\"text-align: right;\">\n",
       "      <th></th>\n",
       "      <th>data</th>\n",
       "      <th>quantidade</th>\n",
       "    </tr>\n",
       "  </thead>\n",
       "  <tbody>\n",
       "    <tr>\n",
       "      <th>0</th>\n",
       "      <td>0</td>\n",
       "      <td>17</td>\n",
       "    </tr>\n",
       "    <tr>\n",
       "      <th>1</th>\n",
       "      <td>6</td>\n",
       "      <td>14</td>\n",
       "    </tr>\n",
       "    <tr>\n",
       "      <th>2</th>\n",
       "      <td>7</td>\n",
       "      <td>18779</td>\n",
       "    </tr>\n",
       "    <tr>\n",
       "      <th>3</th>\n",
       "      <td>8</td>\n",
       "      <td>103420</td>\n",
       "    </tr>\n",
       "    <tr>\n",
       "      <th>4</th>\n",
       "      <td>9</td>\n",
       "      <td>131287</td>\n",
       "    </tr>\n",
       "  </tbody>\n",
       "</table>\n",
       "</div>"
      ],
      "text/plain": [
       "   data  quantidade\n",
       "0     0          17\n",
       "1     6          14\n",
       "2     7       18779\n",
       "3     8      103420\n",
       "4     9      131287"
      ]
     },
     "execution_count": 29,
     "metadata": {},
     "output_type": "execute_result"
    }
   ],
   "source": [
    "# verificando maior hora dos empréstimos\n",
    "emprestimo_hora = emprestimo_data.groupby(emprestimo_data['data'].dt.hour).sum(numeric_only=True).reset_index()\n",
    "emprestimo_hora.head()"
   ]
  },
  {
   "cell_type": "code",
   "execution_count": 30,
   "metadata": {},
   "outputs": [
    {
     "data": {
      "text/plain": [
       "Text(0.5, 0, 'hora')"
      ]
     },
     "execution_count": 30,
     "metadata": {},
     "output_type": "execute_result"
    },
    {
     "data": {
      "image/png": "[encoded data removed]",
      "text/plain": [
       "<Figure size 1500x800 with 1 Axes>"
      ]
     },
     "metadata": {},
     "output_type": "display_data"
    }
   ],
   "source": [
    "# gerando o gráfico por hora\n",
    "grafico = sns.barplot(emprestimo_hora, x = 'data', y = 'quantidade', hue= 'quantidade', palette='Purples')\n",
    "grafico.set_title('Exemplares emprestados por hora', size = 20)\n",
    "plt.xlabel('hora')\n"
   ]
  },
  {
   "cell_type": "markdown",
   "metadata": {},
   "source": [
    "Entrando com variáveis categóricas"
   ]
  },
  {
   "cell_type": "markdown",
   "metadata": {},
   "source": [
    "Temas da CDU emprestado"
   ]
  },
  {
   "cell_type": "code",
   "execution_count": 31,
   "metadata": {},
   "outputs": [
    {
     "data": {
      "text/html": [
       "<div>\n",
       "<style scoped>\n",
       "    .dataframe tbody tr th:only-of-type {\n",
       "        vertical-align: middle;\n",
       "    }\n",
       "\n",
       "    .dataframe tbody tr th {\n",
       "        vertical-align: top;\n",
       "    }\n",
       "\n",
       "    .dataframe thead th {\n",
       "        text-align: right;\n",
       "    }\n",
       "</style>\n",
       "<table border=\"1\" class=\"dataframe\">\n",
       "  <thead>\n",
       "    <tr style=\"text-align: right;\">\n",
       "      <th></th>\n",
       "      <th>id_emprestimo</th>\n",
       "      <th>codigo_barras</th>\n",
       "      <th>data_renovacao</th>\n",
       "      <th>data_emprestimo</th>\n",
       "      <th>data_devolucao</th>\n",
       "      <th>matricula_ou_siape</th>\n",
       "      <th>tipo_vinculo_usuario</th>\n",
       "      <th>ano_emprestimo</th>\n",
       "      <th>id_exemplar</th>\n",
       "      <th>colecao</th>\n",
       "      <th>biblioteca</th>\n",
       "      <th>status_material</th>\n",
       "      <th>localizacao</th>\n",
       "      <th>cdu</th>\n",
       "    </tr>\n",
       "  </thead>\n",
       "  <tbody>\n",
       "    <tr>\n",
       "      <th>0</th>\n",
       "      <td>709684</td>\n",
       "      <td>L095049</td>\n",
       "      <td>NaN</td>\n",
       "      <td>2010/01/04 07:44:10.721000000</td>\n",
       "      <td>2010/01/05 16:26:12.662000000</td>\n",
       "      <td>2008023265.0</td>\n",
       "      <td>ALUNO DE GRADUAÇÃO</td>\n",
       "      <td>2010</td>\n",
       "      <td>13259</td>\n",
       "      <td>Acervo Circulante</td>\n",
       "      <td>Biblioteca Central Zila Mamede</td>\n",
       "      <td>REGULAR</td>\n",
       "      <td>630</td>\n",
       "      <td>Ciências aplicadas.</td>\n",
       "    </tr>\n",
       "    <tr>\n",
       "      <th>1</th>\n",
       "      <td>709685</td>\n",
       "      <td>L167050</td>\n",
       "      <td>NaN</td>\n",
       "      <td>2010/01/04 07:44:10.750000000</td>\n",
       "      <td>2010/01/12 07:34:13.934000000</td>\n",
       "      <td>2008023265.0</td>\n",
       "      <td>ALUNO DE GRADUAÇÃO</td>\n",
       "      <td>2010</td>\n",
       "      <td>70865</td>\n",
       "      <td>Acervo Circulante</td>\n",
       "      <td>Biblioteca Central Zila Mamede</td>\n",
       "      <td>REGULAR</td>\n",
       "      <td>647</td>\n",
       "      <td>Ciências aplicadas.</td>\n",
       "    </tr>\n",
       "    <tr>\n",
       "      <th>2</th>\n",
       "      <td>709686</td>\n",
       "      <td>2006017618</td>\n",
       "      <td>2010/01/26 08:07:01.738000000</td>\n",
       "      <td>2010/01/04 08:08:44.081000000</td>\n",
       "      <td>2010/02/25 07:36:25.800000000</td>\n",
       "      <td>2008112114.0</td>\n",
       "      <td>ALUNO DE PÓS-GRADUAÇÃO</td>\n",
       "      <td>2010</td>\n",
       "      <td>195347</td>\n",
       "      <td>Acervo Circulante</td>\n",
       "      <td>Biblioteca Setorial Prof. Rodolfo Helinski - E...</td>\n",
       "      <td>REGULAR</td>\n",
       "      <td>640</td>\n",
       "      <td>Ciências aplicadas.</td>\n",
       "    </tr>\n",
       "    <tr>\n",
       "      <th>3</th>\n",
       "      <td>709687</td>\n",
       "      <td>L184117</td>\n",
       "      <td>2010/01/18 11:07:46.470000000</td>\n",
       "      <td>2010/01/04 08:24:21.284000000</td>\n",
       "      <td>2010/02/03 08:58:45.692000000</td>\n",
       "      <td>200721119.0</td>\n",
       "      <td>ALUNO DE GRADUAÇÃO</td>\n",
       "      <td>2010</td>\n",
       "      <td>131639</td>\n",
       "      <td>Acervo Circulante</td>\n",
       "      <td>Biblioteca Central Zila Mamede</td>\n",
       "      <td>REGULAR</td>\n",
       "      <td>609</td>\n",
       "      <td>Ciências aplicadas.</td>\n",
       "    </tr>\n",
       "    <tr>\n",
       "      <th>4</th>\n",
       "      <td>709684</td>\n",
       "      <td>L095049</td>\n",
       "      <td>NaN</td>\n",
       "      <td>2010/01/04 07:44:10.721000000</td>\n",
       "      <td>2010/01/05 16:26:12.662000000</td>\n",
       "      <td>2008023265.0</td>\n",
       "      <td>ALUNO DE GRADUAÇÃO</td>\n",
       "      <td>2010</td>\n",
       "      <td>13259</td>\n",
       "      <td>Acervo Circulante</td>\n",
       "      <td>Biblioteca Central Zila Mamede</td>\n",
       "      <td>REGULAR</td>\n",
       "      <td>630</td>\n",
       "      <td>Ciências aplicadas.</td>\n",
       "    </tr>\n",
       "  </tbody>\n",
       "</table>\n",
       "</div>"
      ],
      "text/plain": [
       "   id_emprestimo codigo_barras                 data_renovacao  \\\n",
       "0         709684       L095049                            NaN   \n",
       "1         709685       L167050                            NaN   \n",
       "2         709686    2006017618  2010/01/26 08:07:01.738000000   \n",
       "3         709687       L184117  2010/01/18 11:07:46.470000000   \n",
       "4         709684       L095049                            NaN   \n",
       "\n",
       "                 data_emprestimo                 data_devolucao  \\\n",
       "0  2010/01/04 07:44:10.721000000  2010/01/05 16:26:12.662000000   \n",
       "1  2010/01/04 07:44:10.750000000  2010/01/12 07:34:13.934000000   \n",
       "2  2010/01/04 08:08:44.081000000  2010/02/25 07:36:25.800000000   \n",
       "3  2010/01/04 08:24:21.284000000  2010/02/03 08:58:45.692000000   \n",
       "4  2010/01/04 07:44:10.721000000  2010/01/05 16:26:12.662000000   \n",
       "\n",
       "  matricula_ou_siape    tipo_vinculo_usuario ano_emprestimo  id_exemplar  \\\n",
       "0       2008023265.0      ALUNO DE GRADUAÇÃO           2010        13259   \n",
       "1       2008023265.0      ALUNO DE GRADUAÇÃO           2010        70865   \n",
       "2       2008112114.0  ALUNO DE PÓS-GRADUAÇÃO           2010       195347   \n",
       "3        200721119.0      ALUNO DE GRADUAÇÃO           2010       131639   \n",
       "4       2008023265.0      ALUNO DE GRADUAÇÃO           2010        13259   \n",
       "\n",
       "             colecao                                         biblioteca  \\\n",
       "0  Acervo Circulante                     Biblioteca Central Zila Mamede   \n",
       "1  Acervo Circulante                     Biblioteca Central Zila Mamede   \n",
       "2  Acervo Circulante  Biblioteca Setorial Prof. Rodolfo Helinski - E...   \n",
       "3  Acervo Circulante                     Biblioteca Central Zila Mamede   \n",
       "4  Acervo Circulante                     Biblioteca Central Zila Mamede   \n",
       "\n",
       "  status_material  localizacao                  cdu  \n",
       "0         REGULAR          630  Ciências aplicadas.  \n",
       "1         REGULAR          647  Ciências aplicadas.  \n",
       "2         REGULAR          640  Ciências aplicadas.  \n",
       "3         REGULAR          609  Ciências aplicadas.  \n",
       "4         REGULAR          630  Ciências aplicadas.  "
      ]
     },
     "execution_count": 31,
     "metadata": {},
     "output_type": "execute_result"
    }
   ],
   "source": [
    "df_completo.head() # relembrando"
   ]
  },
  {
   "cell_type": "markdown",
   "metadata": {},
   "source": [
    "Para cada categoria, valores únicos\n",
    "<br>\n",
    "<br>\n",
    "1. CDU\n",
    "2. Vínculo do usuário\n",
    "3. Bibliotecas\n",
    "4. Coleção"
   ]
  },
  {
   "cell_type": "code",
   "execution_count": 32,
   "metadata": {},
   "outputs": [
    {
     "data": {
      "text/plain": [
       "array(['Ciências aplicadas.', 'Linguagem. Língua. Linguística.',\n",
       "       'Ciências sociais.', 'Geografia. Biografia. História.',\n",
       "       'Matemática e ciências naturais.', 'Religião.',\n",
       "       'Generalidades. Ciência e conhecimento.',\n",
       "       'Filosofia e psicologia.', 'Belas artes.'], dtype=object)"
      ]
     },
     "execution_count": 32,
     "metadata": {},
     "output_type": "execute_result"
    }
   ],
   "source": [
    "df_completo['cdu'].unique() # quais são os cdus?"
   ]
  },
  {
   "cell_type": "code",
   "execution_count": 33,
   "metadata": {},
   "outputs": [
    {
     "data": {
      "text/plain": [
       "array(['Biblioteca Central Zila Mamede',\n",
       "       'Biblioteca Setorial Prof. Rodolfo Helinski - Escola Agrícola de Jundiaí - EAJ  - Macaiba',\n",
       "       'Biblioteca Setorial Bertha Cruz Enders - \\xadEscola de Saúde da UFRN - ESUFRN',\n",
       "       'Biblioteca Setorial do Centro Ciências da Saúde - CCS',\n",
       "       'Biblioteca Setorial Prof. Alberto Moreira Campos - \\xadDepartamento de Odontologia',\n",
       "       'Biblioteca Setorial Prof. Ronaldo Xavier de Arruda - CCET',\n",
       "       'Biblioteca Setorial do Centro de Ciências Humanas, Letras e Artes - CCHLA',\n",
       "       'Biblioteca Setorial Prof. Horácio Nicolas Solimo - \\xad Engenharia Química - EQ - CT',\n",
       "       'Biblioteca Setorial Prof. Francisco Gurgel De Azevedo - Instituto Química - IQ',\n",
       "       'Biblioteca Setorial do Centro Ciências Sociais Aplicadas - CCSA',\n",
       "       'Biblioteca Setorial do Departamento de Artes - DEART',\n",
       "       'Biblioteca Setorial Prof. Dr. Marcelo Bezerra de Melo Tinôco - DARQ - \\xadCT',\n",
       "       'Biblioteca Setorial Árvore do Conhecimento - Instituto do Cérebro - ICe',\n",
       "       'Biblioteca Setorial Moacyr de Góes - CE',\n",
       "       'Biblioteca Setorial Prof. Leopoldo Nelson - \\xadCentro de Biociências - CB',\n",
       "       'Biblioteca Setorial Dr. Paulo Bezerra - EMCM/RN - Caicó',\n",
       "       'Biblioteca Setorial Pe. Jaime Diniz - Escola de Música - EMUFRN',\n",
       "       'Biblioteca Setorial Profª. Maria Lúcia da Costa Bezerra - \\xadCERES\\xad - Caicó',\n",
       "       'Biblioteca Setorial Profª. Maria José Mamede Galvão - FELCS - Currais Novos',\n",
       "       'Biblioteca Setorial do Núcleo de Educação da Infância - NEI',\n",
       "       'Biblioteca Setorial da Faculdade de Ciências da Saúde do Trairi - FACISA - Santa Cruz',\n",
       "       'Biblioteca Setorial do Núcleo de Ensino Superior do Agreste - NESA - Nova Cruz'],\n",
       "      dtype=object)"
      ]
     },
     "execution_count": 33,
     "metadata": {},
     "output_type": "execute_result"
    }
   ],
   "source": [
    "df_completo['biblioteca'].unique() # quais usuários?"
   ]
  },
  {
   "cell_type": "code",
   "execution_count": 34,
   "metadata": {},
   "outputs": [
    {
     "data": {
      "text/plain": [
       "array(['Biblioteca Central Zila Mamede',\n",
       "       'Biblioteca Setorial Prof. Rodolfo Helinski - Escola Agrícola de Jundiaí - EAJ  - Macaiba',\n",
       "       'Biblioteca Setorial Bertha Cruz Enders - \\xadEscola de Saúde da UFRN - ESUFRN',\n",
       "       'Biblioteca Setorial do Centro Ciências da Saúde - CCS',\n",
       "       'Biblioteca Setorial Prof. Alberto Moreira Campos - \\xadDepartamento de Odontologia',\n",
       "       'Biblioteca Setorial Prof. Ronaldo Xavier de Arruda - CCET',\n",
       "       'Biblioteca Setorial do Centro de Ciências Humanas, Letras e Artes - CCHLA',\n",
       "       'Biblioteca Setorial Prof. Horácio Nicolas Solimo - \\xad Engenharia Química - EQ - CT',\n",
       "       'Biblioteca Setorial Prof. Francisco Gurgel De Azevedo - Instituto Química - IQ',\n",
       "       'Biblioteca Setorial do Centro Ciências Sociais Aplicadas - CCSA',\n",
       "       'Biblioteca Setorial do Departamento de Artes - DEART',\n",
       "       'Biblioteca Setorial Prof. Dr. Marcelo Bezerra de Melo Tinôco - DARQ - \\xadCT',\n",
       "       'Biblioteca Setorial Árvore do Conhecimento - Instituto do Cérebro - ICe',\n",
       "       'Biblioteca Setorial Moacyr de Góes - CE',\n",
       "       'Biblioteca Setorial Prof. Leopoldo Nelson - \\xadCentro de Biociências - CB',\n",
       "       'Biblioteca Setorial Dr. Paulo Bezerra - EMCM/RN - Caicó',\n",
       "       'Biblioteca Setorial Pe. Jaime Diniz - Escola de Música - EMUFRN',\n",
       "       'Biblioteca Setorial Profª. Maria Lúcia da Costa Bezerra - \\xadCERES\\xad - Caicó',\n",
       "       'Biblioteca Setorial Profª. Maria José Mamede Galvão - FELCS - Currais Novos',\n",
       "       'Biblioteca Setorial do Núcleo de Educação da Infância - NEI',\n",
       "       'Biblioteca Setorial da Faculdade de Ciências da Saúde do Trairi - FACISA - Santa Cruz',\n",
       "       'Biblioteca Setorial do Núcleo de Ensino Superior do Agreste - NESA - Nova Cruz'],\n",
       "      dtype=object)"
      ]
     },
     "execution_count": 34,
     "metadata": {},
     "output_type": "execute_result"
    }
   ],
   "source": [
    "df_completo['biblioteca'].unique() # quais bibliotecas"
   ]
  },
  {
   "cell_type": "markdown",
   "metadata": {},
   "source": [
    "Calcular percentual de cada categoria\n",
    "<br>\n",
    "Função...."
   ]
  },
  {
   "cell_type": "code",
   "execution_count": 35,
   "metadata": {},
   "outputs": [],
   "source": [
    "# função para cálculo de categoria\n",
    "\n",
    "def categorizar(categoria):\n",
    "    dataframe = pd.DataFrame(df_completo[categoria]).value_counts(). reset_index() # gerando dataframe\n",
    "    dataframe['percentual'] = round(dataframe['count'] / dataframe['count'].sum() * 100, 1) # calculando percentual\n",
    "\n",
    "    return dataframe"
   ]
  },
  {
   "cell_type": "markdown",
   "metadata": {},
   "source": [
    "Percentual CDU"
   ]
  },
  {
   "cell_type": "code",
   "execution_count": 36,
   "metadata": {},
   "outputs": [
    {
     "data": {
      "text/html": [
       "<div>\n",
       "<style scoped>\n",
       "    .dataframe tbody tr th:only-of-type {\n",
       "        vertical-align: middle;\n",
       "    }\n",
       "\n",
       "    .dataframe tbody tr th {\n",
       "        vertical-align: top;\n",
       "    }\n",
       "\n",
       "    .dataframe thead th {\n",
       "        text-align: right;\n",
       "    }\n",
       "</style>\n",
       "<table border=\"1\" class=\"dataframe\">\n",
       "  <thead>\n",
       "    <tr style=\"text-align: right;\">\n",
       "      <th></th>\n",
       "      <th>cdu</th>\n",
       "      <th>count</th>\n",
       "      <th>percentual</th>\n",
       "    </tr>\n",
       "  </thead>\n",
       "  <tbody>\n",
       "    <tr>\n",
       "      <th>0</th>\n",
       "      <td>Ciências aplicadas.</td>\n",
       "      <td>1425496</td>\n",
       "      <td>68.8</td>\n",
       "    </tr>\n",
       "    <tr>\n",
       "      <th>1</th>\n",
       "      <td>Ciências sociais.</td>\n",
       "      <td>369543</td>\n",
       "      <td>17.8</td>\n",
       "    </tr>\n",
       "    <tr>\n",
       "      <th>2</th>\n",
       "      <td>Matemática e ciências naturais.</td>\n",
       "      <td>68745</td>\n",
       "      <td>3.3</td>\n",
       "    </tr>\n",
       "    <tr>\n",
       "      <th>3</th>\n",
       "      <td>Generalidades. Ciência e conhecimento.</td>\n",
       "      <td>62525</td>\n",
       "      <td>3.0</td>\n",
       "    </tr>\n",
       "    <tr>\n",
       "      <th>4</th>\n",
       "      <td>Religião.</td>\n",
       "      <td>62295</td>\n",
       "      <td>3.0</td>\n",
       "    </tr>\n",
       "    <tr>\n",
       "      <th>5</th>\n",
       "      <td>Filosofia e psicologia.</td>\n",
       "      <td>60564</td>\n",
       "      <td>2.9</td>\n",
       "    </tr>\n",
       "    <tr>\n",
       "      <th>6</th>\n",
       "      <td>Geografia. Biografia. História.</td>\n",
       "      <td>7989</td>\n",
       "      <td>0.4</td>\n",
       "    </tr>\n",
       "    <tr>\n",
       "      <th>7</th>\n",
       "      <td>Belas artes.</td>\n",
       "      <td>7911</td>\n",
       "      <td>0.4</td>\n",
       "    </tr>\n",
       "    <tr>\n",
       "      <th>8</th>\n",
       "      <td>Linguagem. Língua. Linguística.</td>\n",
       "      <td>7490</td>\n",
       "      <td>0.4</td>\n",
       "    </tr>\n",
       "  </tbody>\n",
       "</table>\n",
       "</div>"
      ],
      "text/plain": [
       "                                      cdu    count  percentual\n",
       "0                     Ciências aplicadas.  1425496        68.8\n",
       "1                       Ciências sociais.   369543        17.8\n",
       "2         Matemática e ciências naturais.    68745         3.3\n",
       "3  Generalidades. Ciência e conhecimento.    62525         3.0\n",
       "4                               Religião.    62295         3.0\n",
       "5                 Filosofia e psicologia.    60564         2.9\n",
       "6         Geografia. Biografia. História.     7989         0.4\n",
       "7                            Belas artes.     7911         0.4\n",
       "8         Linguagem. Língua. Linguística.     7490         0.4"
      ]
     },
     "execution_count": 36,
     "metadata": {},
     "output_type": "execute_result"
    }
   ],
   "source": [
    "cdu = categorizar('cdu')\n",
    "cdu"
   ]
  },
  {
   "cell_type": "markdown",
   "metadata": {},
   "source": [
    "Percentual Vinculo"
   ]
  },
  {
   "cell_type": "code",
   "execution_count": 37,
   "metadata": {},
   "outputs": [
    {
     "data": {
      "text/html": [
       "<div>\n",
       "<style scoped>\n",
       "    .dataframe tbody tr th:only-of-type {\n",
       "        vertical-align: middle;\n",
       "    }\n",
       "\n",
       "    .dataframe tbody tr th {\n",
       "        vertical-align: top;\n",
       "    }\n",
       "\n",
       "    .dataframe thead th {\n",
       "        text-align: right;\n",
       "    }\n",
       "</style>\n",
       "<table border=\"1\" class=\"dataframe\">\n",
       "  <thead>\n",
       "    <tr style=\"text-align: right;\">\n",
       "      <th></th>\n",
       "      <th>tipo_vinculo_usuario</th>\n",
       "      <th>count</th>\n",
       "      <th>percentual</th>\n",
       "    </tr>\n",
       "  </thead>\n",
       "  <tbody>\n",
       "    <tr>\n",
       "      <th>0</th>\n",
       "      <td>ALUNO DE GRADUAÇÃO</td>\n",
       "      <td>1612351</td>\n",
       "      <td>77.8</td>\n",
       "    </tr>\n",
       "    <tr>\n",
       "      <th>1</th>\n",
       "      <td>ALUNO DE PÓS-GRADUAÇÃO</td>\n",
       "      <td>302547</td>\n",
       "      <td>14.6</td>\n",
       "    </tr>\n",
       "    <tr>\n",
       "      <th>2</th>\n",
       "      <td>DOCENTE</td>\n",
       "      <td>70981</td>\n",
       "      <td>3.4</td>\n",
       "    </tr>\n",
       "    <tr>\n",
       "      <th>3</th>\n",
       "      <td>SERVIDOR TÉCNICO-ADMINISTRATIVO</td>\n",
       "      <td>32184</td>\n",
       "      <td>1.6</td>\n",
       "    </tr>\n",
       "    <tr>\n",
       "      <th>4</th>\n",
       "      <td>ALUNO MÉDIO/TÉCNICO</td>\n",
       "      <td>28032</td>\n",
       "      <td>1.4</td>\n",
       "    </tr>\n",
       "    <tr>\n",
       "      <th>5</th>\n",
       "      <td>DOCENTE EXTERNO</td>\n",
       "      <td>23949</td>\n",
       "      <td>1.2</td>\n",
       "    </tr>\n",
       "    <tr>\n",
       "      <th>6</th>\n",
       "      <td>USUÁRIO EXTERNO</td>\n",
       "      <td>2509</td>\n",
       "      <td>0.1</td>\n",
       "    </tr>\n",
       "    <tr>\n",
       "      <th>7</th>\n",
       "      <td>OUTROS</td>\n",
       "      <td>5</td>\n",
       "      <td>0.0</td>\n",
       "    </tr>\n",
       "  </tbody>\n",
       "</table>\n",
       "</div>"
      ],
      "text/plain": [
       "              tipo_vinculo_usuario    count  percentual\n",
       "0               ALUNO DE GRADUAÇÃO  1612351        77.8\n",
       "1           ALUNO DE PÓS-GRADUAÇÃO   302547        14.6\n",
       "2                          DOCENTE    70981         3.4\n",
       "3  SERVIDOR TÉCNICO-ADMINISTRATIVO    32184         1.6\n",
       "4              ALUNO MÉDIO/TÉCNICO    28032         1.4\n",
       "5                  DOCENTE EXTERNO    23949         1.2\n",
       "6                  USUÁRIO EXTERNO     2509         0.1\n",
       "7                           OUTROS        5         0.0"
      ]
     },
     "execution_count": 37,
     "metadata": {},
     "output_type": "execute_result"
    }
   ],
   "source": [
    "vinculo = categorizar('tipo_vinculo_usuario')\n",
    "vinculo"
   ]
  },
  {
   "cell_type": "markdown",
   "metadata": {},
   "source": [
    "Percentual Biblioteca"
   ]
  },
  {
   "cell_type": "code",
   "execution_count": 38,
   "metadata": {},
   "outputs": [
    {
     "data": {
      "text/html": [
       "<div>\n",
       "<style scoped>\n",
       "    .dataframe tbody tr th:only-of-type {\n",
       "        vertical-align: middle;\n",
       "    }\n",
       "\n",
       "    .dataframe tbody tr th {\n",
       "        vertical-align: top;\n",
       "    }\n",
       "\n",
       "    .dataframe thead th {\n",
       "        text-align: right;\n",
       "    }\n",
       "</style>\n",
       "<table border=\"1\" class=\"dataframe\">\n",
       "  <thead>\n",
       "    <tr style=\"text-align: right;\">\n",
       "      <th></th>\n",
       "      <th>biblioteca</th>\n",
       "      <th>count</th>\n",
       "      <th>percentual</th>\n",
       "    </tr>\n",
       "  </thead>\n",
       "  <tbody>\n",
       "    <tr>\n",
       "      <th>0</th>\n",
       "      <td>Biblioteca Central Zila Mamede</td>\n",
       "      <td>1426148</td>\n",
       "      <td>68.8</td>\n",
       "    </tr>\n",
       "    <tr>\n",
       "      <th>1</th>\n",
       "      <td>Biblioteca Setorial do Centro Ciências da Saúd...</td>\n",
       "      <td>118616</td>\n",
       "      <td>5.7</td>\n",
       "    </tr>\n",
       "    <tr>\n",
       "      <th>2</th>\n",
       "      <td>Biblioteca Setorial da Faculdade de Ciências d...</td>\n",
       "      <td>77609</td>\n",
       "      <td>3.7</td>\n",
       "    </tr>\n",
       "    <tr>\n",
       "      <th>3</th>\n",
       "      <td>Biblioteca Setorial Prof. Alberto Moreira Camp...</td>\n",
       "      <td>66452</td>\n",
       "      <td>3.2</td>\n",
       "    </tr>\n",
       "    <tr>\n",
       "      <th>4</th>\n",
       "      <td>Biblioteca Setorial Profª. Maria Lúcia da Cost...</td>\n",
       "      <td>61478</td>\n",
       "      <td>3.0</td>\n",
       "    </tr>\n",
       "    <tr>\n",
       "      <th>5</th>\n",
       "      <td>Biblioteca Setorial Bertha Cruz Enders - ­Esco...</td>\n",
       "      <td>46040</td>\n",
       "      <td>2.2</td>\n",
       "    </tr>\n",
       "    <tr>\n",
       "      <th>6</th>\n",
       "      <td>Biblioteca Setorial do Centro de Ciências Huma...</td>\n",
       "      <td>40746</td>\n",
       "      <td>2.0</td>\n",
       "    </tr>\n",
       "    <tr>\n",
       "      <th>7</th>\n",
       "      <td>Biblioteca Setorial Dr. Paulo Bezerra - EMCM/R...</td>\n",
       "      <td>32097</td>\n",
       "      <td>1.5</td>\n",
       "    </tr>\n",
       "    <tr>\n",
       "      <th>8</th>\n",
       "      <td>Biblioteca Setorial Profª. Maria José Mamede G...</td>\n",
       "      <td>29089</td>\n",
       "      <td>1.4</td>\n",
       "    </tr>\n",
       "    <tr>\n",
       "      <th>9</th>\n",
       "      <td>Biblioteca Setorial Prof. Rodolfo Helinski - E...</td>\n",
       "      <td>27220</td>\n",
       "      <td>1.3</td>\n",
       "    </tr>\n",
       "    <tr>\n",
       "      <th>10</th>\n",
       "      <td>Biblioteca Setorial Prof. Francisco Gurgel De ...</td>\n",
       "      <td>26923</td>\n",
       "      <td>1.3</td>\n",
       "    </tr>\n",
       "    <tr>\n",
       "      <th>11</th>\n",
       "      <td>Biblioteca Setorial do Núcleo de Educação da I...</td>\n",
       "      <td>23656</td>\n",
       "      <td>1.1</td>\n",
       "    </tr>\n",
       "    <tr>\n",
       "      <th>12</th>\n",
       "      <td>Biblioteca Setorial Prof. Ronaldo Xavier de Ar...</td>\n",
       "      <td>22749</td>\n",
       "      <td>1.1</td>\n",
       "    </tr>\n",
       "    <tr>\n",
       "      <th>13</th>\n",
       "      <td>Biblioteca Setorial Pe. Jaime Diniz - Escola d...</td>\n",
       "      <td>21476</td>\n",
       "      <td>1.0</td>\n",
       "    </tr>\n",
       "    <tr>\n",
       "      <th>14</th>\n",
       "      <td>Biblioteca Setorial do Departamento de Artes -...</td>\n",
       "      <td>17099</td>\n",
       "      <td>0.8</td>\n",
       "    </tr>\n",
       "    <tr>\n",
       "      <th>15</th>\n",
       "      <td>Biblioteca Setorial Prof. Leopoldo Nelson - ­C...</td>\n",
       "      <td>12900</td>\n",
       "      <td>0.6</td>\n",
       "    </tr>\n",
       "    <tr>\n",
       "      <th>16</th>\n",
       "      <td>Biblioteca Setorial do Centro Ciências Sociais...</td>\n",
       "      <td>10533</td>\n",
       "      <td>0.5</td>\n",
       "    </tr>\n",
       "    <tr>\n",
       "      <th>17</th>\n",
       "      <td>Biblioteca Setorial Prof. Dr. Marcelo Bezerra ...</td>\n",
       "      <td>5057</td>\n",
       "      <td>0.2</td>\n",
       "    </tr>\n",
       "    <tr>\n",
       "      <th>18</th>\n",
       "      <td>Biblioteca Setorial Prof. Horácio Nicolas Soli...</td>\n",
       "      <td>4098</td>\n",
       "      <td>0.2</td>\n",
       "    </tr>\n",
       "    <tr>\n",
       "      <th>19</th>\n",
       "      <td>Biblioteca Setorial Moacyr de Góes - CE</td>\n",
       "      <td>1036</td>\n",
       "      <td>0.0</td>\n",
       "    </tr>\n",
       "    <tr>\n",
       "      <th>20</th>\n",
       "      <td>Biblioteca Setorial Árvore do Conhecimento - I...</td>\n",
       "      <td>919</td>\n",
       "      <td>0.0</td>\n",
       "    </tr>\n",
       "    <tr>\n",
       "      <th>21</th>\n",
       "      <td>Biblioteca Setorial do Núcleo de Ensino Superi...</td>\n",
       "      <td>617</td>\n",
       "      <td>0.0</td>\n",
       "    </tr>\n",
       "  </tbody>\n",
       "</table>\n",
       "</div>"
      ],
      "text/plain": [
       "                                           biblioteca    count  percentual\n",
       "0                      Biblioteca Central Zila Mamede  1426148        68.8\n",
       "1   Biblioteca Setorial do Centro Ciências da Saúd...   118616         5.7\n",
       "2   Biblioteca Setorial da Faculdade de Ciências d...    77609         3.7\n",
       "3   Biblioteca Setorial Prof. Alberto Moreira Camp...    66452         3.2\n",
       "4   Biblioteca Setorial Profª. Maria Lúcia da Cost...    61478         3.0\n",
       "5   Biblioteca Setorial Bertha Cruz Enders - ­Esco...    46040         2.2\n",
       "6   Biblioteca Setorial do Centro de Ciências Huma...    40746         2.0\n",
       "7   Biblioteca Setorial Dr. Paulo Bezerra - EMCM/R...    32097         1.5\n",
       "8   Biblioteca Setorial Profª. Maria José Mamede G...    29089         1.4\n",
       "9   Biblioteca Setorial Prof. Rodolfo Helinski - E...    27220         1.3\n",
       "10  Biblioteca Setorial Prof. Francisco Gurgel De ...    26923         1.3\n",
       "11  Biblioteca Setorial do Núcleo de Educação da I...    23656         1.1\n",
       "12  Biblioteca Setorial Prof. Ronaldo Xavier de Ar...    22749         1.1\n",
       "13  Biblioteca Setorial Pe. Jaime Diniz - Escola d...    21476         1.0\n",
       "14  Biblioteca Setorial do Departamento de Artes -...    17099         0.8\n",
       "15  Biblioteca Setorial Prof. Leopoldo Nelson - ­C...    12900         0.6\n",
       "16  Biblioteca Setorial do Centro Ciências Sociais...    10533         0.5\n",
       "17  Biblioteca Setorial Prof. Dr. Marcelo Bezerra ...     5057         0.2\n",
       "18  Biblioteca Setorial Prof. Horácio Nicolas Soli...     4098         0.2\n",
       "19            Biblioteca Setorial Moacyr de Góes - CE     1036         0.0\n",
       "20  Biblioteca Setorial Árvore do Conhecimento - I...      919         0.0\n",
       "21  Biblioteca Setorial do Núcleo de Ensino Superi...      617         0.0"
      ]
     },
     "execution_count": 38,
     "metadata": {},
     "output_type": "execute_result"
    }
   ],
   "source": [
    "biblioteca = categorizar('biblioteca')\n",
    "biblioteca"
   ]
  },
  {
   "cell_type": "markdown",
   "metadata": {},
   "source": [
    "Porcentagem Coleção"
   ]
  },
  {
   "cell_type": "code",
   "execution_count": 39,
   "metadata": {},
   "outputs": [
    {
     "data": {
      "text/html": [
       "<div>\n",
       "<style scoped>\n",
       "    .dataframe tbody tr th:only-of-type {\n",
       "        vertical-align: middle;\n",
       "    }\n",
       "\n",
       "    .dataframe tbody tr th {\n",
       "        vertical-align: top;\n",
       "    }\n",
       "\n",
       "    .dataframe thead th {\n",
       "        text-align: right;\n",
       "    }\n",
       "</style>\n",
       "<table border=\"1\" class=\"dataframe\">\n",
       "  <thead>\n",
       "    <tr style=\"text-align: right;\">\n",
       "      <th></th>\n",
       "      <th>colecao</th>\n",
       "      <th>count</th>\n",
       "      <th>percentual</th>\n",
       "    </tr>\n",
       "  </thead>\n",
       "  <tbody>\n",
       "    <tr>\n",
       "      <th>0</th>\n",
       "      <td>Acervo Circulante</td>\n",
       "      <td>2053156</td>\n",
       "      <td>99.1</td>\n",
       "    </tr>\n",
       "    <tr>\n",
       "      <th>1</th>\n",
       "      <td>Multimeios</td>\n",
       "      <td>7954</td>\n",
       "      <td>0.4</td>\n",
       "    </tr>\n",
       "    <tr>\n",
       "      <th>2</th>\n",
       "      <td>Monografias</td>\n",
       "      <td>4021</td>\n",
       "      <td>0.2</td>\n",
       "    </tr>\n",
       "    <tr>\n",
       "      <th>3</th>\n",
       "      <td>Dissertações</td>\n",
       "      <td>2406</td>\n",
       "      <td>0.1</td>\n",
       "    </tr>\n",
       "    <tr>\n",
       "      <th>4</th>\n",
       "      <td>Obras de Referência</td>\n",
       "      <td>1954</td>\n",
       "      <td>0.1</td>\n",
       "    </tr>\n",
       "    <tr>\n",
       "      <th>5</th>\n",
       "      <td>Publicações de Autores do RN</td>\n",
       "      <td>866</td>\n",
       "      <td>0.0</td>\n",
       "    </tr>\n",
       "    <tr>\n",
       "      <th>6</th>\n",
       "      <td>Publicações da UFRN</td>\n",
       "      <td>764</td>\n",
       "      <td>0.0</td>\n",
       "    </tr>\n",
       "    <tr>\n",
       "      <th>7</th>\n",
       "      <td>Teses</td>\n",
       "      <td>714</td>\n",
       "      <td>0.0</td>\n",
       "    </tr>\n",
       "    <tr>\n",
       "      <th>8</th>\n",
       "      <td>Folhetos</td>\n",
       "      <td>271</td>\n",
       "      <td>0.0</td>\n",
       "    </tr>\n",
       "    <tr>\n",
       "      <th>9</th>\n",
       "      <td>Necessidades Educacionais Específicas</td>\n",
       "      <td>130</td>\n",
       "      <td>0.0</td>\n",
       "    </tr>\n",
       "    <tr>\n",
       "      <th>10</th>\n",
       "      <td>Trabalho Acadêmico</td>\n",
       "      <td>115</td>\n",
       "      <td>0.0</td>\n",
       "    </tr>\n",
       "    <tr>\n",
       "      <th>11</th>\n",
       "      <td>Eventos</td>\n",
       "      <td>101</td>\n",
       "      <td>0.0</td>\n",
       "    </tr>\n",
       "    <tr>\n",
       "      <th>12</th>\n",
       "      <td>Coleção Mossoroense</td>\n",
       "      <td>44</td>\n",
       "      <td>0.0</td>\n",
       "    </tr>\n",
       "    <tr>\n",
       "      <th>13</th>\n",
       "      <td>Coleção Zila Mamede</td>\n",
       "      <td>30</td>\n",
       "      <td>0.0</td>\n",
       "    </tr>\n",
       "    <tr>\n",
       "      <th>14</th>\n",
       "      <td>Literatura de Cordel</td>\n",
       "      <td>24</td>\n",
       "      <td>0.0</td>\n",
       "    </tr>\n",
       "    <tr>\n",
       "      <th>15</th>\n",
       "      <td>Obras Raras</td>\n",
       "      <td>8</td>\n",
       "      <td>0.0</td>\n",
       "    </tr>\n",
       "  </tbody>\n",
       "</table>\n",
       "</div>"
      ],
      "text/plain": [
       "                                  colecao    count  percentual\n",
       "0                       Acervo Circulante  2053156        99.1\n",
       "1                              Multimeios     7954         0.4\n",
       "2                             Monografias     4021         0.2\n",
       "3                            Dissertações     2406         0.1\n",
       "4                     Obras de Referência     1954         0.1\n",
       "5            Publicações de Autores do RN      866         0.0\n",
       "6                     Publicações da UFRN      764         0.0\n",
       "7                                   Teses      714         0.0\n",
       "8                                Folhetos      271         0.0\n",
       "9   Necessidades Educacionais Específicas      130         0.0\n",
       "10                     Trabalho Acadêmico      115         0.0\n",
       "11                                Eventos      101         0.0\n",
       "12                    Coleção Mossoroense       44         0.0\n",
       "13                    Coleção Zila Mamede       30         0.0\n",
       "14                   Literatura de Cordel       24         0.0\n",
       "15                            Obras Raras        8         0.0"
      ]
     },
     "execution_count": 39,
     "metadata": {},
     "output_type": "execute_result"
    }
   ],
   "source": [
    "colecao = categorizar('colecao')\n",
    "colecao"
   ]
  },
  {
   "cell_type": "markdown",
   "metadata": {},
   "source": [
    "Boxplot para demandas específicas\n",
    "\n",
    "<p> 1. Alunos de graduação e pós-graduação - um gráfico para cada tipo\n",
    "<p> 2. Coleção com maior frequencia de empréstimos\n",
    "\n",
    "<p> boxplot por ano."
   ]
  },
  {
   "cell_type": "code",
   "execution_count": 40,
   "metadata": {},
   "outputs": [
    {
     "data": {
      "text/plain": [
       "colecao\n",
       "Acervo Circulante                        1600182\n",
       "Multimeios                                  4652\n",
       "Monografias                                 3572\n",
       "Dissertações                                1152\n",
       "Obras de Referência                         1047\n",
       "Publicações de Autores do RN                 595\n",
       "Publicações da UFRN                          466\n",
       "Teses                                        245\n",
       "Folhetos                                     180\n",
       "Trabalho Acadêmico                            81\n",
       "Necessidades Educacionais Específicas         73\n",
       "Eventos                                       57\n",
       "Coleção Mossoroense                           17\n",
       "Coleção Zila Mamede                           15\n",
       "Literatura de Cordel                          11\n",
       "Obras Raras                                    6\n",
       "Name: count, dtype: int64"
      ]
     },
     "execution_count": 40,
     "metadata": {},
     "output_type": "execute_result"
    }
   ],
   "source": [
    "# para graduação, maior coleção\n",
    "\n",
    "graduacao = df_completo.query('tipo_vinculo_usuario == \"ALUNO DE GRADUAÇÃO\"')\n",
    "graduacao['colecao'].value_counts()"
   ]
  },
  {
   "cell_type": "markdown",
   "metadata": {},
   "source": [
    "Ou seja, acervo circulante deverá ser analisado para graduação."
   ]
  },
  {
   "cell_type": "code",
   "execution_count": 41,
   "metadata": {},
   "outputs": [
    {
     "data": {
      "text/html": [
       "<div>\n",
       "<style scoped>\n",
       "    .dataframe tbody tr th:only-of-type {\n",
       "        vertical-align: middle;\n",
       "    }\n",
       "\n",
       "    .dataframe tbody tr th {\n",
       "        vertical-align: top;\n",
       "    }\n",
       "\n",
       "    .dataframe thead th {\n",
       "        text-align: right;\n",
       "    }\n",
       "</style>\n",
       "<table border=\"1\" class=\"dataframe\">\n",
       "  <thead>\n",
       "    <tr style=\"text-align: right;\">\n",
       "      <th></th>\n",
       "      <th>id_emprestimo</th>\n",
       "      <th>codigo_barras</th>\n",
       "      <th>data_renovacao</th>\n",
       "      <th>data_emprestimo</th>\n",
       "      <th>data_devolucao</th>\n",
       "      <th>matricula_ou_siape</th>\n",
       "      <th>tipo_vinculo_usuario</th>\n",
       "      <th>ano_emprestimo</th>\n",
       "      <th>id_exemplar</th>\n",
       "      <th>colecao</th>\n",
       "      <th>biblioteca</th>\n",
       "      <th>status_material</th>\n",
       "      <th>localizacao</th>\n",
       "      <th>cdu</th>\n",
       "    </tr>\n",
       "  </thead>\n",
       "  <tbody>\n",
       "    <tr>\n",
       "      <th>0</th>\n",
       "      <td>709684</td>\n",
       "      <td>L095049</td>\n",
       "      <td>NaN</td>\n",
       "      <td>2010/01/04 07:44:10.721000000</td>\n",
       "      <td>2010/01/05 16:26:12.662000000</td>\n",
       "      <td>2008023265.0</td>\n",
       "      <td>ALUNO DE GRADUAÇÃO</td>\n",
       "      <td>2010</td>\n",
       "      <td>13259</td>\n",
       "      <td>Acervo Circulante</td>\n",
       "      <td>Biblioteca Central Zila Mamede</td>\n",
       "      <td>REGULAR</td>\n",
       "      <td>630</td>\n",
       "      <td>Ciências aplicadas.</td>\n",
       "    </tr>\n",
       "    <tr>\n",
       "      <th>1</th>\n",
       "      <td>709685</td>\n",
       "      <td>L167050</td>\n",
       "      <td>NaN</td>\n",
       "      <td>2010/01/04 07:44:10.750000000</td>\n",
       "      <td>2010/01/12 07:34:13.934000000</td>\n",
       "      <td>2008023265.0</td>\n",
       "      <td>ALUNO DE GRADUAÇÃO</td>\n",
       "      <td>2010</td>\n",
       "      <td>70865</td>\n",
       "      <td>Acervo Circulante</td>\n",
       "      <td>Biblioteca Central Zila Mamede</td>\n",
       "      <td>REGULAR</td>\n",
       "      <td>647</td>\n",
       "      <td>Ciências aplicadas.</td>\n",
       "    </tr>\n",
       "    <tr>\n",
       "      <th>3</th>\n",
       "      <td>709687</td>\n",
       "      <td>L184117</td>\n",
       "      <td>2010/01/18 11:07:46.470000000</td>\n",
       "      <td>2010/01/04 08:24:21.284000000</td>\n",
       "      <td>2010/02/03 08:58:45.692000000</td>\n",
       "      <td>200721119.0</td>\n",
       "      <td>ALUNO DE GRADUAÇÃO</td>\n",
       "      <td>2010</td>\n",
       "      <td>131639</td>\n",
       "      <td>Acervo Circulante</td>\n",
       "      <td>Biblioteca Central Zila Mamede</td>\n",
       "      <td>REGULAR</td>\n",
       "      <td>609</td>\n",
       "      <td>Ciências aplicadas.</td>\n",
       "    </tr>\n",
       "    <tr>\n",
       "      <th>4</th>\n",
       "      <td>709684</td>\n",
       "      <td>L095049</td>\n",
       "      <td>NaN</td>\n",
       "      <td>2010/01/04 07:44:10.721000000</td>\n",
       "      <td>2010/01/05 16:26:12.662000000</td>\n",
       "      <td>2008023265.0</td>\n",
       "      <td>ALUNO DE GRADUAÇÃO</td>\n",
       "      <td>2010</td>\n",
       "      <td>13259</td>\n",
       "      <td>Acervo Circulante</td>\n",
       "      <td>Biblioteca Central Zila Mamede</td>\n",
       "      <td>REGULAR</td>\n",
       "      <td>630</td>\n",
       "      <td>Ciências aplicadas.</td>\n",
       "    </tr>\n",
       "    <tr>\n",
       "      <th>5</th>\n",
       "      <td>709685</td>\n",
       "      <td>L167050</td>\n",
       "      <td>NaN</td>\n",
       "      <td>2010/01/04 07:44:10.750000000</td>\n",
       "      <td>2010/01/12 07:34:13.934000000</td>\n",
       "      <td>2008023265.0</td>\n",
       "      <td>ALUNO DE GRADUAÇÃO</td>\n",
       "      <td>2010</td>\n",
       "      <td>70865</td>\n",
       "      <td>Acervo Circulante</td>\n",
       "      <td>Biblioteca Central Zila Mamede</td>\n",
       "      <td>REGULAR</td>\n",
       "      <td>647</td>\n",
       "      <td>Ciências aplicadas.</td>\n",
       "    </tr>\n",
       "  </tbody>\n",
       "</table>\n",
       "</div>"
      ],
      "text/plain": [
       "   id_emprestimo codigo_barras                 data_renovacao  \\\n",
       "0         709684       L095049                            NaN   \n",
       "1         709685       L167050                            NaN   \n",
       "3         709687       L184117  2010/01/18 11:07:46.470000000   \n",
       "4         709684       L095049                            NaN   \n",
       "5         709685       L167050                            NaN   \n",
       "\n",
       "                 data_emprestimo                 data_devolucao  \\\n",
       "0  2010/01/04 07:44:10.721000000  2010/01/05 16:26:12.662000000   \n",
       "1  2010/01/04 07:44:10.750000000  2010/01/12 07:34:13.934000000   \n",
       "3  2010/01/04 08:24:21.284000000  2010/02/03 08:58:45.692000000   \n",
       "4  2010/01/04 07:44:10.721000000  2010/01/05 16:26:12.662000000   \n",
       "5  2010/01/04 07:44:10.750000000  2010/01/12 07:34:13.934000000   \n",
       "\n",
       "  matricula_ou_siape tipo_vinculo_usuario ano_emprestimo  id_exemplar  \\\n",
       "0       2008023265.0   ALUNO DE GRADUAÇÃO           2010        13259   \n",
       "1       2008023265.0   ALUNO DE GRADUAÇÃO           2010        70865   \n",
       "3        200721119.0   ALUNO DE GRADUAÇÃO           2010       131639   \n",
       "4       2008023265.0   ALUNO DE GRADUAÇÃO           2010        13259   \n",
       "5       2008023265.0   ALUNO DE GRADUAÇÃO           2010        70865   \n",
       "\n",
       "             colecao                      biblioteca status_material  \\\n",
       "0  Acervo Circulante  Biblioteca Central Zila Mamede         REGULAR   \n",
       "1  Acervo Circulante  Biblioteca Central Zila Mamede         REGULAR   \n",
       "3  Acervo Circulante  Biblioteca Central Zila Mamede         REGULAR   \n",
       "4  Acervo Circulante  Biblioteca Central Zila Mamede         REGULAR   \n",
       "5  Acervo Circulante  Biblioteca Central Zila Mamede         REGULAR   \n",
       "\n",
       "   localizacao                  cdu  \n",
       "0          630  Ciências aplicadas.  \n",
       "1          647  Ciências aplicadas.  \n",
       "3          609  Ciências aplicadas.  \n",
       "4          630  Ciências aplicadas.  \n",
       "5          647  Ciências aplicadas.  "
      ]
     },
     "execution_count": 41,
     "metadata": {},
     "output_type": "execute_result"
    }
   ],
   "source": [
    "# data frame filtrado graduação + acervo circulante\n",
    "\n",
    "graduacao_circulante = pd.DataFrame(graduacao.query('colecao == \"Acervo Circulante\"'))\n",
    "graduacao_circulante.head()"
   ]
  },
  {
   "cell_type": "code",
   "execution_count": 42,
   "metadata": {},
   "outputs": [
    {
     "data": {
      "text/plain": [
       "dtype('<M8[ns]')"
      ]
     },
     "execution_count": 42,
     "metadata": {},
     "output_type": "execute_result"
    }
   ],
   "source": [
    "# criando tabela para plotar o gráfico\n",
    "\n",
    "graduacao_circulante['data_emprestimo'] = pd.to_datetime(graduacao_circulante['data_emprestimo'])\n",
    "graduacao_circulante['data_emprestimo'].dtype"
   ]
  },
  {
   "cell_type": "code",
   "execution_count": 43,
   "metadata": {},
   "outputs": [
    {
     "data": {
      "text/html": [
       "<div>\n",
       "<style scoped>\n",
       "    .dataframe tbody tr th:only-of-type {\n",
       "        vertical-align: middle;\n",
       "    }\n",
       "\n",
       "    .dataframe tbody tr th {\n",
       "        vertical-align: top;\n",
       "    }\n",
       "\n",
       "    .dataframe thead th {\n",
       "        text-align: right;\n",
       "    }\n",
       "</style>\n",
       "<table border=\"1\" class=\"dataframe\">\n",
       "  <thead>\n",
       "    <tr style=\"text-align: right;\">\n",
       "      <th></th>\n",
       "      <th>ano</th>\n",
       "      <th>mes</th>\n",
       "      <th>quantidade</th>\n",
       "    </tr>\n",
       "  </thead>\n",
       "  <tbody>\n",
       "    <tr>\n",
       "      <th>0</th>\n",
       "      <td>2012</td>\n",
       "      <td>3</td>\n",
       "      <td>22797</td>\n",
       "    </tr>\n",
       "    <tr>\n",
       "      <th>1</th>\n",
       "      <td>2015</td>\n",
       "      <td>3</td>\n",
       "      <td>22483</td>\n",
       "    </tr>\n",
       "    <tr>\n",
       "      <th>2</th>\n",
       "      <td>2013</td>\n",
       "      <td>4</td>\n",
       "      <td>21853</td>\n",
       "    </tr>\n",
       "    <tr>\n",
       "      <th>3</th>\n",
       "      <td>2017</td>\n",
       "      <td>3</td>\n",
       "      <td>21735</td>\n",
       "    </tr>\n",
       "    <tr>\n",
       "      <th>4</th>\n",
       "      <td>2016</td>\n",
       "      <td>3</td>\n",
       "      <td>21692</td>\n",
       "    </tr>\n",
       "  </tbody>\n",
       "</table>\n",
       "</div>"
      ],
      "text/plain": [
       "    ano  mes  quantidade\n",
       "0  2012    3       22797\n",
       "1  2015    3       22483\n",
       "2  2013    4       21853\n",
       "3  2017    3       21735\n",
       "4  2016    3       21692"
      ]
     },
     "execution_count": 43,
     "metadata": {},
     "output_type": "execute_result"
    }
   ],
   "source": [
    "graduacao_circulante['ano'] = graduacao_circulante['data_emprestimo'].dt.year\n",
    "graduacao_circulante['mes'] = graduacao_circulante['data_emprestimo'].dt.month\n",
    "graduacao_circulante = graduacao_circulante.loc[:,['ano', 'mes']]\n",
    "graduacao_circulante = graduacao_circulante.value_counts().to_frame('quantidade').reset_index()\n",
    "graduacao_circulante.head()"
   ]
  },
  {
   "cell_type": "code",
   "execution_count": 44,
   "metadata": {},
   "outputs": [
    {
     "data": {
      "text/plain": [
       "(123, 3)"
      ]
     },
     "execution_count": 44,
     "metadata": {},
     "output_type": "execute_result"
    }
   ],
   "source": [
    "graduacao_circulante.shape"
   ]
  },
  {
   "cell_type": "markdown",
   "metadata": {},
   "source": [
    "Plotando Boxplot"
   ]
  },
  {
   "cell_type": "code",
   "execution_count": 45,
   "metadata": {},
   "outputs": [],
   "source": [
    "import plotly.express as px"
   ]
  },
  {
   "cell_type": "code",
   "execution_count": 46,
   "metadata": {},
   "outputs": [
    {
     "data": {
      "application/vnd.plotly.v1+json": {
       "config": {
        "plotlyServerURL": "https://plot.ly"
       },
       "data": [
        {
         "alignmentgroup": "True",
         "hovertemplate": "ano=%{x}<br>quantidade=%{y}<extra></extra>",
         "legendgroup": "",
         "marker": {
          "color": "#636efa"
         },
         "name": "",
         "notched": false,
         "offsetgroup": "",
         "orientation": "v",
         "showlegend": false,
         "type": "box",
         "x": [
          2012,
          2015,
          2013,
          2017,
          2016,
          2015,
          2013,
          2017,
          2016,
          2014,
          2011,
          2013,
          2014,
          2014,
          2018,
          2011,
          2013,
          2012,
          2013,
          2012,
          2015,
          2013,
          2016,
          2012,
          2018,
          2012,
          2012,
          2017,
          2016,
          2012,
          2014,
          2015,
          2013,
          2019,
          2012,
          2017,
          2018,
          2011,
          2011,
          2017,
          2016,
          2014,
          2011,
          2017,
          2016,
          2015,
          2011,
          2010,
          2013,
          2019,
          2014,
          2019,
          2010,
          2011,
          2018,
          2010,
          2017,
          2014,
          2016,
          2015,
          2015,
          2018,
          2014,
          2018,
          2011,
          2019,
          2014,
          2018,
          2017,
          2019,
          2016,
          2017,
          2014,
          2019,
          2010,
          2010,
          2010,
          2015,
          2013,
          2010,
          2018,
          2018,
          2012,
          2019,
          2017,
          2013,
          2015,
          2011,
          2016,
          2019,
          2016,
          2010,
          2011,
          2019,
          2015,
          2020,
          2012,
          2020,
          2010,
          2019,
          2018,
          2010,
          2013,
          2011,
          2013,
          2012,
          2010,
          2015,
          2014,
          2016,
          2015,
          2012,
          2014,
          2018,
          2017,
          2010,
          2018,
          2016,
          2017,
          2019,
          2019,
          2020,
          2011
         ],
         "x0": " ",
         "xaxis": "x",
         "y": [
          22797,
          22483,
          21853,
          21735,
          21692,
          21435,
          21356,
          21031,
          20746,
          20460,
          20393,
          20037,
          19674,
          19452,
          19452,
          19309,
          19257,
          19202,
          19189,
          18898,
          18469,
          18310,
          18144,
          18135,
          18120,
          17951,
          17663,
          17633,
          17629,
          17310,
          17089,
          17078,
          16893,
          16865,
          16688,
          16410,
          16402,
          16386,
          16128,
          15861,
          15850,
          15746,
          15648,
          15641,
          15628,
          15508,
          15363,
          15275,
          15162,
          15092,
          14923,
          14914,
          14763,
          14718,
          14689,
          14672,
          14641,
          14613,
          13990,
          13886,
          13855,
          13836,
          13690,
          13687,
          13528,
          13523,
          13445,
          13100,
          12721,
          12688,
          12679,
          12677,
          12476,
          12469,
          12430,
          12283,
          12164,
          12120,
          11816,
          11791,
          11599,
          11512,
          11194,
          11169,
          10951,
          10571,
          10499,
          10454,
          10441,
          10081,
          10016,
          9761,
          9164,
          8807,
          8798,
          8685,
          8540,
          8138,
          7769,
          7764,
          6436,
          6180,
          6018,
          6003,
          5353,
          4987,
          4776,
          4652,
          4635,
          4326,
          4032,
          3972,
          3971,
          3919,
          3624,
          3013,
          2868,
          2672,
          2671,
          2276,
          1980,
          1781,
          809
         ],
         "y0": " ",
         "yaxis": "y"
        }
       ],
       "layout": {
        "boxmode": "group",
        "legend": {
         "tracegroupgap": 0
        },
        "template": {
         "data": {
          "bar": [
           {
            "error_x": {
             "color": "#2a3f5f"
            },
            "error_y": {
             "color": "#2a3f5f"
            },
            "marker": {
             "line": {
              "color": "#E5ECF6",
              "width": 0.5
             },
             "pattern": {
              "fillmode": "overlay",
              "size": 10,
              "solidity": 0.2
             }
            },
            "type": "bar"
           }
          ],
          "barpolar": [
           {
            "marker": {
             "line": {
              "color": "#E5ECF6",
              "width": 0.5
             },
             "pattern": {
              "fillmode": "overlay",
              "size": 10,
              "solidity": 0.2
             }
            },
            "type": "barpolar"
           }
          ],
          "carpet": [
           {
            "aaxis": {
             "endlinecolor": "#2a3f5f",
             "gridcolor": "white",
             "linecolor": "white",
             "minorgridcolor": "white",
             "startlinecolor": "#2a3f5f"
            },
            "baxis": {
             "endlinecolor": "#2a3f5f",
             "gridcolor": "white",
             "linecolor": "white",
             "minorgridcolor": "white",
             "startlinecolor": "#2a3f5f"
            },
            "type": "carpet"
           }
          ],
          "choropleth": [
           {
            "colorbar": {
             "outlinewidth": 0,
             "ticks": ""
            },
            "type": "choropleth"
           }
          ],
          "contour": [
           {
            "colorbar": {
             "outlinewidth": 0,
             "ticks": ""
            },
            "colorscale": [
             [
              0,
              "#0d0887"
             ],
             [
              0.1111111111111111,
              "#46039f"
             ],
             [
              0.2222222222222222,
              "#7201a8"
             ],
             [
              0.3333333333333333,
              "#9c179e"
             ],
             [
              0.4444444444444444,
              "#bd3786"
             ],
             [
              0.5555555555555556,
              "#d8576b"
             ],
             [
              0.6666666666666666,
              "#ed7953"
             ],
             [
              0.7777777777777778,
              "#fb9f3a"
             ],
             [
              0.8888888888888888,
              "#fdca26"
             ],
             [
              1,
              "#f0f921"
             ]
            ],
            "type": "contour"
           }
          ],
          "contourcarpet": [
           {
            "colorbar": {
             "outlinewidth": 0,
             "ticks": ""
            },
            "type": "contourcarpet"
           }
          ],
          "heatmap": [
           {
            "colorbar": {
             "outlinewidth": 0,
             "ticks": ""
            },
            "colorscale": [
             [
              0,
              "#0d0887"
             ],
             [
              0.1111111111111111,
              "#46039f"
             ],
             [
              0.2222222222222222,
              "#7201a8"
             ],
             [
              0.3333333333333333,
              "#9c179e"
             ],
             [
              0.4444444444444444,
              "#bd3786"
             ],
             [
              0.5555555555555556,
              "#d8576b"
             ],
             [
              0.6666666666666666,
              "#ed7953"
             ],
             [
              0.7777777777777778,
              "#fb9f3a"
             ],
             [
              0.8888888888888888,
              "#fdca26"
             ],
             [
              1,
              "#f0f921"
             ]
            ],
            "type": "heatmap"
           }
          ],
          "heatmapgl": [
           {
            "colorbar": {
             "outlinewidth": 0,
             "ticks": ""
            },
            "colorscale": [
             [
              0,
              "#0d0887"
             ],
             [
              0.1111111111111111,
              "#46039f"
             ],
             [
              0.2222222222222222,
              "#7201a8"
             ],
             [
              0.3333333333333333,
              "#9c179e"
             ],
             [
              0.4444444444444444,
              "#bd3786"
             ],
             [
              0.5555555555555556,
              "#d8576b"
             ],
             [
              0.6666666666666666,
              "#ed7953"
             ],
             [
              0.7777777777777778,
              "#fb9f3a"
             ],
             [
              0.8888888888888888,
              "#fdca26"
             ],
             [
              1,
              "#f0f921"
             ]
            ],
            "type": "heatmapgl"
           }
          ],
          "histogram": [
           {
            "marker": {
             "pattern": {
              "fillmode": "overlay",
              "size": 10,
              "solidity": 0.2
             }
            },
            "type": "histogram"
           }
          ],
          "histogram2d": [
           {
            "colorbar": {
             "outlinewidth": 0,
             "ticks": ""
            },
            "colorscale": [
             [
              0,
              "#0d0887"
             ],
             [
              0.1111111111111111,
              "#46039f"
             ],
             [
              0.2222222222222222,
              "#7201a8"
             ],
             [
              0.3333333333333333,
              "#9c179e"
             ],
             [
              0.4444444444444444,
              "#bd3786"
             ],
             [
              0.5555555555555556,
              "#d8576b"
             ],
             [
              0.6666666666666666,
              "#ed7953"
             ],
             [
              0.7777777777777778,
              "#fb9f3a"
             ],
             [
              0.8888888888888888,
              "#fdca26"
             ],
             [
              1,
              "#f0f921"
             ]
            ],
            "type": "histogram2d"
           }
          ],
          "histogram2dcontour": [
           {
            "colorbar": {
             "outlinewidth": 0,
             "ticks": ""
            },
            "colorscale": [
             [
              0,
              "#0d0887"
             ],
             [
              0.1111111111111111,
              "#46039f"
             ],
             [
              0.2222222222222222,
              "#7201a8"
             ],
             [
              0.3333333333333333,
              "#9c179e"
             ],
             [
              0.4444444444444444,
              "#bd3786"
             ],
             [
              0.5555555555555556,
              "#d8576b"
             ],
             [
              0.6666666666666666,
              "#ed7953"
             ],
             [
              0.7777777777777778,
              "#fb9f3a"
             ],
             [
              0.8888888888888888,
              "#fdca26"
             ],
             [
              1,
              "#f0f921"
             ]
            ],
            "type": "histogram2dcontour"
           }
          ],
          "mesh3d": [
           {
            "colorbar": {
             "outlinewidth": 0,
             "ticks": ""
            },
            "type": "mesh3d"
           }
          ],
          "parcoords": [
           {
            "line": {
             "colorbar": {
              "outlinewidth": 0,
              "ticks": ""
             }
            },
            "type": "parcoords"
           }
          ],
          "pie": [
           {
            "automargin": true,
            "type": "pie"
           }
          ],
          "scatter": [
           {
            "fillpattern": {
             "fillmode": "overlay",
             "size": 10,
             "solidity": 0.2
            },
            "type": "scatter"
           }
          ],
          "scatter3d": [
           {
            "line": {
             "colorbar": {
              "outlinewidth": 0,
              "ticks": ""
             }
            },
            "marker": {
             "colorbar": {
              "outlinewidth": 0,
              "ticks": ""
             }
            },
            "type": "scatter3d"
           }
          ],
          "scattercarpet": [
           {
            "marker": {
             "colorbar": {
              "outlinewidth": 0,
              "ticks": ""
             }
            },
            "type": "scattercarpet"
           }
          ],
          "scattergeo": [
           {
            "marker": {
             "colorbar": {
              "outlinewidth": 0,
              "ticks": ""
             }
            },
            "type": "scattergeo"
           }
          ],
          "scattergl": [
           {
            "marker": {
             "colorbar": {
              "outlinewidth": 0,
              "ticks": ""
             }
            },
            "type": "scattergl"
           }
          ],
          "scattermapbox": [
           {
            "marker": {
             "colorbar": {
              "outlinewidth": 0,
              "ticks": ""
             }
            },
            "type": "scattermapbox"
           }
          ],
          "scatterpolar": [
           {
            "marker": {
             "colorbar": {
              "outlinewidth": 0,
              "ticks": ""
             }
            },
            "type": "scatterpolar"
           }
          ],
          "scatterpolargl": [
           {
            "marker": {
             "colorbar": {
              "outlinewidth": 0,
              "ticks": ""
             }
            },
            "type": "scatterpolargl"
           }
          ],
          "scatterternary": [
           {
            "marker": {
             "colorbar": {
              "outlinewidth": 0,
              "ticks": ""
             }
            },
            "type": "scatterternary"
           }
          ],
          "surface": [
           {
            "colorbar": {
             "outlinewidth": 0,
             "ticks": ""
            },
            "colorscale": [
             [
              0,
              "#0d0887"
             ],
             [
              0.1111111111111111,
              "#46039f"
             ],
             [
              0.2222222222222222,
              "#7201a8"
             ],
             [
              0.3333333333333333,
              "#9c179e"
             ],
             [
              0.4444444444444444,
              "#bd3786"
             ],
             [
              0.5555555555555556,
              "#d8576b"
             ],
             [
              0.6666666666666666,
              "#ed7953"
             ],
             [
              0.7777777777777778,
              "#fb9f3a"
             ],
             [
              0.8888888888888888,
              "#fdca26"
             ],
             [
              1,
              "#f0f921"
             ]
            ],
            "type": "surface"
           }
          ],
          "table": [
           {
            "cells": {
             "fill": {
              "color": "#EBF0F8"
             },
             "line": {
              "color": "white"
             }
            },
            "header": {
             "fill": {
              "color": "#C8D4E3"
             },
             "line": {
              "color": "white"
             }
            },
            "type": "table"
           }
          ]
         },
         "layout": {
          "annotationdefaults": {
           "arrowcolor": "#2a3f5f",
           "arrowhead": 0,
           "arrowwidth": 1
          },
          "autotypenumbers": "strict",
          "coloraxis": {
           "colorbar": {
            "outlinewidth": 0,
            "ticks": ""
           }
          },
          "colorscale": {
           "diverging": [
            [
             0,
             "#8e0152"
            ],
            [
             0.1,
             "#c51b7d"
            ],
            [
             0.2,
             "#de77ae"
            ],
            [
             0.3,
             "#f1b6da"
            ],
            [
             0.4,
             "#fde0ef"
            ],
            [
             0.5,
             "#f7f7f7"
            ],
            [
             0.6,
             "#e6f5d0"
            ],
            [
             0.7,
             "#b8e186"
            ],
            [
             0.8,
             "#7fbc41"
            ],
            [
             0.9,
             "#4d9221"
            ],
            [
             1,
             "#276419"
            ]
           ],
           "sequential": [
            [
             0,
             "#0d0887"
            ],
            [
             0.1111111111111111,
             "#46039f"
            ],
            [
             0.2222222222222222,
             "#7201a8"
            ],
            [
             0.3333333333333333,
             "#9c179e"
            ],
            [
             0.4444444444444444,
             "#bd3786"
            ],
            [
             0.5555555555555556,
             "#d8576b"
            ],
            [
             0.6666666666666666,
             "#ed7953"
            ],
            [
             0.7777777777777778,
             "#fb9f3a"
            ],
            [
             0.8888888888888888,
             "#fdca26"
            ],
            [
             1,
             "#f0f921"
            ]
           ],
           "sequentialminus": [
            [
             0,
             "#0d0887"
            ],
            [
             0.1111111111111111,
             "#46039f"
            ],
            [
             0.2222222222222222,
             "#7201a8"
            ],
            [
             0.3333333333333333,
             "#9c179e"
            ],
            [
             0.4444444444444444,
             "#bd3786"
            ],
            [
             0.5555555555555556,
             "#d8576b"
            ],
            [
             0.6666666666666666,
             "#ed7953"
            ],
            [
             0.7777777777777778,
             "#fb9f3a"
            ],
            [
             0.8888888888888888,
             "#fdca26"
            ],
            [
             1,
             "#f0f921"
            ]
           ]
          },
          "colorway": [
           "#636efa",
           "#EF553B",
           "#00cc96",
           "#ab63fa",
           "#FFA15A",
           "#19d3f3",
           "#FF6692",
           "#B6E880",
           "#FF97FF",
           "#FECB52"
          ],
          "font": {
           "color": "#2a3f5f"
          },
          "geo": {
           "bgcolor": "white",
           "lakecolor": "white",
           "landcolor": "#E5ECF6",
           "showlakes": true,
           "showland": true,
           "subunitcolor": "white"
          },
          "hoverlabel": {
           "align": "left"
          },
          "hovermode": "closest",
          "mapbox": {
           "style": "light"
          },
          "paper_bgcolor": "white",
          "plot_bgcolor": "#E5ECF6",
          "polar": {
           "angularaxis": {
            "gridcolor": "white",
            "linecolor": "white",
            "ticks": ""
           },
           "bgcolor": "#E5ECF6",
           "radialaxis": {
            "gridcolor": "white",
            "linecolor": "white",
            "ticks": ""
           }
          },
          "scene": {
           "xaxis": {
            "backgroundcolor": "#E5ECF6",
            "gridcolor": "white",
            "gridwidth": 2,
            "linecolor": "white",
            "showbackground": true,
            "ticks": "",
            "zerolinecolor": "white"
           },
           "yaxis": {
            "backgroundcolor": "#E5ECF6",
            "gridcolor": "white",
            "gridwidth": 2,
            "linecolor": "white",
            "showbackground": true,
            "ticks": "",
            "zerolinecolor": "white"
           },
           "zaxis": {
            "backgroundcolor": "#E5ECF6",
            "gridcolor": "white",
            "gridwidth": 2,
            "linecolor": "white",
            "showbackground": true,
            "ticks": "",
            "zerolinecolor": "white"
           }
          },
          "shapedefaults": {
           "line": {
            "color": "#2a3f5f"
           }
          },
          "ternary": {
           "aaxis": {
            "gridcolor": "white",
            "linecolor": "white",
            "ticks": ""
           },
           "baxis": {
            "gridcolor": "white",
            "linecolor": "white",
            "ticks": ""
           },
           "bgcolor": "#E5ECF6",
           "caxis": {
            "gridcolor": "white",
            "linecolor": "white",
            "ticks": ""
           }
          },
          "title": {
           "x": 0.05
          },
          "xaxis": {
           "automargin": true,
           "gridcolor": "white",
           "linecolor": "white",
           "ticks": "",
           "title": {
            "standoff": 15
           },
           "zerolinecolor": "white",
           "zerolinewidth": 2
          },
          "yaxis": {
           "automargin": true,
           "gridcolor": "white",
           "linecolor": "white",
           "ticks": "",
           "title": {
            "standoff": 15
           },
           "zerolinecolor": "white",
           "zerolinewidth": 2
          }
         }
        },
        "title": {
         "text": "Boxplot de Empréstimos - Alunos de Graduação - Mês e Ano"
        },
        "xaxis": {
         "anchor": "y",
         "domain": [
          0,
          1
         ],
         "title": {
          "text": "ano"
         }
        },
        "yaxis": {
         "anchor": "x",
         "domain": [
          0,
          1
         ],
         "title": {
          "text": "quantidade"
         }
        }
       }
      }
     },
     "metadata": {},
     "output_type": "display_data"
    }
   ],
   "source": [
    "fig = px.box(graduacao_circulante, y = 'quantidade', x = 'ano', title = 'Boxplot de Empréstimos - Alunos de Graduação - Mês e Ano')\n",
    "fig.show()"
   ]
  },
  {
   "cell_type": "markdown",
   "metadata": {},
   "source": [
    "Pós Graduação"
   ]
  },
  {
   "cell_type": "code",
   "execution_count": 47,
   "metadata": {},
   "outputs": [
    {
     "data": {
      "text/plain": [
       "colecao\n",
       "Acervo Circulante                        299207\n",
       "Dissertações                                934\n",
       "Obras de Referência                         700\n",
       "Multimeios                                  559\n",
       "Teses                                       367\n",
       "Monografias                                 278\n",
       "Publicações de Autores do RN                204\n",
       "Publicações da UFRN                         121\n",
       "Folhetos                                     60\n",
       "Necessidades Educacionais Específicas        30\n",
       "Eventos                                      26\n",
       "Trabalho Acadêmico                           23\n",
       "Coleção Mossoroense                          23\n",
       "Coleção Zila Mamede                          11\n",
       "Literatura de Cordel                          4\n",
       "Name: count, dtype: int64"
      ]
     },
     "execution_count": 47,
     "metadata": {},
     "output_type": "execute_result"
    }
   ],
   "source": [
    "# para pós-graduação, maior coleção\n",
    "\n",
    "pos_graduacao = df_completo.query('tipo_vinculo_usuario == \"ALUNO DE PÓS-GRADUAÇÃO\"')\n",
    "pos_graduacao['colecao'].value_counts()"
   ]
  },
  {
   "cell_type": "code",
   "execution_count": 76,
   "metadata": {},
   "outputs": [
    {
     "data": {
      "text/html": [
       "<div>\n",
       "<style scoped>\n",
       "    .dataframe tbody tr th:only-of-type {\n",
       "        vertical-align: middle;\n",
       "    }\n",
       "\n",
       "    .dataframe tbody tr th {\n",
       "        vertical-align: top;\n",
       "    }\n",
       "\n",
       "    .dataframe thead th {\n",
       "        text-align: right;\n",
       "    }\n",
       "</style>\n",
       "<table border=\"1\" class=\"dataframe\">\n",
       "  <thead>\n",
       "    <tr style=\"text-align: right;\">\n",
       "      <th></th>\n",
       "      <th>id_emprestimo</th>\n",
       "      <th>codigo_barras</th>\n",
       "      <th>data_renovacao</th>\n",
       "      <th>data_emprestimo</th>\n",
       "      <th>data_devolucao</th>\n",
       "      <th>matricula_ou_siape</th>\n",
       "      <th>tipo_vinculo_usuario</th>\n",
       "      <th>ano_emprestimo</th>\n",
       "      <th>id_exemplar</th>\n",
       "      <th>colecao</th>\n",
       "      <th>biblioteca</th>\n",
       "      <th>status_material</th>\n",
       "      <th>localizacao</th>\n",
       "      <th>cdu</th>\n",
       "    </tr>\n",
       "  </thead>\n",
       "  <tbody>\n",
       "    <tr>\n",
       "      <th>2</th>\n",
       "      <td>709686</td>\n",
       "      <td>2006017618</td>\n",
       "      <td>2010/01/26 08:07:01.738000000</td>\n",
       "      <td>2010/01/04 08:08:44.081000000</td>\n",
       "      <td>2010/02/25 07:36:25.800000000</td>\n",
       "      <td>2008112114.0</td>\n",
       "      <td>ALUNO DE PÓS-GRADUAÇÃO</td>\n",
       "      <td>2010</td>\n",
       "      <td>195347</td>\n",
       "      <td>Acervo Circulante</td>\n",
       "      <td>Biblioteca Setorial Prof. Rodolfo Helinski - E...</td>\n",
       "      <td>REGULAR</td>\n",
       "      <td>640</td>\n",
       "      <td>Ciências aplicadas.</td>\n",
       "    </tr>\n",
       "    <tr>\n",
       "      <th>6</th>\n",
       "      <td>709686</td>\n",
       "      <td>2006017618</td>\n",
       "      <td>2010/01/26 08:07:01.738000000</td>\n",
       "      <td>2010/01/04 08:08:44.081000000</td>\n",
       "      <td>2010/02/25 07:36:25.800000000</td>\n",
       "      <td>2008112114.0</td>\n",
       "      <td>ALUNO DE PÓS-GRADUAÇÃO</td>\n",
       "      <td>2010</td>\n",
       "      <td>195347</td>\n",
       "      <td>Acervo Circulante</td>\n",
       "      <td>Biblioteca Setorial Prof. Rodolfo Helinski - E...</td>\n",
       "      <td>REGULAR</td>\n",
       "      <td>640</td>\n",
       "      <td>Ciências aplicadas.</td>\n",
       "    </tr>\n",
       "    <tr>\n",
       "      <th>42</th>\n",
       "      <td>709709</td>\n",
       "      <td>2009011815</td>\n",
       "      <td>2010/02/03 12:58:49.734000000</td>\n",
       "      <td>2010/01/04 10:02:59.828000000</td>\n",
       "      <td>2010/03/02 16:38:38.231000000</td>\n",
       "      <td>2008106583.0</td>\n",
       "      <td>ALUNO DE PÓS-GRADUAÇÃO</td>\n",
       "      <td>2010</td>\n",
       "      <td>265828</td>\n",
       "      <td>Acervo Circulante</td>\n",
       "      <td>Biblioteca Setorial Prof. Alberto Moreira Camp...</td>\n",
       "      <td>REGULAR</td>\n",
       "      <td>620</td>\n",
       "      <td>Ciências aplicadas.</td>\n",
       "    </tr>\n",
       "    <tr>\n",
       "      <th>46</th>\n",
       "      <td>709713</td>\n",
       "      <td>2008010513</td>\n",
       "      <td>NaN</td>\n",
       "      <td>2010/01/04 10:23:39.830000000</td>\n",
       "      <td>2010/01/05 11:57:06.156000000</td>\n",
       "      <td>2011101417.0</td>\n",
       "      <td>ALUNO DE PÓS-GRADUAÇÃO</td>\n",
       "      <td>2010</td>\n",
       "      <td>190443</td>\n",
       "      <td>Acervo Circulante</td>\n",
       "      <td>Biblioteca Central Zila Mamede</td>\n",
       "      <td>REGULAR</td>\n",
       "      <td>656</td>\n",
       "      <td>Ciências aplicadas.</td>\n",
       "    </tr>\n",
       "    <tr>\n",
       "      <th>47</th>\n",
       "      <td>709714</td>\n",
       "      <td>2008046332</td>\n",
       "      <td>NaN</td>\n",
       "      <td>2010/01/04 10:23:39.859000000</td>\n",
       "      <td>2010/01/05 11:57:01.461000000</td>\n",
       "      <td>2011101417.0</td>\n",
       "      <td>ALUNO DE PÓS-GRADUAÇÃO</td>\n",
       "      <td>2010</td>\n",
       "      <td>256856</td>\n",
       "      <td>Acervo Circulante</td>\n",
       "      <td>Biblioteca Central Zila Mamede</td>\n",
       "      <td>REGULAR</td>\n",
       "      <td>619</td>\n",
       "      <td>Ciências aplicadas.</td>\n",
       "    </tr>\n",
       "  </tbody>\n",
       "</table>\n",
       "</div>"
      ],
      "text/plain": [
       "    id_emprestimo codigo_barras                 data_renovacao  \\\n",
       "2          709686    2006017618  2010/01/26 08:07:01.738000000   \n",
       "6          709686    2006017618  2010/01/26 08:07:01.738000000   \n",
       "42         709709    2009011815  2010/02/03 12:58:49.734000000   \n",
       "46         709713    2008010513                            NaN   \n",
       "47         709714    2008046332                            NaN   \n",
       "\n",
       "                  data_emprestimo                 data_devolucao  \\\n",
       "2   2010/01/04 08:08:44.081000000  2010/02/25 07:36:25.800000000   \n",
       "6   2010/01/04 08:08:44.081000000  2010/02/25 07:36:25.800000000   \n",
       "42  2010/01/04 10:02:59.828000000  2010/03/02 16:38:38.231000000   \n",
       "46  2010/01/04 10:23:39.830000000  2010/01/05 11:57:06.156000000   \n",
       "47  2010/01/04 10:23:39.859000000  2010/01/05 11:57:01.461000000   \n",
       "\n",
       "   matricula_ou_siape    tipo_vinculo_usuario ano_emprestimo  id_exemplar  \\\n",
       "2        2008112114.0  ALUNO DE PÓS-GRADUAÇÃO           2010       195347   \n",
       "6        2008112114.0  ALUNO DE PÓS-GRADUAÇÃO           2010       195347   \n",
       "42       2008106583.0  ALUNO DE PÓS-GRADUAÇÃO           2010       265828   \n",
       "46       2011101417.0  ALUNO DE PÓS-GRADUAÇÃO           2010       190443   \n",
       "47       2011101417.0  ALUNO DE PÓS-GRADUAÇÃO           2010       256856   \n",
       "\n",
       "              colecao                                         biblioteca  \\\n",
       "2   Acervo Circulante  Biblioteca Setorial Prof. Rodolfo Helinski - E...   \n",
       "6   Acervo Circulante  Biblioteca Setorial Prof. Rodolfo Helinski - E...   \n",
       "42  Acervo Circulante  Biblioteca Setorial Prof. Alberto Moreira Camp...   \n",
       "46  Acervo Circulante                     Biblioteca Central Zila Mamede   \n",
       "47  Acervo Circulante                     Biblioteca Central Zila Mamede   \n",
       "\n",
       "   status_material  localizacao                  cdu  \n",
       "2          REGULAR          640  Ciências aplicadas.  \n",
       "6          REGULAR          640  Ciências aplicadas.  \n",
       "42         REGULAR          620  Ciências aplicadas.  \n",
       "46         REGULAR          656  Ciências aplicadas.  \n",
       "47         REGULAR          619  Ciências aplicadas.  "
      ]
     },
     "execution_count": 76,
     "metadata": {},
     "output_type": "execute_result"
    }
   ],
   "source": [
    "# data frame filtrado pós-graduação + acervo circulante\n",
    "\n",
    "pos_graduacao_circulante = pd.DataFrame(pos_graduacao.query('colecao == \"Acervo Circulante\"'))\n",
    "pos_graduacao_circulante.head()"
   ]
  },
  {
   "cell_type": "code",
   "execution_count": 77,
   "metadata": {},
   "outputs": [],
   "source": [
    "# criando tabela para plotar o gráfico\n",
    "\n",
    "pos_graduacao_circulante['data_emprestimo'] = pd.to_datetime(pos_graduacao_circulante['data_emprestimo'])\n",
    "pos_graduacao_circulante['data_emprestimo'].dtype\n",
    "pos_graduacao_circulante['ano'] = pos_graduacao_circulante['data_emprestimo'].dt.year\n",
    "pos_graduacao_circulante['mes'] = pos_graduacao_circulante['data_emprestimo'].dt.month\n",
    "pos_graduacao_circulante = pos_graduacao_circulante.loc[:,['ano', 'mes']]\n",
    "pos_graduacao_circulante.value_counts()\n",
    "pos_graduacao_circulante = pos_graduacao_circulante.value_counts().to_frame('quantidade').reset_index()"
   ]
  },
  {
   "cell_type": "code",
   "execution_count": 78,
   "metadata": {},
   "outputs": [
    {
     "data": {
      "application/vnd.plotly.v1+json": {
       "config": {
        "plotlyServerURL": "https://plot.ly"
       },
       "data": [
        {
         "alignmentgroup": "True",
         "hovertemplate": "ano=%{x}<br>quantidade=%{y}<extra></extra>",
         "legendgroup": "",
         "marker": {
          "color": "#636efa"
         },
         "name": "",
         "notched": false,
         "offsetgroup": "",
         "orientation": "v",
         "showlegend": false,
         "type": "box",
         "x": [
          2015,
          2017,
          2017,
          2016,
          2016,
          2014,
          2012,
          2018,
          2016,
          2015,
          2018,
          2013,
          2014,
          2013,
          2013,
          2014,
          2017,
          2015,
          2016,
          2013,
          2014,
          2015,
          2018,
          2017,
          2016,
          2014,
          2012,
          2015,
          2012,
          2019,
          2013,
          2010,
          2018,
          2014,
          2017,
          2019,
          2019,
          2011,
          2013,
          2015,
          2013,
          2016,
          2017,
          2016,
          2010,
          2015,
          2017,
          2014,
          2015,
          2011,
          2019,
          2011,
          2011,
          2014,
          2012,
          2013,
          2010,
          2015,
          2018,
          2013,
          2011,
          2015,
          2018,
          2019,
          2016,
          2017,
          2018,
          2012,
          2012,
          2012,
          2011,
          2017,
          2017,
          2016,
          2014,
          2014,
          2019,
          2010,
          2018,
          2010,
          2012,
          2013,
          2013,
          2011,
          2019,
          2016,
          2019,
          2018,
          2019,
          2011,
          2010,
          2012,
          2014,
          2011,
          2010,
          2011,
          2018,
          2015,
          2010,
          2013,
          2012,
          2015,
          2016,
          2012,
          2016,
          2017,
          2019,
          2014,
          2019,
          2017,
          2012,
          2011,
          2018,
          2010,
          2010,
          2020,
          2018,
          2010,
          2020,
          2020,
          2010,
          2019,
          2011,
          2020
         ],
         "x0": " ",
         "xaxis": "x",
         "y": [
          3927,
          3837,
          3722,
          3711,
          3662,
          3583,
          3575,
          3518,
          3483,
          3315,
          3290,
          3274,
          3204,
          3186,
          3181,
          3180,
          3125,
          3120,
          3115,
          3110,
          3101,
          3086,
          3068,
          3059,
          3049,
          3010,
          2993,
          2977,
          2956,
          2922,
          2921,
          2919,
          2914,
          2904,
          2849,
          2848,
          2836,
          2818,
          2791,
          2774,
          2767,
          2753,
          2724,
          2720,
          2716,
          2711,
          2705,
          2690,
          2661,
          2595,
          2593,
          2591,
          2573,
          2571,
          2553,
          2528,
          2514,
          2506,
          2451,
          2445,
          2431,
          2423,
          2389,
          2379,
          2378,
          2376,
          2376,
          2370,
          2351,
          2341,
          2340,
          2339,
          2332,
          2328,
          2325,
          2316,
          2307,
          2297,
          2229,
          2222,
          2217,
          2108,
          2104,
          2095,
          2082,
          2059,
          2049,
          2049,
          2037,
          2030,
          2026,
          2025,
          1970,
          1945,
          1920,
          1903,
          1868,
          1785,
          1782,
          1753,
          1714,
          1701,
          1692,
          1691,
          1651,
          1649,
          1613,
          1605,
          1601,
          1582,
          1566,
          1563,
          1545,
          1522,
          1474,
          1471,
          1382,
          1275,
          1189,
          1143,
          1106,
          1069,
          465,
          2
         ],
         "y0": " ",
         "yaxis": "y"
        }
       ],
       "layout": {
        "boxmode": "group",
        "legend": {
         "tracegroupgap": 0
        },
        "template": {
         "data": {
          "bar": [
           {
            "error_x": {
             "color": "#2a3f5f"
            },
            "error_y": {
             "color": "#2a3f5f"
            },
            "marker": {
             "line": {
              "color": "#E5ECF6",
              "width": 0.5
             },
             "pattern": {
              "fillmode": "overlay",
              "size": 10,
              "solidity": 0.2
             }
            },
            "type": "bar"
           }
          ],
          "barpolar": [
           {
            "marker": {
             "line": {
              "color": "#E5ECF6",
              "width": 0.5
             },
             "pattern": {
              "fillmode": "overlay",
              "size": 10,
              "solidity": 0.2
             }
            },
            "type": "barpolar"
           }
          ],
          "carpet": [
           {
            "aaxis": {
             "endlinecolor": "#2a3f5f",
             "gridcolor": "white",
             "linecolor": "white",
             "minorgridcolor": "white",
             "startlinecolor": "#2a3f5f"
            },
            "baxis": {
             "endlinecolor": "#2a3f5f",
             "gridcolor": "white",
             "linecolor": "white",
             "minorgridcolor": "white",
             "startlinecolor": "#2a3f5f"
            },
            "type": "carpet"
           }
          ],
          "choropleth": [
           {
            "colorbar": {
             "outlinewidth": 0,
             "ticks": ""
            },
            "type": "choropleth"
           }
          ],
          "contour": [
           {
            "colorbar": {
             "outlinewidth": 0,
             "ticks": ""
            },
            "colorscale": [
             [
              0,
              "#0d0887"
             ],
             [
              0.1111111111111111,
              "#46039f"
             ],
             [
              0.2222222222222222,
              "#7201a8"
             ],
             [
              0.3333333333333333,
              "#9c179e"
             ],
             [
              0.4444444444444444,
              "#bd3786"
             ],
             [
              0.5555555555555556,
              "#d8576b"
             ],
             [
              0.6666666666666666,
              "#ed7953"
             ],
             [
              0.7777777777777778,
              "#fb9f3a"
             ],
             [
              0.8888888888888888,
              "#fdca26"
             ],
             [
              1,
              "#f0f921"
             ]
            ],
            "type": "contour"
           }
          ],
          "contourcarpet": [
           {
            "colorbar": {
             "outlinewidth": 0,
             "ticks": ""
            },
            "type": "contourcarpet"
           }
          ],
          "heatmap": [
           {
            "colorbar": {
             "outlinewidth": 0,
             "ticks": ""
            },
            "colorscale": [
             [
              0,
              "#0d0887"
             ],
             [
              0.1111111111111111,
              "#46039f"
             ],
             [
              0.2222222222222222,
              "#7201a8"
             ],
             [
              0.3333333333333333,
              "#9c179e"
             ],
             [
              0.4444444444444444,
              "#bd3786"
             ],
             [
              0.5555555555555556,
              "#d8576b"
             ],
             [
              0.6666666666666666,
              "#ed7953"
             ],
             [
              0.7777777777777778,
              "#fb9f3a"
             ],
             [
              0.8888888888888888,
              "#fdca26"
             ],
             [
              1,
              "#f0f921"
             ]
            ],
            "type": "heatmap"
           }
          ],
          "heatmapgl": [
           {
            "colorbar": {
             "outlinewidth": 0,
             "ticks": ""
            },
            "colorscale": [
             [
              0,
              "#0d0887"
             ],
             [
              0.1111111111111111,
              "#46039f"
             ],
             [
              0.2222222222222222,
              "#7201a8"
             ],
             [
              0.3333333333333333,
              "#9c179e"
             ],
             [
              0.4444444444444444,
              "#bd3786"
             ],
             [
              0.5555555555555556,
              "#d8576b"
             ],
             [
              0.6666666666666666,
              "#ed7953"
             ],
             [
              0.7777777777777778,
              "#fb9f3a"
             ],
             [
              0.8888888888888888,
              "#fdca26"
             ],
             [
              1,
              "#f0f921"
             ]
            ],
            "type": "heatmapgl"
           }
          ],
          "histogram": [
           {
            "marker": {
             "pattern": {
              "fillmode": "overlay",
              "size": 10,
              "solidity": 0.2
             }
            },
            "type": "histogram"
           }
          ],
          "histogram2d": [
           {
            "colorbar": {
             "outlinewidth": 0,
             "ticks": ""
            },
            "colorscale": [
             [
              0,
              "#0d0887"
             ],
             [
              0.1111111111111111,
              "#46039f"
             ],
             [
              0.2222222222222222,
              "#7201a8"
             ],
             [
              0.3333333333333333,
              "#9c179e"
             ],
             [
              0.4444444444444444,
              "#bd3786"
             ],
             [
              0.5555555555555556,
              "#d8576b"
             ],
             [
              0.6666666666666666,
              "#ed7953"
             ],
             [
              0.7777777777777778,
              "#fb9f3a"
             ],
             [
              0.8888888888888888,
              "#fdca26"
             ],
             [
              1,
              "#f0f921"
             ]
            ],
            "type": "histogram2d"
           }
          ],
          "histogram2dcontour": [
           {
            "colorbar": {
             "outlinewidth": 0,
             "ticks": ""
            },
            "colorscale": [
             [
              0,
              "#0d0887"
             ],
             [
              0.1111111111111111,
              "#46039f"
             ],
             [
              0.2222222222222222,
              "#7201a8"
             ],
             [
              0.3333333333333333,
              "#9c179e"
             ],
             [
              0.4444444444444444,
              "#bd3786"
             ],
             [
              0.5555555555555556,
              "#d8576b"
             ],
             [
              0.6666666666666666,
              "#ed7953"
             ],
             [
              0.7777777777777778,
              "#fb9f3a"
             ],
             [
              0.8888888888888888,
              "#fdca26"
             ],
             [
              1,
              "#f0f921"
             ]
            ],
            "type": "histogram2dcontour"
           }
          ],
          "mesh3d": [
           {
            "colorbar": {
             "outlinewidth": 0,
             "ticks": ""
            },
            "type": "mesh3d"
           }
          ],
          "parcoords": [
           {
            "line": {
             "colorbar": {
              "outlinewidth": 0,
              "ticks": ""
             }
            },
            "type": "parcoords"
           }
          ],
          "pie": [
           {
            "automargin": true,
            "type": "pie"
           }
          ],
          "scatter": [
           {
            "fillpattern": {
             "fillmode": "overlay",
             "size": 10,
             "solidity": 0.2
            },
            "type": "scatter"
           }
          ],
          "scatter3d": [
           {
            "line": {
             "colorbar": {
              "outlinewidth": 0,
              "ticks": ""
             }
            },
            "marker": {
             "colorbar": {
              "outlinewidth": 0,
              "ticks": ""
             }
            },
            "type": "scatter3d"
           }
          ],
          "scattercarpet": [
           {
            "marker": {
             "colorbar": {
              "outlinewidth": 0,
              "ticks": ""
             }
            },
            "type": "scattercarpet"
           }
          ],
          "scattergeo": [
           {
            "marker": {
             "colorbar": {
              "outlinewidth": 0,
              "ticks": ""
             }
            },
            "type": "scattergeo"
           }
          ],
          "scattergl": [
           {
            "marker": {
             "colorbar": {
              "outlinewidth": 0,
              "ticks": ""
             }
            },
            "type": "scattergl"
           }
          ],
          "scattermapbox": [
           {
            "marker": {
             "colorbar": {
              "outlinewidth": 0,
              "ticks": ""
             }
            },
            "type": "scattermapbox"
           }
          ],
          "scatterpolar": [
           {
            "marker": {
             "colorbar": {
              "outlinewidth": 0,
              "ticks": ""
             }
            },
            "type": "scatterpolar"
           }
          ],
          "scatterpolargl": [
           {
            "marker": {
             "colorbar": {
              "outlinewidth": 0,
              "ticks": ""
             }
            },
            "type": "scatterpolargl"
           }
          ],
          "scatterternary": [
           {
            "marker": {
             "colorbar": {
              "outlinewidth": 0,
              "ticks": ""
             }
            },
            "type": "scatterternary"
           }
          ],
          "surface": [
           {
            "colorbar": {
             "outlinewidth": 0,
             "ticks": ""
            },
            "colorscale": [
             [
              0,
              "#0d0887"
             ],
             [
              0.1111111111111111,
              "#46039f"
             ],
             [
              0.2222222222222222,
              "#7201a8"
             ],
             [
              0.3333333333333333,
              "#9c179e"
             ],
             [
              0.4444444444444444,
              "#bd3786"
             ],
             [
              0.5555555555555556,
              "#d8576b"
             ],
             [
              0.6666666666666666,
              "#ed7953"
             ],
             [
              0.7777777777777778,
              "#fb9f3a"
             ],
             [
              0.8888888888888888,
              "#fdca26"
             ],
             [
              1,
              "#f0f921"
             ]
            ],
            "type": "surface"
           }
          ],
          "table": [
           {
            "cells": {
             "fill": {
              "color": "#EBF0F8"
             },
             "line": {
              "color": "white"
             }
            },
            "header": {
             "fill": {
              "color": "#C8D4E3"
             },
             "line": {
              "color": "white"
             }
            },
            "type": "table"
           }
          ]
         },
         "layout": {
          "annotationdefaults": {
           "arrowcolor": "#2a3f5f",
           "arrowhead": 0,
           "arrowwidth": 1
          },
          "autotypenumbers": "strict",
          "coloraxis": {
           "colorbar": {
            "outlinewidth": 0,
            "ticks": ""
           }
          },
          "colorscale": {
           "diverging": [
            [
             0,
             "#8e0152"
            ],
            [
             0.1,
             "#c51b7d"
            ],
            [
             0.2,
             "#de77ae"
            ],
            [
             0.3,
             "#f1b6da"
            ],
            [
             0.4,
             "#fde0ef"
            ],
            [
             0.5,
             "#f7f7f7"
            ],
            [
             0.6,
             "#e6f5d0"
            ],
            [
             0.7,
             "#b8e186"
            ],
            [
             0.8,
             "#7fbc41"
            ],
            [
             0.9,
             "#4d9221"
            ],
            [
             1,
             "#276419"
            ]
           ],
           "sequential": [
            [
             0,
             "#0d0887"
            ],
            [
             0.1111111111111111,
             "#46039f"
            ],
            [
             0.2222222222222222,
             "#7201a8"
            ],
            [
             0.3333333333333333,
             "#9c179e"
            ],
            [
             0.4444444444444444,
             "#bd3786"
            ],
            [
             0.5555555555555556,
             "#d8576b"
            ],
            [
             0.6666666666666666,
             "#ed7953"
            ],
            [
             0.7777777777777778,
             "#fb9f3a"
            ],
            [
             0.8888888888888888,
             "#fdca26"
            ],
            [
             1,
             "#f0f921"
            ]
           ],
           "sequentialminus": [
            [
             0,
             "#0d0887"
            ],
            [
             0.1111111111111111,
             "#46039f"
            ],
            [
             0.2222222222222222,
             "#7201a8"
            ],
            [
             0.3333333333333333,
             "#9c179e"
            ],
            [
             0.4444444444444444,
             "#bd3786"
            ],
            [
             0.5555555555555556,
             "#d8576b"
            ],
            [
             0.6666666666666666,
             "#ed7953"
            ],
            [
             0.7777777777777778,
             "#fb9f3a"
            ],
            [
             0.8888888888888888,
             "#fdca26"
            ],
            [
             1,
             "#f0f921"
            ]
           ]
          },
          "colorway": [
           "#636efa",
           "#EF553B",
           "#00cc96",
           "#ab63fa",
           "#FFA15A",
           "#19d3f3",
           "#FF6692",
           "#B6E880",
           "#FF97FF",
           "#FECB52"
          ],
          "font": {
           "color": "#2a3f5f"
          },
          "geo": {
           "bgcolor": "white",
           "lakecolor": "white",
           "landcolor": "#E5ECF6",
           "showlakes": true,
           "showland": true,
           "subunitcolor": "white"
          },
          "hoverlabel": {
           "align": "left"
          },
          "hovermode": "closest",
          "mapbox": {
           "style": "light"
          },
          "paper_bgcolor": "white",
          "plot_bgcolor": "#E5ECF6",
          "polar": {
           "angularaxis": {
            "gridcolor": "white",
            "linecolor": "white",
            "ticks": ""
           },
           "bgcolor": "#E5ECF6",
           "radialaxis": {
            "gridcolor": "white",
            "linecolor": "white",
            "ticks": ""
           }
          },
          "scene": {
           "xaxis": {
            "backgroundcolor": "#E5ECF6",
            "gridcolor": "white",
            "gridwidth": 2,
            "linecolor": "white",
            "showbackground": true,
            "ticks": "",
            "zerolinecolor": "white"
           },
           "yaxis": {
            "backgroundcolor": "#E5ECF6",
            "gridcolor": "white",
            "gridwidth": 2,
            "linecolor": "white",
            "showbackground": true,
            "ticks": "",
            "zerolinecolor": "white"
           },
           "zaxis": {
            "backgroundcolor": "#E5ECF6",
            "gridcolor": "white",
            "gridwidth": 2,
            "linecolor": "white",
            "showbackground": true,
            "ticks": "",
            "zerolinecolor": "white"
           }
          },
          "shapedefaults": {
           "line": {
            "color": "#2a3f5f"
           }
          },
          "ternary": {
           "aaxis": {
            "gridcolor": "white",
            "linecolor": "white",
            "ticks": ""
           },
           "baxis": {
            "gridcolor": "white",
            "linecolor": "white",
            "ticks": ""
           },
           "bgcolor": "#E5ECF6",
           "caxis": {
            "gridcolor": "white",
            "linecolor": "white",
            "ticks": ""
           }
          },
          "title": {
           "x": 0.05
          },
          "xaxis": {
           "automargin": true,
           "gridcolor": "white",
           "linecolor": "white",
           "ticks": "",
           "title": {
            "standoff": 15
           },
           "zerolinecolor": "white",
           "zerolinewidth": 2
          },
          "yaxis": {
           "automargin": true,
           "gridcolor": "white",
           "linecolor": "white",
           "ticks": "",
           "title": {
            "standoff": 15
           },
           "zerolinecolor": "white",
           "zerolinewidth": 2
          }
         }
        },
        "title": {
         "text": "Boxplot de Empréstimos - Alunos de Pós Graduação - Mês e Ano"
        },
        "xaxis": {
         "anchor": "y",
         "domain": [
          0,
          1
         ],
         "title": {
          "text": "ano"
         }
        },
        "yaxis": {
         "anchor": "x",
         "domain": [
          0,
          1
         ],
         "title": {
          "text": "quantidade"
         }
        }
       }
      }
     },
     "metadata": {},
     "output_type": "display_data"
    }
   ],
   "source": [
    "fig = px.box(pos_graduacao_circulante, y = 'quantidade', x = 'ano', title = 'Boxplot de Empréstimos - Alunos de Pós Graduação - Mês e Ano')\n",
    "fig.show()"
   ]
  },
  {
   "cell_type": "markdown",
   "metadata": {},
   "source": [
    "Indicadores MEC"
   ]
  },
  {
   "cell_type": "code",
   "execution_count": 105,
   "metadata": {},
   "outputs": [
    {
     "name": "stderr",
     "output_type": "stream",
     "text": [
      "<>:2: SyntaxWarning:\n",
      "\n",
      "invalid escape sequence '\\d'\n",
      "\n",
      "<>:3: SyntaxWarning:\n",
      "\n",
      "invalid escape sequence '\\d'\n",
      "\n",
      "<>:2: SyntaxWarning:\n",
      "\n",
      "invalid escape sequence '\\d'\n",
      "\n",
      "<>:3: SyntaxWarning:\n",
      "\n",
      "invalid escape sequence '\\d'\n",
      "\n",
      "C:\\Users\\corre\\AppData\\Local\\Temp\\ipykernel_12524\\751103845.py:2: SyntaxWarning:\n",
      "\n",
      "invalid escape sequence '\\d'\n",
      "\n",
      "C:\\Users\\corre\\AppData\\Local\\Temp\\ipykernel_12524\\751103845.py:3: SyntaxWarning:\n",
      "\n",
      "invalid escape sequence '\\d'\n",
      "\n"
     ]
    }
   ],
   "source": [
    "# dados de matricula arquivo excel\n",
    "matricula_alunos_antes = pd.read_excel('.\\dataset\\matricula_alunos.xlsx', sheet_name = 'Até 2010' ,skiprows=1)\n",
    "matricula_alunos_apos = pd.read_excel('.\\dataset\\matricula_alunos.xlsx', sheet_name = 'Após 2010' ,skiprows=1)\n",
    "\n"
   ]
  },
  {
   "cell_type": "code",
   "execution_count": 109,
   "metadata": {},
   "outputs": [
    {
     "data": {
      "text/html": [
       "<div>\n",
       "<style scoped>\n",
       "    .dataframe tbody tr th:only-of-type {\n",
       "        vertical-align: middle;\n",
       "    }\n",
       "\n",
       "    .dataframe tbody tr th {\n",
       "        vertical-align: top;\n",
       "    }\n",
       "\n",
       "    .dataframe thead th {\n",
       "        text-align: right;\n",
       "    }\n",
       "</style>\n",
       "<table border=\"1\" class=\"dataframe\">\n",
       "  <thead>\n",
       "    <tr style=\"text-align: right;\">\n",
       "      <th></th>\n",
       "      <th>matricula_ou_siape</th>\n",
       "      <th>tipo_vinculo_usuario</th>\n",
       "      <th>curso</th>\n",
       "    </tr>\n",
       "  </thead>\n",
       "  <tbody>\n",
       "    <tr>\n",
       "      <th>0</th>\n",
       "      <td>2010000017.0</td>\n",
       "      <td>ALUNO DE GRADUAÇÃO</td>\n",
       "      <td>DIREITO</td>\n",
       "    </tr>\n",
       "    <tr>\n",
       "      <th>1</th>\n",
       "      <td>2010000035.0</td>\n",
       "      <td>ALUNO DE GRADUAÇÃO</td>\n",
       "      <td>AGRONOMIA</td>\n",
       "    </tr>\n",
       "    <tr>\n",
       "      <th>2</th>\n",
       "      <td>2010001290.0</td>\n",
       "      <td>ALUNO DE GRADUAÇÃO</td>\n",
       "      <td>ENGENHARIA QUÍMICA</td>\n",
       "    </tr>\n",
       "    <tr>\n",
       "      <th>3</th>\n",
       "      <td>2010002849.0</td>\n",
       "      <td>ALUNO DE GRADUAÇÃO</td>\n",
       "      <td>ENGENHARIA AMBIENTAL</td>\n",
       "    </tr>\n",
       "    <tr>\n",
       "      <th>4</th>\n",
       "      <td>2010003381.0</td>\n",
       "      <td>ALUNO DE GRADUAÇÃO</td>\n",
       "      <td>GEOGRAFIA</td>\n",
       "    </tr>\n",
       "  </tbody>\n",
       "</table>\n",
       "</div>"
      ],
      "text/plain": [
       "  matricula_ou_siape tipo_vinculo_usuario                 curso\n",
       "0       2010000017.0   ALUNO DE GRADUAÇÃO               DIREITO\n",
       "1       2010000035.0   ALUNO DE GRADUAÇÃO             AGRONOMIA\n",
       "2       2010001290.0   ALUNO DE GRADUAÇÃO    ENGENHARIA QUÍMICA\n",
       "3       2010002849.0   ALUNO DE GRADUAÇÃO  ENGENHARIA AMBIENTAL\n",
       "4       2010003381.0   ALUNO DE GRADUAÇÃO             GEOGRAFIA"
      ]
     },
     "execution_count": 109,
     "metadata": {},
     "output_type": "execute_result"
    }
   ],
   "source": [
    "matricula_alunos_antes.columns = ['matricula_ou_siape','tipo_vinculo_usuario','curso']\n",
    "matricula_alunos_apos.columns = ['matricula_ou_siape','tipo_vinculo_usuario','curso']\n",
    "matriculas_excel = pd.concat([matricula_alunos_apos, matricula_alunos_antes], ignore_index=True)\n",
    "matriculas_excel['matricula_ou_siape'] = matriculas_excel['matricula_ou_siape'].astype(str)\n",
    "matriculas_excel.head()"
   ]
  },
  {
   "cell_type": "code",
   "execution_count": 111,
   "metadata": {},
   "outputs": [
    {
     "data": {
      "text/html": [
       "<div>\n",
       "<style scoped>\n",
       "    .dataframe tbody tr th:only-of-type {\n",
       "        vertical-align: middle;\n",
       "    }\n",
       "\n",
       "    .dataframe tbody tr th {\n",
       "        vertical-align: top;\n",
       "    }\n",
       "\n",
       "    .dataframe thead th {\n",
       "        text-align: right;\n",
       "    }\n",
       "</style>\n",
       "<table border=\"1\" class=\"dataframe\">\n",
       "  <thead>\n",
       "    <tr style=\"text-align: right;\">\n",
       "      <th></th>\n",
       "      <th>tipo_curso</th>\n",
       "      <th>registros</th>\n",
       "    </tr>\n",
       "  </thead>\n",
       "  <tbody>\n",
       "    <tr>\n",
       "      <th>0</th>\n",
       "      <td>GRADUACAO</td>\n",
       "      <td>[{\"matricula_ou_siape\": \"2009029003.0\", \"tipo_...</td>\n",
       "    </tr>\n",
       "    <tr>\n",
       "      <th>1</th>\n",
       "      <td>POSGRADUACAO</td>\n",
       "      <td>[{\"matricula_ou_siape\": \"2008112114.0\", \"tipo_...</td>\n",
       "    </tr>\n",
       "  </tbody>\n",
       "</table>\n",
       "</div>"
      ],
      "text/plain": [
       "     tipo_curso                                          registros\n",
       "0     GRADUACAO  [{\"matricula_ou_siape\": \"2009029003.0\", \"tipo_...\n",
       "1  POSGRADUACAO  [{\"matricula_ou_siape\": \"2008112114.0\", \"tipo_..."
      ]
     },
     "execution_count": 111,
     "metadata": {},
     "output_type": "execute_result"
    }
   ],
   "source": [
    "# cadastro json\n",
    "matriculas_alunos_2 = pd.read_json('https://raw.githubusercontent.com/FranciscoFoz/7_Days_of_Code_Alura-Python-Pandas/main/Dia_6-Novos_dados_novas_analises/Datasets/cadastro_alunos.json?utm_medium=email&_hsenc=p2ANqtz-_b4sQUyJMO8Riur1RAo7_UmQMgCDzp1Cq5rmWAwQ8pztxwbny5C01J1tUjf2tsIrqtcz6jCcLjwABlcznXtWRCcWzNmw&_hsmi=270881120&utm_content=270881120&utm_source=hs_automation')\n",
    "matriculas_alunos_2"
   ]
  },
  {
   "cell_type": "code",
   "execution_count": 112,
   "metadata": {},
   "outputs": [
    {
     "name": "stderr",
     "output_type": "stream",
     "text": [
      "C:\\Users\\corre\\AppData\\Local\\Temp\\ipykernel_12524\\3965445276.py:2: FutureWarning:\n",
      "\n",
      "Passing literal json to 'read_json' is deprecated and will be removed in a future version. To read from a literal string, wrap it in a 'StringIO' object.\n",
      "\n"
     ]
    },
    {
     "data": {
      "text/html": [
       "<div>\n",
       "<style scoped>\n",
       "    .dataframe tbody tr th:only-of-type {\n",
       "        vertical-align: middle;\n",
       "    }\n",
       "\n",
       "    .dataframe tbody tr th {\n",
       "        vertical-align: top;\n",
       "    }\n",
       "\n",
       "    .dataframe thead th {\n",
       "        text-align: right;\n",
       "    }\n",
       "</style>\n",
       "<table border=\"1\" class=\"dataframe\">\n",
       "  <thead>\n",
       "    <tr style=\"text-align: right;\">\n",
       "      <th></th>\n",
       "      <th>matricula_ou_siape</th>\n",
       "      <th>tipo_vinculo_usuario</th>\n",
       "      <th>curso</th>\n",
       "    </tr>\n",
       "  </thead>\n",
       "  <tbody>\n",
       "    <tr>\n",
       "      <th>0</th>\n",
       "      <td>2009029003</td>\n",
       "      <td>ALUNO DE GRADUAÇÃO</td>\n",
       "      <td>FILOSOFIA</td>\n",
       "    </tr>\n",
       "    <tr>\n",
       "      <th>1</th>\n",
       "      <td>200617346</td>\n",
       "      <td>ALUNO DE GRADUAÇÃO</td>\n",
       "      <td>DIREITO</td>\n",
       "    </tr>\n",
       "    <tr>\n",
       "      <th>2</th>\n",
       "      <td>200746502</td>\n",
       "      <td>ALUNO DE GRADUAÇÃO</td>\n",
       "      <td>ENGENHARIA DE PETRÓLEO</td>\n",
       "    </tr>\n",
       "    <tr>\n",
       "      <th>3</th>\n",
       "      <td>200504968</td>\n",
       "      <td>ALUNO DE GRADUAÇÃO</td>\n",
       "      <td>ADMINISTRAÇÃO</td>\n",
       "    </tr>\n",
       "    <tr>\n",
       "      <th>4</th>\n",
       "      <td>200615572</td>\n",
       "      <td>ALUNO DE GRADUAÇÃO</td>\n",
       "      <td>CIÊNCIA DA COMPUTAÇÃO</td>\n",
       "    </tr>\n",
       "    <tr>\n",
       "      <th>...</th>\n",
       "      <td>...</td>\n",
       "      <td>...</td>\n",
       "      <td>...</td>\n",
       "    </tr>\n",
       "    <tr>\n",
       "      <th>62797</th>\n",
       "      <td>20200012706</td>\n",
       "      <td>ALUNO DE GRADUAÇÃO</td>\n",
       "      <td>BIBLIOTECONOMIA</td>\n",
       "    </tr>\n",
       "    <tr>\n",
       "      <th>62798</th>\n",
       "      <td>20200039601</td>\n",
       "      <td>ALUNO DE GRADUAÇÃO</td>\n",
       "      <td>ENGENHARIA FLORESTAL</td>\n",
       "    </tr>\n",
       "    <tr>\n",
       "      <th>62799</th>\n",
       "      <td>20200132517</td>\n",
       "      <td>ALUNO DE GRADUAÇÃO</td>\n",
       "      <td>AGRONOMIA</td>\n",
       "    </tr>\n",
       "    <tr>\n",
       "      <th>62800</th>\n",
       "      <td>20200009344</td>\n",
       "      <td>ALUNO DE GRADUAÇÃO</td>\n",
       "      <td>BIBLIOTECONOMIA</td>\n",
       "    </tr>\n",
       "    <tr>\n",
       "      <th>62801</th>\n",
       "      <td>20200090284</td>\n",
       "      <td>ALUNO DE GRADUAÇÃO</td>\n",
       "      <td>DIREITO</td>\n",
       "    </tr>\n",
       "  </tbody>\n",
       "</table>\n",
       "<p>62802 rows × 3 columns</p>\n",
       "</div>"
      ],
      "text/plain": [
       "       matricula_ou_siape tipo_vinculo_usuario                   curso\n",
       "0              2009029003   ALUNO DE GRADUAÇÃO               FILOSOFIA\n",
       "1               200617346   ALUNO DE GRADUAÇÃO                 DIREITO\n",
       "2               200746502   ALUNO DE GRADUAÇÃO  ENGENHARIA DE PETRÓLEO\n",
       "3               200504968   ALUNO DE GRADUAÇÃO           ADMINISTRAÇÃO\n",
       "4               200615572   ALUNO DE GRADUAÇÃO   CIÊNCIA DA COMPUTAÇÃO\n",
       "...                   ...                  ...                     ...\n",
       "62797         20200012706   ALUNO DE GRADUAÇÃO         BIBLIOTECONOMIA\n",
       "62798         20200039601   ALUNO DE GRADUAÇÃO    ENGENHARIA FLORESTAL\n",
       "62799         20200132517   ALUNO DE GRADUAÇÃO               AGRONOMIA\n",
       "62800         20200009344   ALUNO DE GRADUAÇÃO         BIBLIOTECONOMIA\n",
       "62801         20200090284   ALUNO DE GRADUAÇÃO                 DIREITO\n",
       "\n",
       "[62802 rows x 3 columns]"
      ]
     },
     "execution_count": 112,
     "metadata": {},
     "output_type": "execute_result"
    }
   ],
   "source": [
    "# considerando que só vamos olhar graduação\n",
    "matriculas_json = pd.read_json(matriculas_alunos_2.registros[0])\n",
    "matriculas_json"
   ]
  },
  {
   "cell_type": "code",
   "execution_count": 113,
   "metadata": {},
   "outputs": [
    {
     "name": "stdout",
     "output_type": "stream",
     "text": [
      "<class 'pandas.core.frame.DataFrame'>\n",
      "RangeIndex: 62802 entries, 0 to 62801\n",
      "Data columns (total 3 columns):\n",
      " #   Column                Non-Null Count  Dtype \n",
      "---  ------                --------------  ----- \n",
      " 0   matricula_ou_siape    62802 non-null  int64 \n",
      " 1   tipo_vinculo_usuario  62802 non-null  object\n",
      " 2   curso                 62802 non-null  object\n",
      "dtypes: int64(1), object(2)\n",
      "memory usage: 1.4+ MB\n"
     ]
    }
   ],
   "source": [
    "matriculas_json.info()"
   ]
  },
  {
   "cell_type": "code",
   "execution_count": null,
   "metadata": {},
   "outputs": [
    {
     "name": "stdout",
     "output_type": "stream",
     "text": [
      "<class 'pandas.core.frame.DataFrame'>\n",
      "RangeIndex: 62802 entries, 0 to 62801\n",
      "Data columns (total 3 columns):\n",
      " #   Column                Non-Null Count  Dtype \n",
      "---  ------                --------------  ----- \n",
      " 0   matricula_ou_siape    62802 non-null  string\n",
      " 1   tipo_vinculo_usuario  62802 non-null  object\n",
      " 2   curso                 62802 non-null  object\n",
      "dtypes: object(2), string(1)\n",
      "memory usage: 1.4+ MB\n"
     ]
    }
   ],
   "source": [
    "matriculas_json['matricula_ou_siape'] = matriculas_json['matricula_ou_siape'].astype(float)\n",
    "matriculas_json['matricula_ou_siape'] = matriculas_json['matricula_ou_siape'].astype(str)\n",
    "matriculas_json.info()"
   ]
  },
  {
   "cell_type": "code",
   "execution_count": 116,
   "metadata": {},
   "outputs": [
    {
     "name": "stdout",
     "output_type": "stream",
     "text": [
      "<class 'pandas.core.frame.DataFrame'>\n",
      "RangeIndex: 10000 entries, 0 to 9999\n",
      "Data columns (total 3 columns):\n",
      " #   Column                Non-Null Count  Dtype \n",
      "---  ------                --------------  ----- \n",
      " 0   matricula_ou_siape    10000 non-null  object\n",
      " 1   tipo_vinculo_usuario  10000 non-null  object\n",
      " 2   curso                 10000 non-null  object\n",
      "dtypes: object(3)\n",
      "memory usage: 234.5+ KB\n"
     ]
    }
   ],
   "source": [
    "matriculas_excel.info()"
   ]
  },
  {
   "cell_type": "code",
   "execution_count": 117,
   "metadata": {},
   "outputs": [
    {
     "data": {
      "text/html": [
       "<div>\n",
       "<style scoped>\n",
       "    .dataframe tbody tr th:only-of-type {\n",
       "        vertical-align: middle;\n",
       "    }\n",
       "\n",
       "    .dataframe tbody tr th {\n",
       "        vertical-align: top;\n",
       "    }\n",
       "\n",
       "    .dataframe thead th {\n",
       "        text-align: right;\n",
       "    }\n",
       "</style>\n",
       "<table border=\"1\" class=\"dataframe\">\n",
       "  <thead>\n",
       "    <tr style=\"text-align: right;\">\n",
       "      <th></th>\n",
       "      <th>matricula_ou_siape</th>\n",
       "      <th>tipo_vinculo_usuario</th>\n",
       "      <th>curso</th>\n",
       "    </tr>\n",
       "  </thead>\n",
       "  <tbody>\n",
       "    <tr>\n",
       "      <th>0</th>\n",
       "      <td>2010000017.0</td>\n",
       "      <td>ALUNO DE GRADUAÇÃO</td>\n",
       "      <td>DIREITO</td>\n",
       "    </tr>\n",
       "    <tr>\n",
       "      <th>1</th>\n",
       "      <td>2010000035.0</td>\n",
       "      <td>ALUNO DE GRADUAÇÃO</td>\n",
       "      <td>AGRONOMIA</td>\n",
       "    </tr>\n",
       "    <tr>\n",
       "      <th>2</th>\n",
       "      <td>2010001290.0</td>\n",
       "      <td>ALUNO DE GRADUAÇÃO</td>\n",
       "      <td>ENGENHARIA QUÍMICA</td>\n",
       "    </tr>\n",
       "    <tr>\n",
       "      <th>3</th>\n",
       "      <td>2010002849.0</td>\n",
       "      <td>ALUNO DE GRADUAÇÃO</td>\n",
       "      <td>ENGENHARIA AMBIENTAL</td>\n",
       "    </tr>\n",
       "    <tr>\n",
       "      <th>4</th>\n",
       "      <td>2010003381.0</td>\n",
       "      <td>ALUNO DE GRADUAÇÃO</td>\n",
       "      <td>GEOGRAFIA</td>\n",
       "    </tr>\n",
       "    <tr>\n",
       "      <th>...</th>\n",
       "      <td>...</td>\n",
       "      <td>...</td>\n",
       "      <td>...</td>\n",
       "    </tr>\n",
       "    <tr>\n",
       "      <th>72797</th>\n",
       "      <td>20200012706.0</td>\n",
       "      <td>ALUNO DE GRADUAÇÃO</td>\n",
       "      <td>BIBLIOTECONOMIA</td>\n",
       "    </tr>\n",
       "    <tr>\n",
       "      <th>72798</th>\n",
       "      <td>20200039601.0</td>\n",
       "      <td>ALUNO DE GRADUAÇÃO</td>\n",
       "      <td>ENGENHARIA FLORESTAL</td>\n",
       "    </tr>\n",
       "    <tr>\n",
       "      <th>72799</th>\n",
       "      <td>20200132517.0</td>\n",
       "      <td>ALUNO DE GRADUAÇÃO</td>\n",
       "      <td>AGRONOMIA</td>\n",
       "    </tr>\n",
       "    <tr>\n",
       "      <th>72800</th>\n",
       "      <td>20200009344.0</td>\n",
       "      <td>ALUNO DE GRADUAÇÃO</td>\n",
       "      <td>BIBLIOTECONOMIA</td>\n",
       "    </tr>\n",
       "    <tr>\n",
       "      <th>72801</th>\n",
       "      <td>20200090284.0</td>\n",
       "      <td>ALUNO DE GRADUAÇÃO</td>\n",
       "      <td>DIREITO</td>\n",
       "    </tr>\n",
       "  </tbody>\n",
       "</table>\n",
       "<p>72802 rows × 3 columns</p>\n",
       "</div>"
      ],
      "text/plain": [
       "      matricula_ou_siape tipo_vinculo_usuario                 curso\n",
       "0           2010000017.0   ALUNO DE GRADUAÇÃO               DIREITO\n",
       "1           2010000035.0   ALUNO DE GRADUAÇÃO             AGRONOMIA\n",
       "2           2010001290.0   ALUNO DE GRADUAÇÃO    ENGENHARIA QUÍMICA\n",
       "3           2010002849.0   ALUNO DE GRADUAÇÃO  ENGENHARIA AMBIENTAL\n",
       "4           2010003381.0   ALUNO DE GRADUAÇÃO             GEOGRAFIA\n",
       "...                  ...                  ...                   ...\n",
       "72797      20200012706.0   ALUNO DE GRADUAÇÃO       BIBLIOTECONOMIA\n",
       "72798      20200039601.0   ALUNO DE GRADUAÇÃO  ENGENHARIA FLORESTAL\n",
       "72799      20200132517.0   ALUNO DE GRADUAÇÃO             AGRONOMIA\n",
       "72800      20200009344.0   ALUNO DE GRADUAÇÃO       BIBLIOTECONOMIA\n",
       "72801      20200090284.0   ALUNO DE GRADUAÇÃO               DIREITO\n",
       "\n",
       "[72802 rows x 3 columns]"
      ]
     },
     "execution_count": 117,
     "metadata": {},
     "output_type": "execute_result"
    }
   ],
   "source": [
    "df_matriculas = pd.concat([matriculas_excel, matriculas_json], ignore_index=True)\n",
    "df_matriculas"
   ]
  },
  {
   "cell_type": "code",
   "execution_count": 118,
   "metadata": {},
   "outputs": [
    {
     "data": {
      "text/html": [
       "<div>\n",
       "<style scoped>\n",
       "    .dataframe tbody tr th:only-of-type {\n",
       "        vertical-align: middle;\n",
       "    }\n",
       "\n",
       "    .dataframe tbody tr th {\n",
       "        vertical-align: top;\n",
       "    }\n",
       "\n",
       "    .dataframe thead th {\n",
       "        text-align: right;\n",
       "    }\n",
       "</style>\n",
       "<table border=\"1\" class=\"dataframe\">\n",
       "  <thead>\n",
       "    <tr style=\"text-align: right;\">\n",
       "      <th></th>\n",
       "      <th>id_emprestimo</th>\n",
       "      <th>codigo_barras</th>\n",
       "      <th>data_renovacao</th>\n",
       "      <th>data_emprestimo</th>\n",
       "      <th>data_devolucao</th>\n",
       "      <th>matricula_ou_siape</th>\n",
       "      <th>tipo_vinculo_usuario</th>\n",
       "      <th>ano_emprestimo</th>\n",
       "      <th>id_exemplar</th>\n",
       "      <th>colecao</th>\n",
       "      <th>biblioteca</th>\n",
       "      <th>status_material</th>\n",
       "      <th>localizacao</th>\n",
       "      <th>cdu</th>\n",
       "    </tr>\n",
       "  </thead>\n",
       "  <tbody>\n",
       "    <tr>\n",
       "      <th>0</th>\n",
       "      <td>709684</td>\n",
       "      <td>L095049</td>\n",
       "      <td>NaN</td>\n",
       "      <td>2010/01/04 07:44:10.721000000</td>\n",
       "      <td>2010/01/05 16:26:12.662000000</td>\n",
       "      <td>2008023265.0</td>\n",
       "      <td>ALUNO DE GRADUAÇÃO</td>\n",
       "      <td>2010</td>\n",
       "      <td>13259</td>\n",
       "      <td>Acervo Circulante</td>\n",
       "      <td>Biblioteca Central Zila Mamede</td>\n",
       "      <td>REGULAR</td>\n",
       "      <td>630</td>\n",
       "      <td>Ciências aplicadas.</td>\n",
       "    </tr>\n",
       "    <tr>\n",
       "      <th>1</th>\n",
       "      <td>709685</td>\n",
       "      <td>L167050</td>\n",
       "      <td>NaN</td>\n",
       "      <td>2010/01/04 07:44:10.750000000</td>\n",
       "      <td>2010/01/12 07:34:13.934000000</td>\n",
       "      <td>2008023265.0</td>\n",
       "      <td>ALUNO DE GRADUAÇÃO</td>\n",
       "      <td>2010</td>\n",
       "      <td>70865</td>\n",
       "      <td>Acervo Circulante</td>\n",
       "      <td>Biblioteca Central Zila Mamede</td>\n",
       "      <td>REGULAR</td>\n",
       "      <td>647</td>\n",
       "      <td>Ciências aplicadas.</td>\n",
       "    </tr>\n",
       "    <tr>\n",
       "      <th>2</th>\n",
       "      <td>709686</td>\n",
       "      <td>2006017618</td>\n",
       "      <td>2010/01/26 08:07:01.738000000</td>\n",
       "      <td>2010/01/04 08:08:44.081000000</td>\n",
       "      <td>2010/02/25 07:36:25.800000000</td>\n",
       "      <td>2008112114.0</td>\n",
       "      <td>ALUNO DE PÓS-GRADUAÇÃO</td>\n",
       "      <td>2010</td>\n",
       "      <td>195347</td>\n",
       "      <td>Acervo Circulante</td>\n",
       "      <td>Biblioteca Setorial Prof. Rodolfo Helinski - E...</td>\n",
       "      <td>REGULAR</td>\n",
       "      <td>640</td>\n",
       "      <td>Ciências aplicadas.</td>\n",
       "    </tr>\n",
       "    <tr>\n",
       "      <th>3</th>\n",
       "      <td>709687</td>\n",
       "      <td>L184117</td>\n",
       "      <td>2010/01/18 11:07:46.470000000</td>\n",
       "      <td>2010/01/04 08:24:21.284000000</td>\n",
       "      <td>2010/02/03 08:58:45.692000000</td>\n",
       "      <td>200721119.0</td>\n",
       "      <td>ALUNO DE GRADUAÇÃO</td>\n",
       "      <td>2010</td>\n",
       "      <td>131639</td>\n",
       "      <td>Acervo Circulante</td>\n",
       "      <td>Biblioteca Central Zila Mamede</td>\n",
       "      <td>REGULAR</td>\n",
       "      <td>609</td>\n",
       "      <td>Ciências aplicadas.</td>\n",
       "    </tr>\n",
       "    <tr>\n",
       "      <th>4</th>\n",
       "      <td>709684</td>\n",
       "      <td>L095049</td>\n",
       "      <td>NaN</td>\n",
       "      <td>2010/01/04 07:44:10.721000000</td>\n",
       "      <td>2010/01/05 16:26:12.662000000</td>\n",
       "      <td>2008023265.0</td>\n",
       "      <td>ALUNO DE GRADUAÇÃO</td>\n",
       "      <td>2010</td>\n",
       "      <td>13259</td>\n",
       "      <td>Acervo Circulante</td>\n",
       "      <td>Biblioteca Central Zila Mamede</td>\n",
       "      <td>REGULAR</td>\n",
       "      <td>630</td>\n",
       "      <td>Ciências aplicadas.</td>\n",
       "    </tr>\n",
       "  </tbody>\n",
       "</table>\n",
       "</div>"
      ],
      "text/plain": [
       "   id_emprestimo codigo_barras                 data_renovacao  \\\n",
       "0         709684       L095049                            NaN   \n",
       "1         709685       L167050                            NaN   \n",
       "2         709686    2006017618  2010/01/26 08:07:01.738000000   \n",
       "3         709687       L184117  2010/01/18 11:07:46.470000000   \n",
       "4         709684       L095049                            NaN   \n",
       "\n",
       "                 data_emprestimo                 data_devolucao  \\\n",
       "0  2010/01/04 07:44:10.721000000  2010/01/05 16:26:12.662000000   \n",
       "1  2010/01/04 07:44:10.750000000  2010/01/12 07:34:13.934000000   \n",
       "2  2010/01/04 08:08:44.081000000  2010/02/25 07:36:25.800000000   \n",
       "3  2010/01/04 08:24:21.284000000  2010/02/03 08:58:45.692000000   \n",
       "4  2010/01/04 07:44:10.721000000  2010/01/05 16:26:12.662000000   \n",
       "\n",
       "  matricula_ou_siape    tipo_vinculo_usuario ano_emprestimo  id_exemplar  \\\n",
       "0       2008023265.0      ALUNO DE GRADUAÇÃO           2010        13259   \n",
       "1       2008023265.0      ALUNO DE GRADUAÇÃO           2010        70865   \n",
       "2       2008112114.0  ALUNO DE PÓS-GRADUAÇÃO           2010       195347   \n",
       "3        200721119.0      ALUNO DE GRADUAÇÃO           2010       131639   \n",
       "4       2008023265.0      ALUNO DE GRADUAÇÃO           2010        13259   \n",
       "\n",
       "             colecao                                         biblioteca  \\\n",
       "0  Acervo Circulante                     Biblioteca Central Zila Mamede   \n",
       "1  Acervo Circulante                     Biblioteca Central Zila Mamede   \n",
       "2  Acervo Circulante  Biblioteca Setorial Prof. Rodolfo Helinski - E...   \n",
       "3  Acervo Circulante                     Biblioteca Central Zila Mamede   \n",
       "4  Acervo Circulante                     Biblioteca Central Zila Mamede   \n",
       "\n",
       "  status_material  localizacao                  cdu  \n",
       "0         REGULAR          630  Ciências aplicadas.  \n",
       "1         REGULAR          647  Ciências aplicadas.  \n",
       "2         REGULAR          640  Ciências aplicadas.  \n",
       "3         REGULAR          609  Ciências aplicadas.  \n",
       "4         REGULAR          630  Ciências aplicadas.  "
      ]
     },
     "execution_count": 118,
     "metadata": {},
     "output_type": "execute_result"
    }
   ],
   "source": [
    "df_completo.head()"
   ]
  },
  {
   "cell_type": "markdown",
   "metadata": {},
   "source": [
    "Aqui precisa filtar matricula e data de empréstimo"
   ]
  },
  {
   "cell_type": "code",
   "execution_count": 157,
   "metadata": {},
   "outputs": [
    {
     "data": {
      "text/html": [
       "<div>\n",
       "<style scoped>\n",
       "    .dataframe tbody tr th:only-of-type {\n",
       "        vertical-align: middle;\n",
       "    }\n",
       "\n",
       "    .dataframe tbody tr th {\n",
       "        vertical-align: top;\n",
       "    }\n",
       "\n",
       "    .dataframe thead th {\n",
       "        text-align: right;\n",
       "    }\n",
       "</style>\n",
       "<table border=\"1\" class=\"dataframe\">\n",
       "  <thead>\n",
       "    <tr style=\"text-align: right;\">\n",
       "      <th></th>\n",
       "      <th>matricula_ou_siape</th>\n",
       "      <th>data_emprestimo</th>\n",
       "    </tr>\n",
       "  </thead>\n",
       "  <tbody>\n",
       "    <tr>\n",
       "      <th>0</th>\n",
       "      <td>2013021576.0</td>\n",
       "      <td>2015-01-02 09:16:49.566</td>\n",
       "    </tr>\n",
       "    <tr>\n",
       "      <th>1</th>\n",
       "      <td>2014026648.0</td>\n",
       "      <td>2015-01-02 09:44:42.808</td>\n",
       "    </tr>\n",
       "    <tr>\n",
       "      <th>2</th>\n",
       "      <td>2014026648.0</td>\n",
       "      <td>2015-01-02 09:44:43.127</td>\n",
       "    </tr>\n",
       "    <tr>\n",
       "      <th>3</th>\n",
       "      <td>2010049586.0</td>\n",
       "      <td>2015-01-02 10:11:09.837</td>\n",
       "    </tr>\n",
       "    <tr>\n",
       "      <th>4</th>\n",
       "      <td>2014021454.0</td>\n",
       "      <td>2015-01-02 10:19:38.087</td>\n",
       "    </tr>\n",
       "    <tr>\n",
       "      <th>...</th>\n",
       "      <td>...</td>\n",
       "      <td>...</td>\n",
       "    </tr>\n",
       "    <tr>\n",
       "      <th>788109</th>\n",
       "      <td>20190154579.0</td>\n",
       "      <td>2020-03-18 16:26:20.477</td>\n",
       "    </tr>\n",
       "    <tr>\n",
       "      <th>788110</th>\n",
       "      <td>20160129109.0</td>\n",
       "      <td>2020-03-18 16:41:28.500</td>\n",
       "    </tr>\n",
       "    <tr>\n",
       "      <th>788111</th>\n",
       "      <td>20160129109.0</td>\n",
       "      <td>2020-03-18 16:41:28.588</td>\n",
       "    </tr>\n",
       "    <tr>\n",
       "      <th>788112</th>\n",
       "      <td>20160129109.0</td>\n",
       "      <td>2020-03-18 16:41:28.662</td>\n",
       "    </tr>\n",
       "    <tr>\n",
       "      <th>788113</th>\n",
       "      <td>20160129109.0</td>\n",
       "      <td>2020-03-18 16:41:28.713</td>\n",
       "    </tr>\n",
       "  </tbody>\n",
       "</table>\n",
       "<p>788114 rows × 2 columns</p>\n",
       "</div>"
      ],
      "text/plain": [
       "       matricula_ou_siape         data_emprestimo\n",
       "0            2013021576.0 2015-01-02 09:16:49.566\n",
       "1            2014026648.0 2015-01-02 09:44:42.808\n",
       "2            2014026648.0 2015-01-02 09:44:43.127\n",
       "3            2010049586.0 2015-01-02 10:11:09.837\n",
       "4            2014021454.0 2015-01-02 10:19:38.087\n",
       "...                   ...                     ...\n",
       "788109      20190154579.0 2020-03-18 16:26:20.477\n",
       "788110      20160129109.0 2020-03-18 16:41:28.500\n",
       "788111      20160129109.0 2020-03-18 16:41:28.588\n",
       "788112      20160129109.0 2020-03-18 16:41:28.662\n",
       "788113      20160129109.0 2020-03-18 16:41:28.713\n",
       "\n",
       "[788114 rows x 2 columns]"
      ]
     },
     "execution_count": 157,
     "metadata": {},
     "output_type": "execute_result"
    }
   ],
   "source": [
    "# Colocando só graduação e colunas matricula e dados de empréstimo\n",
    "\n",
    "matricula_emprestimo = df_completo.query('tipo_vinculo_usuario == \"ALUNO DE GRADUAÇÃO\"')\n",
    "matricula_emprestimo = matricula_emprestimo.loc[:,['matricula_ou_siape', 'data_emprestimo']]\n",
    "matricula_emprestimo['data_emprestimo'] = pd.to_datetime(matricula_emprestimo['data_emprestimo'])\n",
    "matricula_emprestimo = matricula_emprestimo.query('data_emprestimo > 2015')\n",
    "matricula_emprestimo = matricula_emprestimo.reset_index(drop=True)\n",
    "matricula_emprestimo"
   ]
  },
  {
   "cell_type": "code",
   "execution_count": 158,
   "metadata": {},
   "outputs": [
    {
     "data": {
      "text/plain": [
       "matricula_ou_siape    0\n",
       "data_emprestimo       0\n",
       "dtype: int64"
      ]
     },
     "execution_count": 158,
     "metadata": {},
     "output_type": "execute_result"
    }
   ],
   "source": [
    "matricula_emprestimo.isnull().sum()"
   ]
  },
  {
   "cell_type": "code",
   "execution_count": 159,
   "metadata": {},
   "outputs": [
    {
     "data": {
      "text/html": [
       "<div>\n",
       "<style scoped>\n",
       "    .dataframe tbody tr th:only-of-type {\n",
       "        vertical-align: middle;\n",
       "    }\n",
       "\n",
       "    .dataframe tbody tr th {\n",
       "        vertical-align: top;\n",
       "    }\n",
       "\n",
       "    .dataframe thead th {\n",
       "        text-align: right;\n",
       "    }\n",
       "</style>\n",
       "<table border=\"1\" class=\"dataframe\">\n",
       "  <thead>\n",
       "    <tr style=\"text-align: right;\">\n",
       "      <th></th>\n",
       "      <th>matricula_ou_siape</th>\n",
       "      <th>data_emprestimo</th>\n",
       "    </tr>\n",
       "  </thead>\n",
       "  <tbody>\n",
       "    <tr>\n",
       "      <th>0</th>\n",
       "      <td>2013021576.0</td>\n",
       "      <td>2015-01-02 09:16:49.566</td>\n",
       "    </tr>\n",
       "    <tr>\n",
       "      <th>1</th>\n",
       "      <td>2014026648.0</td>\n",
       "      <td>2015-01-02 09:44:42.808</td>\n",
       "    </tr>\n",
       "    <tr>\n",
       "      <th>2</th>\n",
       "      <td>2014026648.0</td>\n",
       "      <td>2015-01-02 09:44:43.127</td>\n",
       "    </tr>\n",
       "    <tr>\n",
       "      <th>3</th>\n",
       "      <td>2010049586.0</td>\n",
       "      <td>2015-01-02 10:11:09.837</td>\n",
       "    </tr>\n",
       "    <tr>\n",
       "      <th>4</th>\n",
       "      <td>2014021454.0</td>\n",
       "      <td>2015-01-02 10:19:38.087</td>\n",
       "    </tr>\n",
       "    <tr>\n",
       "      <th>...</th>\n",
       "      <td>...</td>\n",
       "      <td>...</td>\n",
       "    </tr>\n",
       "    <tr>\n",
       "      <th>788109</th>\n",
       "      <td>20190154579.0</td>\n",
       "      <td>2020-03-18 16:26:20.477</td>\n",
       "    </tr>\n",
       "    <tr>\n",
       "      <th>788110</th>\n",
       "      <td>20160129109.0</td>\n",
       "      <td>2020-03-18 16:41:28.500</td>\n",
       "    </tr>\n",
       "    <tr>\n",
       "      <th>788111</th>\n",
       "      <td>20160129109.0</td>\n",
       "      <td>2020-03-18 16:41:28.588</td>\n",
       "    </tr>\n",
       "    <tr>\n",
       "      <th>788112</th>\n",
       "      <td>20160129109.0</td>\n",
       "      <td>2020-03-18 16:41:28.662</td>\n",
       "    </tr>\n",
       "    <tr>\n",
       "      <th>788113</th>\n",
       "      <td>20160129109.0</td>\n",
       "      <td>2020-03-18 16:41:28.713</td>\n",
       "    </tr>\n",
       "  </tbody>\n",
       "</table>\n",
       "<p>788114 rows × 2 columns</p>\n",
       "</div>"
      ],
      "text/plain": [
       "       matricula_ou_siape         data_emprestimo\n",
       "0            2013021576.0 2015-01-02 09:16:49.566\n",
       "1            2014026648.0 2015-01-02 09:44:42.808\n",
       "2            2014026648.0 2015-01-02 09:44:43.127\n",
       "3            2010049586.0 2015-01-02 10:11:09.837\n",
       "4            2014021454.0 2015-01-02 10:19:38.087\n",
       "...                   ...                     ...\n",
       "788109      20190154579.0 2020-03-18 16:26:20.477\n",
       "788110      20160129109.0 2020-03-18 16:41:28.500\n",
       "788111      20160129109.0 2020-03-18 16:41:28.588\n",
       "788112      20160129109.0 2020-03-18 16:41:28.662\n",
       "788113      20160129109.0 2020-03-18 16:41:28.713\n",
       "\n",
       "[788114 rows x 2 columns]"
      ]
     },
     "execution_count": 159,
     "metadata": {},
     "output_type": "execute_result"
    }
   ],
   "source": [
    "matricula_emprestimo.dropna()"
   ]
  },
  {
   "cell_type": "code",
   "execution_count": 167,
   "metadata": {},
   "outputs": [
    {
     "data": {
      "text/html": [
       "<div>\n",
       "<style scoped>\n",
       "    .dataframe tbody tr th:only-of-type {\n",
       "        vertical-align: middle;\n",
       "    }\n",
       "\n",
       "    .dataframe tbody tr th {\n",
       "        vertical-align: top;\n",
       "    }\n",
       "\n",
       "    .dataframe thead th {\n",
       "        text-align: right;\n",
       "    }\n",
       "</style>\n",
       "<table border=\"1\" class=\"dataframe\">\n",
       "  <thead>\n",
       "    <tr style=\"text-align: right;\">\n",
       "      <th></th>\n",
       "      <th>matricula_ou_siape</th>\n",
       "      <th>tipo_vinculo_usuario</th>\n",
       "      <th>curso</th>\n",
       "    </tr>\n",
       "  </thead>\n",
       "  <tbody>\n",
       "    <tr>\n",
       "      <th>0</th>\n",
       "      <td>2010000017.0</td>\n",
       "      <td>ALUNO DE GRADUAÇÃO</td>\n",
       "      <td>DIREITO</td>\n",
       "    </tr>\n",
       "    <tr>\n",
       "      <th>9</th>\n",
       "      <td>2010004345.0</td>\n",
       "      <td>ALUNO DE GRADUAÇÃO</td>\n",
       "      <td>CIÊNCIAS SOCIAIS</td>\n",
       "    </tr>\n",
       "    <tr>\n",
       "      <th>20</th>\n",
       "      <td>2010012810.0</td>\n",
       "      <td>ALUNO DE GRADUAÇÃO</td>\n",
       "      <td>COMUNICAÇÃO SOCIAL</td>\n",
       "    </tr>\n",
       "    <tr>\n",
       "      <th>25</th>\n",
       "      <td>2010012887.0</td>\n",
       "      <td>ALUNO DE GRADUAÇÃO</td>\n",
       "      <td>BIBLIOTECONOMIA</td>\n",
       "    </tr>\n",
       "    <tr>\n",
       "      <th>27</th>\n",
       "      <td>2010012917.0</td>\n",
       "      <td>ALUNO DE GRADUAÇÃO</td>\n",
       "      <td>COMUNICAÇÃO SOCIAL</td>\n",
       "    </tr>\n",
       "    <tr>\n",
       "      <th>...</th>\n",
       "      <td>...</td>\n",
       "      <td>...</td>\n",
       "      <td>...</td>\n",
       "    </tr>\n",
       "    <tr>\n",
       "      <th>72789</th>\n",
       "      <td>20200097481.0</td>\n",
       "      <td>ALUNO DE GRADUAÇÃO</td>\n",
       "      <td>PEDAGOGIA</td>\n",
       "    </tr>\n",
       "    <tr>\n",
       "      <th>72796</th>\n",
       "      <td>20200107087.0</td>\n",
       "      <td>ALUNO DE GRADUAÇÃO</td>\n",
       "      <td>PEDAGOGIA</td>\n",
       "    </tr>\n",
       "    <tr>\n",
       "      <th>72797</th>\n",
       "      <td>20200012706.0</td>\n",
       "      <td>ALUNO DE GRADUAÇÃO</td>\n",
       "      <td>BIBLIOTECONOMIA</td>\n",
       "    </tr>\n",
       "    <tr>\n",
       "      <th>72800</th>\n",
       "      <td>20200009344.0</td>\n",
       "      <td>ALUNO DE GRADUAÇÃO</td>\n",
       "      <td>BIBLIOTECONOMIA</td>\n",
       "    </tr>\n",
       "    <tr>\n",
       "      <th>72801</th>\n",
       "      <td>20200090284.0</td>\n",
       "      <td>ALUNO DE GRADUAÇÃO</td>\n",
       "      <td>DIREITO</td>\n",
       "    </tr>\n",
       "  </tbody>\n",
       "</table>\n",
       "<p>18833 rows × 3 columns</p>\n",
       "</div>"
      ],
      "text/plain": [
       "      matricula_ou_siape tipo_vinculo_usuario               curso\n",
       "0           2010000017.0   ALUNO DE GRADUAÇÃO             DIREITO\n",
       "9           2010004345.0   ALUNO DE GRADUAÇÃO    CIÊNCIAS SOCIAIS\n",
       "20          2010012810.0   ALUNO DE GRADUAÇÃO  COMUNICAÇÃO SOCIAL\n",
       "25          2010012887.0   ALUNO DE GRADUAÇÃO     BIBLIOTECONOMIA\n",
       "27          2010012917.0   ALUNO DE GRADUAÇÃO  COMUNICAÇÃO SOCIAL\n",
       "...                  ...                  ...                 ...\n",
       "72789      20200097481.0   ALUNO DE GRADUAÇÃO           PEDAGOGIA\n",
       "72796      20200107087.0   ALUNO DE GRADUAÇÃO           PEDAGOGIA\n",
       "72797      20200012706.0   ALUNO DE GRADUAÇÃO     BIBLIOTECONOMIA\n",
       "72800      20200009344.0   ALUNO DE GRADUAÇÃO     BIBLIOTECONOMIA\n",
       "72801      20200090284.0   ALUNO DE GRADUAÇÃO             DIREITO\n",
       "\n",
       "[18833 rows x 3 columns]"
      ]
     },
     "execution_count": 167,
     "metadata": {},
     "output_type": "execute_result"
    }
   ],
   "source": [
    "df_matriculas_selecionados = df_matriculas.query(\"curso == ['BIBLIOTECONOMIA','CIÊNCIAS SOCIAIS','COMUNICAÇÃO SOCIAL','DIREITO','FILOSOFIA','PEDAGOGIA']\")\n",
    "df_matriculas_selecionados"
   ]
  },
  {
   "cell_type": "code",
   "execution_count": 168,
   "metadata": {},
   "outputs": [
    {
     "data": {
      "text/html": [
       "<div>\n",
       "<style scoped>\n",
       "    .dataframe tbody tr th:only-of-type {\n",
       "        vertical-align: middle;\n",
       "    }\n",
       "\n",
       "    .dataframe tbody tr th {\n",
       "        vertical-align: top;\n",
       "    }\n",
       "\n",
       "    .dataframe thead th {\n",
       "        text-align: right;\n",
       "    }\n",
       "</style>\n",
       "<table border=\"1\" class=\"dataframe\">\n",
       "  <thead>\n",
       "    <tr style=\"text-align: right;\">\n",
       "      <th></th>\n",
       "      <th>matricula_ou_siape</th>\n",
       "      <th>data_emprestimo</th>\n",
       "      <th>tipo_vinculo_usuario</th>\n",
       "      <th>curso</th>\n",
       "    </tr>\n",
       "  </thead>\n",
       "  <tbody>\n",
       "    <tr>\n",
       "      <th>0</th>\n",
       "      <td>2014021454.0</td>\n",
       "      <td>2015-01-02 10:19:38.087</td>\n",
       "      <td>ALUNO DE GRADUAÇÃO</td>\n",
       "      <td>FILOSOFIA</td>\n",
       "    </tr>\n",
       "    <tr>\n",
       "      <th>1</th>\n",
       "      <td>2013018187.0</td>\n",
       "      <td>2015-01-02 10:25:40.883</td>\n",
       "      <td>ALUNO DE GRADUAÇÃO</td>\n",
       "      <td>DIREITO</td>\n",
       "    </tr>\n",
       "    <tr>\n",
       "      <th>2</th>\n",
       "      <td>2014029499.0</td>\n",
       "      <td>2015-01-02 12:26:43.571</td>\n",
       "      <td>ALUNO DE GRADUAÇÃO</td>\n",
       "      <td>CIÊNCIAS SOCIAIS</td>\n",
       "    </tr>\n",
       "    <tr>\n",
       "      <th>3</th>\n",
       "      <td>2014029499.0</td>\n",
       "      <td>2015-01-02 12:26:43.840</td>\n",
       "      <td>ALUNO DE GRADUAÇÃO</td>\n",
       "      <td>CIÊNCIAS SOCIAIS</td>\n",
       "    </tr>\n",
       "    <tr>\n",
       "      <th>4</th>\n",
       "      <td>2014029499.0</td>\n",
       "      <td>2015-01-02 12:26:44.750</td>\n",
       "      <td>ALUNO DE GRADUAÇÃO</td>\n",
       "      <td>CIÊNCIAS SOCIAIS</td>\n",
       "    </tr>\n",
       "    <tr>\n",
       "      <th>...</th>\n",
       "      <td>...</td>\n",
       "      <td>...</td>\n",
       "      <td>...</td>\n",
       "      <td>...</td>\n",
       "    </tr>\n",
       "    <tr>\n",
       "      <th>212834</th>\n",
       "      <td>20200090284.0</td>\n",
       "      <td>2020-03-17 20:23:54.966</td>\n",
       "      <td>ALUNO DE GRADUAÇÃO</td>\n",
       "      <td>DIREITO</td>\n",
       "    </tr>\n",
       "    <tr>\n",
       "      <th>212835</th>\n",
       "      <td>20180113385.0</td>\n",
       "      <td>2020-03-17 21:20:47.278</td>\n",
       "      <td>ALUNO DE GRADUAÇÃO</td>\n",
       "      <td>CIÊNCIAS SOCIAIS</td>\n",
       "    </tr>\n",
       "    <tr>\n",
       "      <th>212836</th>\n",
       "      <td>20190150079.0</td>\n",
       "      <td>2020-03-18 13:43:53.220</td>\n",
       "      <td>ALUNO DE GRADUAÇÃO</td>\n",
       "      <td>PEDAGOGIA</td>\n",
       "    </tr>\n",
       "    <tr>\n",
       "      <th>212837</th>\n",
       "      <td>20190150079.0</td>\n",
       "      <td>2020-03-18 13:43:53.389</td>\n",
       "      <td>ALUNO DE GRADUAÇÃO</td>\n",
       "      <td>PEDAGOGIA</td>\n",
       "    </tr>\n",
       "    <tr>\n",
       "      <th>212838</th>\n",
       "      <td>20190150079.0</td>\n",
       "      <td>2020-03-18 13:43:53.456</td>\n",
       "      <td>ALUNO DE GRADUAÇÃO</td>\n",
       "      <td>PEDAGOGIA</td>\n",
       "    </tr>\n",
       "  </tbody>\n",
       "</table>\n",
       "<p>212839 rows × 4 columns</p>\n",
       "</div>"
      ],
      "text/plain": [
       "       matricula_ou_siape         data_emprestimo tipo_vinculo_usuario  \\\n",
       "0            2014021454.0 2015-01-02 10:19:38.087   ALUNO DE GRADUAÇÃO   \n",
       "1            2013018187.0 2015-01-02 10:25:40.883   ALUNO DE GRADUAÇÃO   \n",
       "2            2014029499.0 2015-01-02 12:26:43.571   ALUNO DE GRADUAÇÃO   \n",
       "3            2014029499.0 2015-01-02 12:26:43.840   ALUNO DE GRADUAÇÃO   \n",
       "4            2014029499.0 2015-01-02 12:26:44.750   ALUNO DE GRADUAÇÃO   \n",
       "...                   ...                     ...                  ...   \n",
       "212834      20200090284.0 2020-03-17 20:23:54.966   ALUNO DE GRADUAÇÃO   \n",
       "212835      20180113385.0 2020-03-17 21:20:47.278   ALUNO DE GRADUAÇÃO   \n",
       "212836      20190150079.0 2020-03-18 13:43:53.220   ALUNO DE GRADUAÇÃO   \n",
       "212837      20190150079.0 2020-03-18 13:43:53.389   ALUNO DE GRADUAÇÃO   \n",
       "212838      20190150079.0 2020-03-18 13:43:53.456   ALUNO DE GRADUAÇÃO   \n",
       "\n",
       "                   curso  \n",
       "0              FILOSOFIA  \n",
       "1                DIREITO  \n",
       "2       CIÊNCIAS SOCIAIS  \n",
       "3       CIÊNCIAS SOCIAIS  \n",
       "4       CIÊNCIAS SOCIAIS  \n",
       "...                  ...  \n",
       "212834           DIREITO  \n",
       "212835  CIÊNCIAS SOCIAIS  \n",
       "212836         PEDAGOGIA  \n",
       "212837         PEDAGOGIA  \n",
       "212838         PEDAGOGIA  \n",
       "\n",
       "[212839 rows x 4 columns]"
      ]
     },
     "execution_count": 168,
     "metadata": {},
     "output_type": "execute_result"
    }
   ],
   "source": [
    "# unindo dataframes\n",
    "\n",
    "matriculas_completo = matricula_emprestimo.merge(df_matriculas_selecionados)\n",
    "matriculas_completo"
   ]
  },
  {
   "cell_type": "code",
   "execution_count": 169,
   "metadata": {},
   "outputs": [
    {
     "data": {
      "text/html": [
       "<div>\n",
       "<style scoped>\n",
       "    .dataframe tbody tr th:only-of-type {\n",
       "        vertical-align: middle;\n",
       "    }\n",
       "\n",
       "    .dataframe tbody tr th {\n",
       "        vertical-align: top;\n",
       "    }\n",
       "\n",
       "    .dataframe thead th {\n",
       "        text-align: right;\n",
       "    }\n",
       "</style>\n",
       "<table border=\"1\" class=\"dataframe\">\n",
       "  <thead>\n",
       "    <tr style=\"text-align: right;\">\n",
       "      <th></th>\n",
       "      <th>matricula_ou_siape</th>\n",
       "      <th>data_emprestimo</th>\n",
       "      <th>tipo_vinculo_usuario</th>\n",
       "      <th>curso</th>\n",
       "    </tr>\n",
       "  </thead>\n",
       "  <tbody>\n",
       "    <tr>\n",
       "      <th>0</th>\n",
       "      <td>2014021454.0</td>\n",
       "      <td>2015</td>\n",
       "      <td>ALUNO DE GRADUAÇÃO</td>\n",
       "      <td>FILOSOFIA</td>\n",
       "    </tr>\n",
       "    <tr>\n",
       "      <th>1</th>\n",
       "      <td>2013018187.0</td>\n",
       "      <td>2015</td>\n",
       "      <td>ALUNO DE GRADUAÇÃO</td>\n",
       "      <td>DIREITO</td>\n",
       "    </tr>\n",
       "    <tr>\n",
       "      <th>2</th>\n",
       "      <td>2014029499.0</td>\n",
       "      <td>2015</td>\n",
       "      <td>ALUNO DE GRADUAÇÃO</td>\n",
       "      <td>CIÊNCIAS SOCIAIS</td>\n",
       "    </tr>\n",
       "    <tr>\n",
       "      <th>3</th>\n",
       "      <td>2014029499.0</td>\n",
       "      <td>2015</td>\n",
       "      <td>ALUNO DE GRADUAÇÃO</td>\n",
       "      <td>CIÊNCIAS SOCIAIS</td>\n",
       "    </tr>\n",
       "    <tr>\n",
       "      <th>4</th>\n",
       "      <td>2014029499.0</td>\n",
       "      <td>2015</td>\n",
       "      <td>ALUNO DE GRADUAÇÃO</td>\n",
       "      <td>CIÊNCIAS SOCIAIS</td>\n",
       "    </tr>\n",
       "    <tr>\n",
       "      <th>...</th>\n",
       "      <td>...</td>\n",
       "      <td>...</td>\n",
       "      <td>...</td>\n",
       "      <td>...</td>\n",
       "    </tr>\n",
       "    <tr>\n",
       "      <th>212834</th>\n",
       "      <td>20200090284.0</td>\n",
       "      <td>2020</td>\n",
       "      <td>ALUNO DE GRADUAÇÃO</td>\n",
       "      <td>DIREITO</td>\n",
       "    </tr>\n",
       "    <tr>\n",
       "      <th>212835</th>\n",
       "      <td>20180113385.0</td>\n",
       "      <td>2020</td>\n",
       "      <td>ALUNO DE GRADUAÇÃO</td>\n",
       "      <td>CIÊNCIAS SOCIAIS</td>\n",
       "    </tr>\n",
       "    <tr>\n",
       "      <th>212836</th>\n",
       "      <td>20190150079.0</td>\n",
       "      <td>2020</td>\n",
       "      <td>ALUNO DE GRADUAÇÃO</td>\n",
       "      <td>PEDAGOGIA</td>\n",
       "    </tr>\n",
       "    <tr>\n",
       "      <th>212837</th>\n",
       "      <td>20190150079.0</td>\n",
       "      <td>2020</td>\n",
       "      <td>ALUNO DE GRADUAÇÃO</td>\n",
       "      <td>PEDAGOGIA</td>\n",
       "    </tr>\n",
       "    <tr>\n",
       "      <th>212838</th>\n",
       "      <td>20190150079.0</td>\n",
       "      <td>2020</td>\n",
       "      <td>ALUNO DE GRADUAÇÃO</td>\n",
       "      <td>PEDAGOGIA</td>\n",
       "    </tr>\n",
       "  </tbody>\n",
       "</table>\n",
       "<p>212839 rows × 4 columns</p>\n",
       "</div>"
      ],
      "text/plain": [
       "       matricula_ou_siape  data_emprestimo tipo_vinculo_usuario  \\\n",
       "0            2014021454.0             2015   ALUNO DE GRADUAÇÃO   \n",
       "1            2013018187.0             2015   ALUNO DE GRADUAÇÃO   \n",
       "2            2014029499.0             2015   ALUNO DE GRADUAÇÃO   \n",
       "3            2014029499.0             2015   ALUNO DE GRADUAÇÃO   \n",
       "4            2014029499.0             2015   ALUNO DE GRADUAÇÃO   \n",
       "...                   ...              ...                  ...   \n",
       "212834      20200090284.0             2020   ALUNO DE GRADUAÇÃO   \n",
       "212835      20180113385.0             2020   ALUNO DE GRADUAÇÃO   \n",
       "212836      20190150079.0             2020   ALUNO DE GRADUAÇÃO   \n",
       "212837      20190150079.0             2020   ALUNO DE GRADUAÇÃO   \n",
       "212838      20190150079.0             2020   ALUNO DE GRADUAÇÃO   \n",
       "\n",
       "                   curso  \n",
       "0              FILOSOFIA  \n",
       "1                DIREITO  \n",
       "2       CIÊNCIAS SOCIAIS  \n",
       "3       CIÊNCIAS SOCIAIS  \n",
       "4       CIÊNCIAS SOCIAIS  \n",
       "...                  ...  \n",
       "212834           DIREITO  \n",
       "212835  CIÊNCIAS SOCIAIS  \n",
       "212836         PEDAGOGIA  \n",
       "212837         PEDAGOGIA  \n",
       "212838         PEDAGOGIA  \n",
       "\n",
       "[212839 rows x 4 columns]"
      ]
     },
     "execution_count": 169,
     "metadata": {},
     "output_type": "execute_result"
    }
   ],
   "source": [
    "matriculas_completo['data_emprestimo'] = matriculas_completo['data_emprestimo'].dt.year\n",
    "matriculas_completo"
   ]
  },
  {
   "cell_type": "code",
   "execution_count": 170,
   "metadata": {},
   "outputs": [
    {
     "data": {
      "text/html": [
       "<div>\n",
       "<style scoped>\n",
       "    .dataframe tbody tr th:only-of-type {\n",
       "        vertical-align: middle;\n",
       "    }\n",
       "\n",
       "    .dataframe tbody tr th {\n",
       "        vertical-align: top;\n",
       "    }\n",
       "\n",
       "    .dataframe thead th {\n",
       "        text-align: right;\n",
       "    }\n",
       "</style>\n",
       "<table border=\"1\" class=\"dataframe\">\n",
       "  <thead>\n",
       "    <tr style=\"text-align: right;\">\n",
       "      <th></th>\n",
       "      <th>Ano</th>\n",
       "      <th>Curso</th>\n",
       "      <th>Emprestimos</th>\n",
       "    </tr>\n",
       "  </thead>\n",
       "  <tbody>\n",
       "    <tr>\n",
       "      <th>0</th>\n",
       "      <td>2017</td>\n",
       "      <td>COMUNICAÇÃO SOCIAL</td>\n",
       "      <td>8253</td>\n",
       "    </tr>\n",
       "    <tr>\n",
       "      <th>1</th>\n",
       "      <td>2016</td>\n",
       "      <td>COMUNICAÇÃO SOCIAL</td>\n",
       "      <td>7973</td>\n",
       "    </tr>\n",
       "    <tr>\n",
       "      <th>2</th>\n",
       "      <td>2017</td>\n",
       "      <td>DIREITO</td>\n",
       "      <td>7885</td>\n",
       "    </tr>\n",
       "    <tr>\n",
       "      <th>3</th>\n",
       "      <td>2015</td>\n",
       "      <td>BIBLIOTECONOMIA</td>\n",
       "      <td>7784</td>\n",
       "    </tr>\n",
       "    <tr>\n",
       "      <th>4</th>\n",
       "      <td>2015</td>\n",
       "      <td>DIREITO</td>\n",
       "      <td>7665</td>\n",
       "    </tr>\n",
       "    <tr>\n",
       "      <th>5</th>\n",
       "      <td>2016</td>\n",
       "      <td>FILOSOFIA</td>\n",
       "      <td>7576</td>\n",
       "    </tr>\n",
       "    <tr>\n",
       "      <th>6</th>\n",
       "      <td>2015</td>\n",
       "      <td>CIÊNCIAS SOCIAIS</td>\n",
       "      <td>7489</td>\n",
       "    </tr>\n",
       "    <tr>\n",
       "      <th>7</th>\n",
       "      <td>2017</td>\n",
       "      <td>PEDAGOGIA</td>\n",
       "      <td>7434</td>\n",
       "    </tr>\n",
       "    <tr>\n",
       "      <th>8</th>\n",
       "      <td>2017</td>\n",
       "      <td>FILOSOFIA</td>\n",
       "      <td>7389</td>\n",
       "    </tr>\n",
       "    <tr>\n",
       "      <th>9</th>\n",
       "      <td>2016</td>\n",
       "      <td>DIREITO</td>\n",
       "      <td>7363</td>\n",
       "    </tr>\n",
       "    <tr>\n",
       "      <th>10</th>\n",
       "      <td>2017</td>\n",
       "      <td>BIBLIOTECONOMIA</td>\n",
       "      <td>7307</td>\n",
       "    </tr>\n",
       "    <tr>\n",
       "      <th>11</th>\n",
       "      <td>2015</td>\n",
       "      <td>PEDAGOGIA</td>\n",
       "      <td>7189</td>\n",
       "    </tr>\n",
       "    <tr>\n",
       "      <th>12</th>\n",
       "      <td>2016</td>\n",
       "      <td>PEDAGOGIA</td>\n",
       "      <td>7153</td>\n",
       "    </tr>\n",
       "    <tr>\n",
       "      <th>13</th>\n",
       "      <td>2015</td>\n",
       "      <td>COMUNICAÇÃO SOCIAL</td>\n",
       "      <td>7147</td>\n",
       "    </tr>\n",
       "    <tr>\n",
       "      <th>14</th>\n",
       "      <td>2016</td>\n",
       "      <td>BIBLIOTECONOMIA</td>\n",
       "      <td>7044</td>\n",
       "    </tr>\n",
       "    <tr>\n",
       "      <th>15</th>\n",
       "      <td>2018</td>\n",
       "      <td>DIREITO</td>\n",
       "      <td>7027</td>\n",
       "    </tr>\n",
       "    <tr>\n",
       "      <th>16</th>\n",
       "      <td>2016</td>\n",
       "      <td>CIÊNCIAS SOCIAIS</td>\n",
       "      <td>6979</td>\n",
       "    </tr>\n",
       "    <tr>\n",
       "      <th>17</th>\n",
       "      <td>2018</td>\n",
       "      <td>COMUNICAÇÃO SOCIAL</td>\n",
       "      <td>6953</td>\n",
       "    </tr>\n",
       "    <tr>\n",
       "      <th>18</th>\n",
       "      <td>2015</td>\n",
       "      <td>FILOSOFIA</td>\n",
       "      <td>6950</td>\n",
       "    </tr>\n",
       "    <tr>\n",
       "      <th>19</th>\n",
       "      <td>2017</td>\n",
       "      <td>CIÊNCIAS SOCIAIS</td>\n",
       "      <td>6918</td>\n",
       "    </tr>\n",
       "    <tr>\n",
       "      <th>20</th>\n",
       "      <td>2018</td>\n",
       "      <td>PEDAGOGIA</td>\n",
       "      <td>6518</td>\n",
       "    </tr>\n",
       "    <tr>\n",
       "      <th>21</th>\n",
       "      <td>2018</td>\n",
       "      <td>BIBLIOTECONOMIA</td>\n",
       "      <td>6378</td>\n",
       "    </tr>\n",
       "    <tr>\n",
       "      <th>22</th>\n",
       "      <td>2018</td>\n",
       "      <td>FILOSOFIA</td>\n",
       "      <td>6296</td>\n",
       "    </tr>\n",
       "    <tr>\n",
       "      <th>23</th>\n",
       "      <td>2018</td>\n",
       "      <td>CIÊNCIAS SOCIAIS</td>\n",
       "      <td>6181</td>\n",
       "    </tr>\n",
       "    <tr>\n",
       "      <th>24</th>\n",
       "      <td>2019</td>\n",
       "      <td>BIBLIOTECONOMIA</td>\n",
       "      <td>5889</td>\n",
       "    </tr>\n",
       "    <tr>\n",
       "      <th>25</th>\n",
       "      <td>2019</td>\n",
       "      <td>COMUNICAÇÃO SOCIAL</td>\n",
       "      <td>5885</td>\n",
       "    </tr>\n",
       "    <tr>\n",
       "      <th>26</th>\n",
       "      <td>2019</td>\n",
       "      <td>PEDAGOGIA</td>\n",
       "      <td>5869</td>\n",
       "    </tr>\n",
       "    <tr>\n",
       "      <th>27</th>\n",
       "      <td>2019</td>\n",
       "      <td>DIREITO</td>\n",
       "      <td>5861</td>\n",
       "    </tr>\n",
       "    <tr>\n",
       "      <th>28</th>\n",
       "      <td>2019</td>\n",
       "      <td>CIÊNCIAS SOCIAIS</td>\n",
       "      <td>5788</td>\n",
       "    </tr>\n",
       "    <tr>\n",
       "      <th>29</th>\n",
       "      <td>2019</td>\n",
       "      <td>FILOSOFIA</td>\n",
       "      <td>5572</td>\n",
       "    </tr>\n",
       "    <tr>\n",
       "      <th>30</th>\n",
       "      <td>2020</td>\n",
       "      <td>DIREITO</td>\n",
       "      <td>905</td>\n",
       "    </tr>\n",
       "    <tr>\n",
       "      <th>31</th>\n",
       "      <td>2020</td>\n",
       "      <td>BIBLIOTECONOMIA</td>\n",
       "      <td>900</td>\n",
       "    </tr>\n",
       "    <tr>\n",
       "      <th>32</th>\n",
       "      <td>2020</td>\n",
       "      <td>PEDAGOGIA</td>\n",
       "      <td>866</td>\n",
       "    </tr>\n",
       "    <tr>\n",
       "      <th>33</th>\n",
       "      <td>2020</td>\n",
       "      <td>FILOSOFIA</td>\n",
       "      <td>832</td>\n",
       "    </tr>\n",
       "    <tr>\n",
       "      <th>34</th>\n",
       "      <td>2020</td>\n",
       "      <td>CIÊNCIAS SOCIAIS</td>\n",
       "      <td>825</td>\n",
       "    </tr>\n",
       "    <tr>\n",
       "      <th>35</th>\n",
       "      <td>2020</td>\n",
       "      <td>COMUNICAÇÃO SOCIAL</td>\n",
       "      <td>796</td>\n",
       "    </tr>\n",
       "  </tbody>\n",
       "</table>\n",
       "</div>"
      ],
      "text/plain": [
       "     Ano               Curso  Emprestimos\n",
       "0   2017  COMUNICAÇÃO SOCIAL         8253\n",
       "1   2016  COMUNICAÇÃO SOCIAL         7973\n",
       "2   2017             DIREITO         7885\n",
       "3   2015     BIBLIOTECONOMIA         7784\n",
       "4   2015             DIREITO         7665\n",
       "5   2016           FILOSOFIA         7576\n",
       "6   2015    CIÊNCIAS SOCIAIS         7489\n",
       "7   2017           PEDAGOGIA         7434\n",
       "8   2017           FILOSOFIA         7389\n",
       "9   2016             DIREITO         7363\n",
       "10  2017     BIBLIOTECONOMIA         7307\n",
       "11  2015           PEDAGOGIA         7189\n",
       "12  2016           PEDAGOGIA         7153\n",
       "13  2015  COMUNICAÇÃO SOCIAL         7147\n",
       "14  2016     BIBLIOTECONOMIA         7044\n",
       "15  2018             DIREITO         7027\n",
       "16  2016    CIÊNCIAS SOCIAIS         6979\n",
       "17  2018  COMUNICAÇÃO SOCIAL         6953\n",
       "18  2015           FILOSOFIA         6950\n",
       "19  2017    CIÊNCIAS SOCIAIS         6918\n",
       "20  2018           PEDAGOGIA         6518\n",
       "21  2018     BIBLIOTECONOMIA         6378\n",
       "22  2018           FILOSOFIA         6296\n",
       "23  2018    CIÊNCIAS SOCIAIS         6181\n",
       "24  2019     BIBLIOTECONOMIA         5889\n",
       "25  2019  COMUNICAÇÃO SOCIAL         5885\n",
       "26  2019           PEDAGOGIA         5869\n",
       "27  2019             DIREITO         5861\n",
       "28  2019    CIÊNCIAS SOCIAIS         5788\n",
       "29  2019           FILOSOFIA         5572\n",
       "30  2020             DIREITO          905\n",
       "31  2020     BIBLIOTECONOMIA          900\n",
       "32  2020           PEDAGOGIA          866\n",
       "33  2020           FILOSOFIA          832\n",
       "34  2020    CIÊNCIAS SOCIAIS          825\n",
       "35  2020  COMUNICAÇÃO SOCIAL          796"
      ]
     },
     "execution_count": 170,
     "metadata": {},
     "output_type": "execute_result"
    }
   ],
   "source": [
    "matriculas_completo = matriculas_completo.iloc[:,[1,3]].value_counts().reset_index()\n",
    "matriculas_completo.columns = ['Ano', 'Curso', 'Emprestimos']\n",
    "matriculas_completo"
   ]
  },
  {
   "cell_type": "markdown",
   "metadata": {},
   "source": [
    "Tabela Pivot"
   ]
  },
  {
   "cell_type": "code",
   "execution_count": 172,
   "metadata": {},
   "outputs": [
    {
     "name": "stderr",
     "output_type": "stream",
     "text": [
      "C:\\Users\\corre\\AppData\\Local\\Temp\\ipykernel_12524\\3510774688.py:1: FutureWarning:\n",
      "\n",
      "The provided callable <built-in function sum> is currently using DataFrameGroupBy.sum. In a future version of pandas, the provided callable will be used directly. To keep current behavior pass the string \"sum\" instead.\n",
      "\n",
      "C:\\Users\\corre\\AppData\\Local\\Temp\\ipykernel_12524\\3510774688.py:1: FutureWarning:\n",
      "\n",
      "The provided callable <built-in function sum> is currently using DataFrameGroupBy.sum. In a future version of pandas, the provided callable will be used directly. To keep current behavior pass the string \"sum\" instead.\n",
      "\n",
      "C:\\Users\\corre\\AppData\\Local\\Temp\\ipykernel_12524\\3510774688.py:1: FutureWarning:\n",
      "\n",
      "The provided callable <built-in function sum> is currently using DataFrameGroupBy.sum. In a future version of pandas, the provided callable will be used directly. To keep current behavior pass the string \"sum\" instead.\n",
      "\n"
     ]
    },
    {
     "data": {
      "text/html": [
       "<div>\n",
       "<style scoped>\n",
       "    .dataframe tbody tr th:only-of-type {\n",
       "        vertical-align: middle;\n",
       "    }\n",
       "\n",
       "    .dataframe tbody tr th {\n",
       "        vertical-align: top;\n",
       "    }\n",
       "\n",
       "    .dataframe thead th {\n",
       "        text-align: right;\n",
       "    }\n",
       "</style>\n",
       "<table border=\"1\" class=\"dataframe\">\n",
       "  <thead>\n",
       "    <tr style=\"text-align: right;\">\n",
       "      <th>Ano</th>\n",
       "      <th>2015</th>\n",
       "      <th>2016</th>\n",
       "      <th>2017</th>\n",
       "      <th>2018</th>\n",
       "      <th>2019</th>\n",
       "      <th>2020</th>\n",
       "      <th>Total</th>\n",
       "    </tr>\n",
       "    <tr>\n",
       "      <th>Curso</th>\n",
       "      <th></th>\n",
       "      <th></th>\n",
       "      <th></th>\n",
       "      <th></th>\n",
       "      <th></th>\n",
       "      <th></th>\n",
       "      <th></th>\n",
       "    </tr>\n",
       "  </thead>\n",
       "  <tbody>\n",
       "    <tr>\n",
       "      <th>BIBLIOTECONOMIA</th>\n",
       "      <td>7784</td>\n",
       "      <td>7044</td>\n",
       "      <td>7307</td>\n",
       "      <td>6378</td>\n",
       "      <td>5889</td>\n",
       "      <td>900</td>\n",
       "      <td>35302</td>\n",
       "    </tr>\n",
       "    <tr>\n",
       "      <th>CIÊNCIAS SOCIAIS</th>\n",
       "      <td>7489</td>\n",
       "      <td>6979</td>\n",
       "      <td>6918</td>\n",
       "      <td>6181</td>\n",
       "      <td>5788</td>\n",
       "      <td>825</td>\n",
       "      <td>34180</td>\n",
       "    </tr>\n",
       "    <tr>\n",
       "      <th>COMUNICAÇÃO SOCIAL</th>\n",
       "      <td>7147</td>\n",
       "      <td>7973</td>\n",
       "      <td>8253</td>\n",
       "      <td>6953</td>\n",
       "      <td>5885</td>\n",
       "      <td>796</td>\n",
       "      <td>37007</td>\n",
       "    </tr>\n",
       "    <tr>\n",
       "      <th>DIREITO</th>\n",
       "      <td>7665</td>\n",
       "      <td>7363</td>\n",
       "      <td>7885</td>\n",
       "      <td>7027</td>\n",
       "      <td>5861</td>\n",
       "      <td>905</td>\n",
       "      <td>36706</td>\n",
       "    </tr>\n",
       "    <tr>\n",
       "      <th>FILOSOFIA</th>\n",
       "      <td>6950</td>\n",
       "      <td>7576</td>\n",
       "      <td>7389</td>\n",
       "      <td>6296</td>\n",
       "      <td>5572</td>\n",
       "      <td>832</td>\n",
       "      <td>34615</td>\n",
       "    </tr>\n",
       "    <tr>\n",
       "      <th>PEDAGOGIA</th>\n",
       "      <td>7189</td>\n",
       "      <td>7153</td>\n",
       "      <td>7434</td>\n",
       "      <td>6518</td>\n",
       "      <td>5869</td>\n",
       "      <td>866</td>\n",
       "      <td>35029</td>\n",
       "    </tr>\n",
       "    <tr>\n",
       "      <th>Total</th>\n",
       "      <td>44224</td>\n",
       "      <td>44088</td>\n",
       "      <td>45186</td>\n",
       "      <td>39353</td>\n",
       "      <td>34864</td>\n",
       "      <td>5124</td>\n",
       "      <td>212839</td>\n",
       "    </tr>\n",
       "  </tbody>\n",
       "</table>\n",
       "</div>"
      ],
      "text/plain": [
       "Ano                  2015   2016   2017   2018   2019  2020   Total\n",
       "Curso                                                              \n",
       "BIBLIOTECONOMIA      7784   7044   7307   6378   5889   900   35302\n",
       "CIÊNCIAS SOCIAIS     7489   6979   6918   6181   5788   825   34180\n",
       "COMUNICAÇÃO SOCIAL   7147   7973   8253   6953   5885   796   37007\n",
       "DIREITO              7665   7363   7885   7027   5861   905   36706\n",
       "FILOSOFIA            6950   7576   7389   6296   5572   832   34615\n",
       "PEDAGOGIA            7189   7153   7434   6518   5869   866   35029\n",
       "Total               44224  44088  45186  39353  34864  5124  212839"
      ]
     },
     "execution_count": 172,
     "metadata": {},
     "output_type": "execute_result"
    }
   ],
   "source": [
    "matriculas_completo_pivot = matriculas_completo.pivot_table(\n",
    "    index = 'Curso',\n",
    "    columns = 'Ano',\n",
    "    values = 'Emprestimos',\n",
    "    fill_value = '-',\n",
    "    aggfunc = sum,\n",
    "    margins = True,\n",
    "    margins_name = 'Total',\n",
    ")\n",
    "\n",
    "matriculas_completo_pivot"
   ]
  },
  {
   "cell_type": "code",
   "execution_count": null,
   "metadata": {},
   "outputs": [],
   "source": []
  }
 ],
 "metadata": {
  "kernelspec": {
   "display_name": "Python 3",
   "language": "python",
   "name": "python3"
  },
  "language_info": {
   "codemirror_mode": {
    "name": "ipython",
    "version": 3
   },
   "file_extension": ".py",
   "mimetype": "text/x-python",
   "name": "python",
   "nbconvert_exporter": "python",
   "pygments_lexer": "ipython3",
   "version": "3.12.4"
  }
 },
 "nbformat": 4,
 "nbformat_minor": 2
}
